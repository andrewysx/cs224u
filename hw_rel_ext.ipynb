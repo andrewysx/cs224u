{
 "cells": [
  {
   "cell_type": "markdown",
   "metadata": {},
   "source": [
    "# Homework and bake-off: Relation extraction using distant supervision"
   ]
  },
  {
   "cell_type": "code",
   "execution_count": 1,
   "metadata": {},
   "outputs": [],
   "source": [
    "__author__ = \"Bill MacCartney and Christopher Potts\"\n",
    "__version__ = \"CS224u, Stanford, Fall 2020\""
   ]
  },
  {
   "cell_type": "markdown",
   "metadata": {},
   "source": [
    "## Contents\n",
    "\n",
    "1. [Overview](#Overview)\n",
    "1. [Set-up](#Set-up)\n",
    "1. [Baselines](#Baselines)\n",
    "  1. [Hand-build feature functions](#Hand-build-feature-functions)\n",
    "  1. [Distributed representations](#Distributed-representations)\n",
    "1. [Homework questions](#Homework-questions)\n",
    "  1. [Different model factory [1 points]](#Different-model-factory-[1-points])\n",
    "  1. [Directional unigram features [1.5 points]](#Directional-unigram-features-[1.5-points])\n",
    "  1. [The part-of-speech tags of the \"middle\" words [1.5 points]](#The-part-of-speech-tags-of-the-\"middle\"-words-[1.5-points])\n",
    "  1. [Bag of Synsets [2 points]](#Bag-of-Synsets-[2-points])\n",
    "  1. [Your original system [3 points]](#Your-original-system-[3-points])\n",
    "1. [Bake-off [1 point]](#Bake-off-[1-point])"
   ]
  },
  {
   "cell_type": "markdown",
   "metadata": {},
   "source": [
    "## Overview\n",
    "\n",
    "This homework and associated bake-off are devoted to developing really effective relation extraction systems using distant supervision. \n",
    "\n",
    "As with the previous assignments, this notebook first establishes a baseline system. The initial homework questions ask you to create additional baselines and suggest areas for innovation, and the final homework question asks you to develop an original system for you to enter into the bake-off."
   ]
  },
  {
   "cell_type": "markdown",
   "metadata": {},
   "source": [
    "## Set-up\n",
    "\n",
    "See [the first notebook in this unit](rel_ext_01_task.ipynb#Set-up) for set-up instructions."
   ]
  },
  {
   "cell_type": "code",
   "execution_count": 2,
   "metadata": {},
   "outputs": [],
   "source": [
    "import numpy as np\n",
    "import os\n",
    "import rel_ext\n",
    "from sklearn.linear_model import LogisticRegression\n",
    "import utils"
   ]
  },
  {
   "cell_type": "code",
   "execution_count": 3,
   "metadata": {
    "pycharm": {
     "name": "#%%\n"
    }
   },
   "outputs": [],
   "source": [
    "# Set all the random seeds for reproducibility. Only the\n",
    "# system seed is relevant for this notebook.\n",
    "\n",
    "utils.fix_random_seeds()"
   ]
  },
  {
   "cell_type": "markdown",
   "metadata": {},
   "source": [
    "As usual, we unite our corpus and KB into a dataset, and create some splits for experimentation:"
   ]
  },
  {
   "cell_type": "code",
   "execution_count": 4,
   "metadata": {},
   "outputs": [],
   "source": [
    "rel_ext_data_home = os.path.join('data', 'rel_ext_data')"
   ]
  },
  {
   "cell_type": "code",
   "execution_count": 5,
   "metadata": {},
   "outputs": [],
   "source": [
    "corpus = rel_ext.Corpus(os.path.join(rel_ext_data_home, 'corpus.tsv.gz'))"
   ]
  },
  {
   "cell_type": "code",
   "execution_count": 6,
   "metadata": {},
   "outputs": [],
   "source": [
    "kb = rel_ext.KB(os.path.join(rel_ext_data_home, 'kb.tsv.gz'))"
   ]
  },
  {
   "cell_type": "code",
   "execution_count": 7,
   "metadata": {},
   "outputs": [],
   "source": [
    "dataset = rel_ext.Dataset(corpus, kb)"
   ]
  },
  {
   "cell_type": "markdown",
   "metadata": {},
   "source": [
    "You are not wedded to this set-up for splits. The bake-off will be conducted on a previously unseen test-set, so all of the data in `dataset` is fair game:"
   ]
  },
  {
   "cell_type": "code",
   "execution_count": 8,
   "metadata": {},
   "outputs": [],
   "source": [
    "splits = dataset.build_splits(\n",
    "    split_names=['tiny', 'train', 'dev'],\n",
    "    split_fracs=[0.01, 0.79, 0.20],\n",
    "    seed=1)"
   ]
  },
  {
   "cell_type": "code",
   "execution_count": 9,
   "metadata": {},
   "outputs": [
    {
     "data": {
      "text/plain": [
       "{'tiny': Corpus with 3,474 examples; KB with 445 triples,\n",
       " 'train': Corpus with 263,285 examples; KB with 36,191 triples,\n",
       " 'dev': Corpus with 64,937 examples; KB with 9,248 triples,\n",
       " 'all': Corpus with 331,696 examples; KB with 45,884 triples}"
      ]
     },
     "execution_count": 9,
     "metadata": {},
     "output_type": "execute_result"
    }
   ],
   "source": [
    "splits"
   ]
  },
  {
   "cell_type": "markdown",
   "metadata": {},
   "source": [
    "## Baselines"
   ]
  },
  {
   "cell_type": "markdown",
   "metadata": {},
   "source": [
    "### Hand-build feature functions"
   ]
  },
  {
   "cell_type": "code",
   "execution_count": 10,
   "metadata": {},
   "outputs": [],
   "source": [
    "def simple_bag_of_words_featurizer(kbt, corpus, feature_counter):\n",
    "    for ex in corpus.get_examples_for_entities(kbt.sbj, kbt.obj):\n",
    "        for word in ex.middle.split(' '):\n",
    "            feature_counter[word] += 1\n",
    "    for ex in corpus.get_examples_for_entities(kbt.obj, kbt.sbj):\n",
    "        for word in ex.middle.split(' '):\n",
    "            feature_counter[word] += 1\n",
    "    return feature_counter"
   ]
  },
  {
   "cell_type": "code",
   "execution_count": 11,
   "metadata": {},
   "outputs": [],
   "source": [
    "featurizers = [simple_bag_of_words_featurizer]"
   ]
  },
  {
   "cell_type": "code",
   "execution_count": 12,
   "metadata": {},
   "outputs": [],
   "source": [
    "model_factory = lambda: LogisticRegression(fit_intercept=True, solver='liblinear')"
   ]
  },
  {
   "cell_type": "code",
   "execution_count": 13,
   "metadata": {},
   "outputs": [
    {
     "name": "stdout",
     "output_type": "stream",
     "text": [
      "relation              precision     recall    f-score    support       size\n",
      "------------------    ---------  ---------  ---------  ---------  ---------\n",
      "adjoins                   0.893      0.368      0.694        340       5716\n",
      "author                    0.817      0.552      0.745        509       5885\n",
      "capital                   0.548      0.179      0.388         95       5471\n",
      "contains                  0.791      0.595      0.742       3904       9280\n",
      "film_performance          0.797      0.555      0.733        766       6142\n",
      "founders                  0.755      0.374      0.627        380       5756\n",
      "genre                     0.650      0.153      0.394        170       5546\n",
      "has_sibling               0.895      0.238      0.577        499       5875\n",
      "has_spouse                0.827      0.322      0.629        594       5970\n",
      "is_a                      0.646      0.205      0.452        497       5873\n",
      "nationality               0.621      0.196      0.433        301       5677\n",
      "parents                   0.879      0.535      0.779        312       5688\n",
      "place_of_birth            0.623      0.206      0.444        233       5609\n",
      "place_of_death            0.500      0.119      0.305        159       5535\n",
      "profession                0.632      0.194      0.436        247       5623\n",
      "worked_at                 0.632      0.248      0.482        242       5618\n",
      "------------------    ---------  ---------  ---------  ---------  ---------\n",
      "macro-average             0.719      0.315      0.554       9248      95264\n"
     ]
    }
   ],
   "source": [
    "baseline_results = rel_ext.experiment(\n",
    "    splits,\n",
    "    train_split='train',\n",
    "    test_split='dev',\n",
    "    featurizers=featurizers,\n",
    "    model_factory=model_factory,\n",
    "    verbose=True)"
   ]
  },
  {
   "cell_type": "markdown",
   "metadata": {},
   "source": [
    "Studying model weights might yield insights:"
   ]
  },
  {
   "cell_type": "code",
   "execution_count": 14,
   "metadata": {},
   "outputs": [
    {
     "name": "stdout",
     "output_type": "stream",
     "text": [
      "Highest and lowest feature weights for relation adjoins:\n",
      "\n",
      "     2.475 Córdoba\n",
      "     2.433 Taluks\n",
      "     2.217 Valais\n",
      "     ..... .....\n",
      "    -1.172 for\n",
      "    -1.404 6th\n",
      "    -1.595 century\n",
      "\n",
      "Highest and lowest feature weights for relation author:\n",
      "\n",
      "     3.072 author\n",
      "     2.563 wrote\n",
      "     2.330 writer\n",
      "     ..... .....\n",
      "    -2.399 directed\n",
      "    -2.605 chapter\n",
      "    -2.998 only\n",
      "\n",
      "Highest and lowest feature weights for relation capital:\n",
      "\n",
      "     2.677 capital\n",
      "     1.905 km\n",
      "     1.730 posted\n",
      "     ..... .....\n",
      "    -1.330 ’\n",
      "    -1.684 Madras\n",
      "    -2.046 borough\n",
      "\n",
      "Highest and lowest feature weights for relation contains:\n",
      "\n",
      "     2.883 third-largest\n",
      "     2.740 bordered\n",
      "     2.547 lies\n",
      "     ..... .....\n",
      "    -2.520 who\n",
      "    -3.090 6th\n",
      "    -3.921 Ceylon\n",
      "\n",
      "Highest and lowest feature weights for relation film_performance:\n",
      "\n",
      "     4.113 starring\n",
      "     3.538 co-starring\n",
      "     3.492 movie\n",
      "     ..... .....\n",
      "    -1.936 Wonderland\n",
      "    -1.936 Malice\n",
      "    -2.022 degree\n",
      "\n",
      "Highest and lowest feature weights for relation founders:\n",
      "\n",
      "     4.107 founded\n",
      "     3.761 founder\n",
      "     2.786 company\n",
      "     ..... .....\n",
      "    -1.857 top\n",
      "    -1.903 William\n",
      "    -1.995 Griffith\n",
      "\n",
      "Highest and lowest feature weights for relation genre:\n",
      "\n",
      "     2.664 series\n",
      "     2.622 movie\n",
      "     2.574 \n",
      "     ..... .....\n",
      "    -1.439 ;\n",
      "    -1.464 and\n",
      "    -1.849 at\n",
      "\n",
      "Highest and lowest feature weights for relation has_sibling:\n",
      "\n",
      "     5.106 brother\n",
      "     4.108 sister\n",
      "     2.937 nephew\n",
      "     ..... .....\n",
      "    -1.463 city\n",
      "    -1.651 Her\n",
      "    -1.867 formed\n",
      "\n",
      "Highest and lowest feature weights for relation has_spouse:\n",
      "\n",
      "     5.141 wife\n",
      "     4.493 husband\n",
      "     4.392 widow\n",
      "     ..... .....\n",
      "    -1.342 on\n",
      "    -1.429 philanthropist\n",
      "    -1.609 engineer\n",
      "\n",
      "Highest and lowest feature weights for relation is_a:\n",
      "\n",
      "     3.156 \n",
      "     2.706 order\n",
      "     2.438 Genus\n",
      "     ..... .....\n",
      "    -1.709 Corvus\n",
      "    -1.752 birds\n",
      "    -5.330 characin\n",
      "\n",
      "Highest and lowest feature weights for relation nationality:\n",
      "\n",
      "     2.622 born\n",
      "     2.059 Minister\n",
      "     1.923 July\n",
      "     ..... .....\n",
      "    -1.472 or\n",
      "    -1.626 American\n",
      "    -1.716 1961\n",
      "\n",
      "Highest and lowest feature weights for relation parents:\n",
      "\n",
      "     5.313 son\n",
      "     5.012 daughter\n",
      "     4.339 father\n",
      "     ..... .....\n",
      "    -1.308 great-grand\n",
      "    -1.408 India\n",
      "    -1.458 Fonda\n",
      "\n",
      "Highest and lowest feature weights for relation place_of_birth:\n",
      "\n",
      "     3.819 born\n",
      "     3.061 birthplace\n",
      "     2.931 mayor\n",
      "     ..... .....\n",
      "    -1.252 American\n",
      "    -1.422 or\n",
      "    -1.496 and\n",
      "\n",
      "Highest and lowest feature weights for relation place_of_death:\n",
      "\n",
      "     2.089 died\n",
      "     1.990 son\n",
      "     1.894 executed\n",
      "     ..... .....\n",
      "    -1.135 or\n",
      "    -1.266 and\n",
      "    -1.315 ”\n",
      "\n",
      "Highest and lowest feature weights for relation profession:\n",
      "\n",
      "     3.694 \n",
      "     2.453 British\n",
      "     2.443 vocalist\n",
      "     ..... .....\n",
      "    -1.253 in\n",
      "    -1.464 York\n",
      "    -2.219 on\n",
      "\n",
      "Highest and lowest feature weights for relation worked_at:\n",
      "\n",
      "     3.578 CEO\n",
      "     3.465 professor\n",
      "     2.578 president\n",
      "     ..... .....\n",
      "    -1.201 Wilson\n",
      "    -1.285 William\n",
      "    -1.681 or\n",
      "\n"
     ]
    }
   ],
   "source": [
    "rel_ext.examine_model_weights(baseline_results)"
   ]
  },
  {
   "cell_type": "markdown",
   "metadata": {},
   "source": [
    "### Distributed representations\n",
    "\n",
    "This simple baseline sums the GloVe vector representations for all of the words in the \"middle\" span and feeds those representations into the standard `LogisticRegression`-based `model_factory`. The crucial parameter that enables this is `vectorize=False`. This essentially says to `rel_ext.experiment` that your featurizer or your model will do the work of turning examples into vectors; in that case, `rel_ext.experiment` just organizes these representations by relation type."
   ]
  },
  {
   "cell_type": "code",
   "execution_count": 15,
   "metadata": {},
   "outputs": [],
   "source": [
    "GLOVE_HOME = os.path.join('data', 'glove.6B')"
   ]
  },
  {
   "cell_type": "code",
   "execution_count": 16,
   "metadata": {},
   "outputs": [],
   "source": [
    "glove_lookup = utils.glove2dict(\n",
    "    os.path.join(GLOVE_HOME, 'glove.6B.300d.txt'))"
   ]
  },
  {
   "cell_type": "code",
   "execution_count": 17,
   "metadata": {},
   "outputs": [],
   "source": [
    "def glove_middle_featurizer(kbt, corpus, np_func=np.sum):\n",
    "    reps = []\n",
    "    for ex in corpus.get_examples_for_entities(kbt.sbj, kbt.obj):\n",
    "        for word in ex.middle.split():\n",
    "            rep = glove_lookup.get(word)\n",
    "            if rep is not None:\n",
    "                reps.append(rep)\n",
    "    # A random representation of the right dimensionality if the\n",
    "    # example happens not to overlap with GloVe's vocabulary:\n",
    "    if len(reps) == 0:\n",
    "        dim = len(next(iter(glove_lookup.values())))\n",
    "        return utils.randvec(n=dim)\n",
    "    else:\n",
    "        return np_func(reps, axis=0)"
   ]
  },
  {
   "cell_type": "code",
   "execution_count": 18,
   "metadata": {},
   "outputs": [
    {
     "name": "stdout",
     "output_type": "stream",
     "text": [
      "relation              precision     recall    f-score    support       size\n",
      "------------------    ---------  ---------  ---------  ---------  ---------\n",
      "adjoins                   0.848      0.459      0.725        340       5716\n",
      "author                    0.871      0.436      0.726        509       5885\n",
      "capital                   0.576      0.200      0.419         95       5471\n",
      "contains                  0.661      0.409      0.589       3904       9280\n",
      "film_performance          0.827      0.332      0.637        766       6142\n",
      "founders                  0.806      0.218      0.524        380       5756\n",
      "genre                     0.500      0.065      0.213        170       5546\n",
      "has_sibling               0.826      0.246      0.562        499       5875\n",
      "has_spouse                0.841      0.355      0.660        594       5970\n",
      "is_a                      0.793      0.147      0.422        497       5873\n",
      "nationality               0.663      0.216      0.469        301       5677\n",
      "parents                   0.868      0.420      0.715        312       5688\n",
      "place_of_birth            0.646      0.219      0.464        233       5609\n",
      "place_of_death            0.467      0.132      0.310        159       5535\n",
      "profession                0.688      0.134      0.376        247       5623\n",
      "worked_at                 0.698      0.248      0.512        242       5618\n",
      "------------------    ---------  ---------  ---------  ---------  ---------\n",
      "macro-average             0.724      0.265      0.520       9248      95264\n"
     ]
    }
   ],
   "source": [
    "glove_results = rel_ext.experiment(\n",
    "    splits,\n",
    "    train_split='train',\n",
    "    test_split='dev',\n",
    "    featurizers=[glove_middle_featurizer],\n",
    "    vectorize=False, # Crucial for this featurizer!\n",
    "    verbose=True)"
   ]
  },
  {
   "cell_type": "markdown",
   "metadata": {},
   "source": [
    "With the same basic code design, one can also use the PyTorch models included in the course repo, or write new ones that are better aligned with the task. For those models, it's likely that the featurizer will just return a list of tokens (or perhaps a list of lists of tokens), and the model will map those into vectors using an embedding."
   ]
  },
  {
   "cell_type": "markdown",
   "metadata": {},
   "source": [
    "## Homework questions\n",
    "\n",
    "Please embed your homework responses in this notebook, and do not delete any cells from the notebook. (You are free to add as many cells as you like as part of your responses.)"
   ]
  },
  {
   "cell_type": "markdown",
   "metadata": {},
   "source": [
    "### Different model factory [1 points]\n",
    "\n",
    "The code in `rel_ext` makes it very easy to experiment with other classifier models: one need only redefine the `model_factory` argument. This question asks you to assess a [Support Vector Classifier](https://scikit-learn.org/stable/modules/generated/sklearn.svm.SVC.html).\n",
    "\n",
    "__To submit:__ A wrapper function `run_svm_model_factory` that does the following: \n",
    "\n",
    "1. Uses `rel_ext.experiment` with the model factory set to one based in an `SVC` with `kernel='linear'` and all other arguments left with default values. \n",
    "1. Trains on the 'train' part of `splits`.\n",
    "1. Assesses on the `dev` part of `splits`.\n",
    "1. Uses `featurizers` as defined above. \n",
    "1. Returns the return value of `rel_ext.experiment` for this set-up.\n",
    "\n",
    "The function `test_run_svm_model_factory` will check that your function conforms to these general specifications."
   ]
  },
  {
   "cell_type": "code",
   "execution_count": 19,
   "metadata": {},
   "outputs": [],
   "source": [
    "from sklearn.svm import SVC\n",
    "svm_model = lambda: SVC(kernel='linear')"
   ]
  },
  {
   "cell_type": "code",
   "execution_count": 20,
   "metadata": {},
   "outputs": [],
   "source": [
    "def run_svm_model_factory():\n",
    "    results = rel_ext.experiment(\n",
    "        splits,\n",
    "        train_split='train',\n",
    "        test_split='dev',\n",
    "        featurizers=featurizers,\n",
    "        model_factory=svm_model,\n",
    "        verbose=True)\n",
    "    return results"
   ]
  },
  {
   "cell_type": "code",
   "execution_count": 21,
   "metadata": {},
   "outputs": [],
   "source": [
    "def test_run_svm_model_factory(run_svm_model_factory):\n",
    "    results = run_svm_model_factory()\n",
    "    assert 'featurizers' in results, \\\n",
    "        \"The return value of `run_svm_model_factory` seems not to be correct\"\n",
    "    # Check one of the models to make sure it's an SVC:\n",
    "    assert 'SVC' in results['models']['adjoins'].__class__.__name__, \\\n",
    "        \"It looks like the model factor wasn't set to use an SVC.\""
   ]
  },
  {
   "cell_type": "code",
   "execution_count": 22,
   "metadata": {},
   "outputs": [
    {
     "name": "stdout",
     "output_type": "stream",
     "text": [
      "relation              precision     recall    f-score    support       size\n",
      "------------------    ---------  ---------  ---------  ---------  ---------\n",
      "adjoins                   0.773      0.321      0.603        340       5716\n",
      "author                    0.753      0.599      0.716        509       5885\n",
      "capital                   0.587      0.284      0.484         95       5471\n",
      "contains                  0.777      0.601      0.734       3904       9280\n",
      "film_performance          0.771      0.623      0.736        766       6142\n",
      "founders                  0.697      0.424      0.617        380       5756\n",
      "genre                     0.600      0.247      0.467        170       5546\n",
      "has_sibling               0.831      0.246      0.564        499       5875\n",
      "has_spouse                0.794      0.337      0.624        594       5970\n",
      "is_a                      0.603      0.266      0.481        497       5873\n",
      "nationality               0.566      0.186      0.402        301       5677\n",
      "parents                   0.828      0.587      0.765        312       5688\n",
      "place_of_birth            0.542      0.223      0.421        233       5609\n",
      "place_of_death            0.500      0.119      0.305        159       5535\n",
      "profession                0.598      0.271      0.482        247       5623\n",
      "worked_at                 0.586      0.281      0.482        242       5618\n",
      "------------------    ---------  ---------  ---------  ---------  ---------\n",
      "macro-average             0.675      0.351      0.555       9248      95264\n"
     ]
    }
   ],
   "source": [
    "if 'IS_GRADESCOPE_ENV' not in os.environ:\n",
    "    test_run_svm_model_factory(run_svm_model_factory)"
   ]
  },
  {
   "cell_type": "markdown",
   "metadata": {},
   "source": [
    "### Directional unigram features [1.5 points]\n",
    "\n",
    "The current bag-of-words representation makes no distinction between \"forward\" and \"reverse\" examples. But, intuitively, there is big difference between _X and his son Y_ and _Y and his son X_. This question asks you to modify `simple_bag_of_words_featurizer` to capture these differences. \n",
    "\n",
    "__To submit:__\n",
    "\n",
    "1. A feature function `directional_bag_of_words_featurizer` that is just like `simple_bag_of_words_featurizer` except that it distinguishes \"forward\" and \"reverse\". To do this, you just need to mark each word feature for whether it is derived from a subject–object example or from an object–subject example.  The included function `test_directional_bag_of_words_featurizer` should help verify that you've done this correctly.\n",
    "\n",
    "2. A call to `rel_ext.experiment` with `directional_bag_of_words_featurizer` as the only featurizer. (Aside from this, use all the default values for `rel_ext.experiment` as exemplified above in this notebook.)\n",
    "\n",
    "3. `rel_ext.experiment` returns some of the core objects used in the experiment. How many feature names does the `vectorizer` have for the experiment run in the previous step? Include the code needed for getting this value. (Note: we're partly asking you to figure out how to get this value by using the sklearn documentation, so please don't ask how to do it!)"
   ]
  },
  {
   "cell_type": "code",
   "execution_count": 23,
   "metadata": {},
   "outputs": [
    {
     "name": "stdout",
     "output_type": "stream",
     "text": [
      "relation              precision     recall    f-score    support       size\n",
      "------------------    ---------  ---------  ---------  ---------  ---------\n",
      "adjoins                   0.845      0.418      0.702        340       5716\n",
      "author                    0.868      0.605      0.798        509       5885\n",
      "capital                   0.700      0.221      0.488         95       5471\n",
      "contains                  0.803      0.664      0.771       3904       9280\n",
      "film_performance          0.835      0.653      0.791        766       6142\n",
      "founders                  0.840      0.413      0.696        380       5756\n",
      "genre                     0.700      0.247      0.512        170       5546\n",
      "has_sibling               0.893      0.251      0.590        499       5875\n",
      "has_spouse                0.840      0.354      0.659        594       5970\n",
      "is_a                      0.721      0.239      0.514        497       5873\n",
      "nationality               0.650      0.216      0.464        301       5677\n",
      "parents                   0.889      0.513      0.775        312       5688\n",
      "place_of_birth            0.701      0.232      0.499        233       5609\n",
      "place_of_death            0.512      0.138      0.332        159       5535\n",
      "profession                0.698      0.243      0.508        247       5623\n",
      "worked_at                 0.730      0.269      0.543        242       5618\n",
      "------------------    ---------  ---------  ---------  ---------  ---------\n",
      "macro-average             0.764      0.355      0.603       9248      95264\n"
     ]
    }
   ],
   "source": [
    "def directional_bag_of_words_featurizer(kbt, corpus, feature_counter):\n",
    "    # Append these to the end of the keys you add/access in\n",
    "    # `feature_counter` to distinguish the two orders. You'll\n",
    "    # need to use exactly these strings in order to pass\n",
    "    # `test_directional_bag_of_words_featurizer`.\n",
    "    subject_object_suffix = \"_SO\"\n",
    "    object_subject_suffix = \"_OS\"\n",
    "\n",
    "    for ex in corpus.get_examples_for_entities(kbt.sbj, kbt.obj):\n",
    "        for word in ex.middle.split(' '):\n",
    "            feature_counter[word + subject_object_suffix] += 1\n",
    "    for ex in corpus.get_examples_for_entities(kbt.obj, kbt.sbj):\n",
    "        for word in ex.middle.split(' '):\n",
    "            feature_counter[word + object_subject_suffix] += 1\n",
    "\n",
    "    return feature_counter\n",
    "\n",
    "\n",
    "# Call to `rel_ext.experiment`:\n",
    "directional_bag_of_words_results = rel_ext.experiment(\n",
    "        splits,\n",
    "        train_split='train',\n",
    "        test_split='dev',\n",
    "        featurizers=[directional_bag_of_words_featurizer],\n",
    "        verbose=True)"
   ]
  },
  {
   "cell_type": "code",
   "execution_count": 24,
   "metadata": {},
   "outputs": [],
   "source": [
    "def test_directional_bag_of_words_featurizer(corpus):\n",
    "    from collections import defaultdict\n",
    "    kbt = rel_ext.KBTriple(rel='worked_at', sbj='Randall_Munroe', obj='xkcd')\n",
    "    feature_counter = defaultdict(int)\n",
    "    # Make sure `feature_counter` is being updated, not reinitialized:\n",
    "    feature_counter['is_OS'] += 5\n",
    "    feature_counter = directional_bag_of_words_featurizer(kbt, corpus, feature_counter)\n",
    "    expected = defaultdict(\n",
    "        int, {'is_OS':6,'a_OS':1,'webcomic_OS':1,'created_OS':1,'by_OS':1})\n",
    "    assert feature_counter == expected, \\\n",
    "        \"Expected:\\n{}\\nGot:\\n{}\".format(expected, feature_counter)"
   ]
  },
  {
   "cell_type": "code",
   "execution_count": 25,
   "metadata": {},
   "outputs": [],
   "source": [
    "if 'IS_GRADESCOPE_ENV' not in os.environ:\n",
    "    test_directional_bag_of_words_featurizer(corpus)"
   ]
  },
  {
   "cell_type": "code",
   "execution_count": 26,
   "metadata": {},
   "outputs": [
    {
     "name": "stdout",
     "output_type": "stream",
     "text": [
      "number of feature names: 40572\n"
     ]
    }
   ],
   "source": [
    "# How many feature names does the vectorizer have for the experiment run in the previous step? 40537\n",
    "directional_bag_of_words_vectorizer = directional_bag_of_words_results['vectorizer']\n",
    "directional_bag_of_words_features_names = directional_bag_of_words_vectorizer.get_feature_names()\n",
    "print('number of feature names: {}'.format(len(directional_bag_of_words_features_names)))"
   ]
  },
  {
   "cell_type": "markdown",
   "metadata": {},
   "source": [
    "### The part-of-speech tags of the \"middle\" words [1.5 points]\n",
    "\n",
    "Our corpus distribution contains part-of-speech (POS) tagged versions of the core text spans. Let's begin to explore whether there is information in these sequences, focusing on `middle_POS`.\n",
    "\n",
    "__To submit:__\n",
    "\n",
    "1. A feature function `middle_bigram_pos_tag_featurizer` that is just like `simple_bag_of_words_featurizer` except that it creates a feature for bigram POS sequences. For example, given \n",
    "\n",
    "  `The/DT dog/N napped/V`\n",
    "  \n",
    "   we obtain the list of bigram POS sequences\n",
    "  \n",
    "   `b = ['<s> DT', 'DT N', 'N V', 'V </s>']`. \n",
    "   \n",
    "   Of course, `middle_bigram_pos_tag_featurizer` should return count dictionaries defined in terms of such bigram POS lists, on the model of `simple_bag_of_words_featurizer`.  Don't forget the start and end tags, to model those environments properly! The included function `test_middle_bigram_pos_tag_featurizer` should help verify that you've done this correctly.\n",
    "\n",
    "2. A call to `rel_ext.experiment` with `middle_bigram_pos_tag_featurizer` as the only featurizer. (Aside from this, use all the default values for `rel_ext.experiment` as exemplified above in this notebook.)"
   ]
  },
  {
   "cell_type": "code",
   "execution_count": 27,
   "metadata": {},
   "outputs": [
    {
     "name": "stdout",
     "output_type": "stream",
     "text": [
      "relation              precision     recall    f-score    support       size\n",
      "------------------    ---------  ---------  ---------  ---------  ---------\n",
      "adjoins                   0.855      0.347      0.661        340       5716\n",
      "author                    0.707      0.336      0.579        509       5885\n",
      "capital                   0.481      0.137      0.320         95       5471\n",
      "contains                  0.760      0.593      0.720       3904       9280\n",
      "film_performance          0.698      0.450      0.629        766       6142\n",
      "founders                  0.648      0.179      0.425        380       5756\n",
      "genre                     0.600      0.176      0.405        170       5546\n",
      "has_sibling               0.692      0.162      0.419        499       5875\n",
      "has_spouse                0.768      0.251      0.544        594       5970\n",
      "is_a                      0.576      0.161      0.380        497       5873\n",
      "nationality               0.344      0.073      0.197        301       5677\n",
      "parents                   0.624      0.266      0.492        312       5688\n",
      "place_of_birth            0.544      0.133      0.336        233       5609\n",
      "place_of_death            0.400      0.088      0.234        159       5535\n",
      "profession                0.587      0.178      0.402        247       5623\n",
      "worked_at                 0.577      0.124      0.333        242       5618\n",
      "------------------    ---------  ---------  ---------  ---------  ---------\n",
      "macro-average             0.616      0.228      0.442       9248      95264\n"
     ]
    }
   ],
   "source": [
    "def middle_bigram_pos_tag_featurizer(kbt, corpus, feature_counter):\n",
    "\n",
    "    for ex in corpus.get_examples_for_entities(kbt.sbj, kbt.obj):\n",
    "        for bigram in get_tag_bigrams(ex.middle_POS):\n",
    "            feature_counter[bigram] += 1\n",
    "    for ex in corpus.get_examples_for_entities(kbt.obj, kbt.sbj):\n",
    "        for bigram in get_tag_bigrams(ex.middle_POS):\n",
    "            feature_counter[bigram] += 1\n",
    "\n",
    "    return feature_counter\n",
    "\n",
    "\n",
    "def get_tag_bigrams(s):\n",
    "    \"\"\"Suggested helper method for `middle_bigram_pos_tag_featurizer`.\n",
    "    This should be defined so that it returns a list of str, where each\n",
    "    element is a POS bigram.\"\"\"\n",
    "    # The values of `start_symbol` and `end_symbol` are defined\n",
    "    # here so that you can use `test_middle_bigram_pos_tag_featurizer`.\n",
    "    start_symbol = \"<s>\"\n",
    "    end_symbol = \"</s>\"\n",
    "    \n",
    "    tags = [start_symbol] + get_tags(s) + [end_symbol]\n",
    "    return get_bigrams(tags)\n",
    "\n",
    "\n",
    "def get_bigrams(tags):\n",
    "    \"\"\"Given a list of POS sequences, returns a list of bigram POS sequences\"\"\"\n",
    "    return [t[0] + ' ' + t[1] for t in zip(tags[:-1], tags[1:])]\n",
    "\n",
    "\n",
    "def get_tags(s):\n",
    "    \"\"\"Given a sequence of word/POS elements (lemmas), this function\n",
    "    returns a list containing just the POS elements, in order.\n",
    "    \"\"\"\n",
    "    return [parse_lem(lem)[1] for lem in s.strip().split(' ') if lem]\n",
    "\n",
    "\n",
    "def parse_lem(lem):\n",
    "    \"\"\"Helper method for parsing word/POS elements. It just splits\n",
    "    on the rightmost / and returns (word, POS) as a tuple of str.\"\"\"\n",
    "    return lem.strip().rsplit('/', 1)\n",
    "\n",
    "# Call to `rel_ext.experiment`:\n",
    "middle_bigram_pos_tag_results = rel_ext.experiment(\n",
    "        splits,\n",
    "        train_split='train',\n",
    "        test_split='dev',\n",
    "        featurizers=[middle_bigram_pos_tag_featurizer],\n",
    "        verbose=True)"
   ]
  },
  {
   "cell_type": "code",
   "execution_count": 28,
   "metadata": {},
   "outputs": [],
   "source": [
    "def test_middle_bigram_pos_tag_featurizer(corpus):\n",
    "    from collections import defaultdict\n",
    "    kbt = rel_ext.KBTriple(rel='worked_at', sbj='Randall_Munroe', obj='xkcd')\n",
    "    feature_counter = defaultdict(int)\n",
    "    # Make sure `feature_counter` is being updated, not reinitialized:\n",
    "    feature_counter['<s> VBZ'] += 5\n",
    "    feature_counter = middle_bigram_pos_tag_featurizer(kbt, corpus, feature_counter)\n",
    "    expected = defaultdict(\n",
    "        int, {'<s> VBZ':6,'VBZ DT':1,'DT JJ':1,'JJ VBN':1,'VBN IN':1,'IN </s>':1})\n",
    "    assert feature_counter == expected, \\\n",
    "        \"Expected:\\n{}\\nGot:\\n{}\".format(expected, feature_counter)"
   ]
  },
  {
   "cell_type": "code",
   "execution_count": 29,
   "metadata": {},
   "outputs": [],
   "source": [
    "if 'IS_GRADESCOPE_ENV' not in os.environ:\n",
    "    test_middle_bigram_pos_tag_featurizer(corpus)"
   ]
  },
  {
   "cell_type": "markdown",
   "metadata": {},
   "source": [
    "### Bag of Synsets [2 points]\n",
    "\n",
    "The following allows you to use NLTK's WordNet API to get the synsets compatible with _dog_ as used as a noun:\n",
    "\n",
    "```\n",
    "from nltk.corpus import wordnet as wn\n",
    "dog = wn.synsets('dog', pos='n')\n",
    "dog\n",
    "[Synset('dog.n.01'),\n",
    " Synset('frump.n.01'),\n",
    " Synset('dog.n.03'),\n",
    " Synset('cad.n.01'),\n",
    " Synset('frank.n.02'),\n",
    " Synset('pawl.n.01'),\n",
    " Synset('andiron.n.01')]\n",
    "```\n",
    "\n",
    "This question asks you to create synset-based features from the word/tag pairs in `middle_POS`.\n",
    "\n",
    "__To submit:__\n",
    "\n",
    "1. A feature function `synset_featurizer` that is just like `simple_bag_of_words_featurizer` except that it returns a list of synsets derived from `middle_POS`. Stringify these objects with `str` so that they can be `dict` keys. Use `convert_tag` (included below) to convert tags to `pos` arguments usable by `wn.synsets`. The included function `test_synset_featurizer` should help verify that you've done this correctly.\n",
    "\n",
    "2. A call to `rel_ext.experiment` with `synset_featurizer` as the only featurizer. (Aside from this, use all the default values for `rel_ext.experiment`.)"
   ]
  },
  {
   "cell_type": "code",
   "execution_count": 30,
   "metadata": {},
   "outputs": [
    {
     "name": "stderr",
     "output_type": "stream",
     "text": [
      "/opt/miniconda3/envs/nlu/lib/python3.7/site-packages/sklearn/svm/_base.py:977: ConvergenceWarning: Liblinear failed to converge, increase the number of iterations.\n",
      "  \"the number of iterations.\", ConvergenceWarning)\n"
     ]
    },
    {
     "name": "stdout",
     "output_type": "stream",
     "text": [
      "relation              precision     recall    f-score    support       size\n",
      "------------------    ---------  ---------  ---------  ---------  ---------\n",
      "adjoins                   0.855      0.347      0.661        340       5716\n",
      "author                    0.780      0.446      0.678        509       5885\n",
      "capital                   0.559      0.200      0.411         95       5471\n",
      "contains                  0.786      0.589      0.737       3904       9280\n",
      "film_performance          0.791      0.548      0.727        766       6142\n",
      "founders                  0.696      0.379      0.596        380       5756\n",
      "genre                     0.508      0.188      0.379        170       5546\n",
      "has_sibling               0.824      0.216      0.528        499       5875\n",
      "has_spouse                0.844      0.301      0.621        594       5970\n",
      "is_a                      0.578      0.217      0.434        497       5873\n",
      "nationality               0.494      0.140      0.328        301       5677\n",
      "parents                   0.834      0.548      0.755        312       5688\n",
      "place_of_birth            0.562      0.215      0.424        233       5609\n",
      "place_of_death            0.426      0.126      0.288        159       5535\n",
      "profession                0.533      0.162      0.366        247       5623\n",
      "worked_at                 0.526      0.211      0.405        242       5618\n",
      "------------------    ---------  ---------  ---------  ---------  ---------\n",
      "macro-average             0.662      0.302      0.521       9248      95264\n"
     ]
    }
   ],
   "source": [
    "from nltk.corpus import wordnet as wn\n",
    "\n",
    "def synset_featurizer(kbt, corpus, feature_counter):\n",
    "\n",
    "    for ex in corpus.get_examples_for_entities(kbt.sbj, kbt.obj):\n",
    "        for synset in get_synsets(ex.middle_POS):\n",
    "            feature_counter[synset] += 1\n",
    "    for ex in corpus.get_examples_for_entities(kbt.obj, kbt.sbj):\n",
    "        for synset in get_synsets(ex.middle_POS):\n",
    "            feature_counter[synset] += 1\n",
    "\n",
    "    return feature_counter\n",
    "\n",
    "\n",
    "def get_synsets(s):\n",
    "    \"\"\"Suggested helper method for `synset_featurizer`. This should\n",
    "    be completed so that it returns a list of stringified Synsets\n",
    "    associated with elements of `s`.\n",
    "    \"\"\"\n",
    "    # Use `parse_lem` from the previous question to get a list of\n",
    "    # (word, POS) pairs. Remember to convert the POS strings.\n",
    "    wt = [parse_lem(lem) for lem in s.strip().split(' ') if lem]\n",
    "\n",
    "    return [str(synset) for p in wt for synset in wn.synsets(p[0], convert_tag(p[1]))]\n",
    "\n",
    "\n",
    "def convert_tag(t):\n",
    "    \"\"\"Converts tags so that they can be used by WordNet:\n",
    "\n",
    "    | Tag begins with | WordNet tag |\n",
    "    |-----------------|-------------|\n",
    "    | `N`             | `n`         |\n",
    "    | `V`             | `v`         |\n",
    "    | `J`             | `a`         |\n",
    "    | `R`             | `r`         |\n",
    "    | Otherwise       | `None`      |\n",
    "    \"\"\"\n",
    "    if t[0].lower() in {'n', 'v', 'r'}:\n",
    "        return t[0].lower()\n",
    "    elif t[0].lower() == 'j':\n",
    "        return 'a'\n",
    "    else:\n",
    "        return None\n",
    "\n",
    "\n",
    "# Call to `rel_ext.experiment`:\n",
    "synset_results = rel_ext.experiment(\n",
    "        splits,\n",
    "        train_split='train',\n",
    "        test_split='dev',\n",
    "        featurizers=[synset_featurizer],\n",
    "        verbose=True)"
   ]
  },
  {
   "cell_type": "code",
   "execution_count": 31,
   "metadata": {},
   "outputs": [],
   "source": [
    "def test_synset_featurizer(corpus):\n",
    "    from collections import defaultdict\n",
    "    kbt = rel_ext.KBTriple(rel='worked_at', sbj='Randall_Munroe', obj='xkcd')\n",
    "    feature_counter = defaultdict(int)\n",
    "    # Make sure `feature_counter` is being updated, not reinitialized:\n",
    "    feature_counter[\"Synset('be.v.01')\"] += 5\n",
    "    feature_counter = synset_featurizer(kbt, corpus, feature_counter)\n",
    "    # The full return values for this tend to be long, so we just\n",
    "    # test a few examples to avoid cluttering up this notebook.\n",
    "    test_cases = {\n",
    "        \"Synset('be.v.01')\": 6,\n",
    "        \"Synset('embody.v.02')\": 1\n",
    "    }\n",
    "    for ss, expected in test_cases.items():\n",
    "        result = feature_counter[ss]\n",
    "        assert result == expected, \\\n",
    "            \"Incorrect count for {}: Expected {}; Got {}\".format(ss, expected, result)"
   ]
  },
  {
   "cell_type": "code",
   "execution_count": 32,
   "metadata": {},
   "outputs": [],
   "source": [
    "if 'IS_GRADESCOPE_ENV' not in os.environ:\n",
    "    test_synset_featurizer(corpus)"
   ]
  },
  {
   "cell_type": "code",
   "execution_count": 33,
   "metadata": {},
   "outputs": [],
   "source": [
    "# from nltk.parse.stanford import StanfordDependencyParser\n",
    "\n",
    "# path_to_jar = os.path.join('stanford-parser-4.0.0', 'stanford-parser.jar')\n",
    "# path_to_models_jar = os.path.join('stanford-parser-4.0.0', 'stanford-parser-4.0.0-models.jar')\n",
    "\n",
    "# dependency_parser = StanfordDependencyParser(path_to_jar=path_to_jar, path_to_models_jar=path_to_models_jar)\n",
    "\n",
    "# sentence = 'my name is andrew.'\n",
    "# result = list(dependency_parser.raw_parse(sentence))[0]\n",
    "# [item for item in result.triples()]"
   ]
  },
  {
   "cell_type": "markdown",
   "metadata": {},
   "source": [
    "### Your original system [3 points]\n",
    "\n",
    "There are many options, and this could easily grow into a project. Here are a few ideas:\n",
    "\n",
    "- Try out different classifier models, from `sklearn` and elsewhere.\n",
    "- Add a feature that indicates the length of the middle.\n",
    "- Augment the bag-of-words representation to include bigrams or trigrams (not just unigrams).\n",
    "- Introduce features based on the entity mentions themselves. <!-- \\[SPOILER: it helps a lot, maybe 4% in F-score. And combines nicely with the directional features.\\] -->\n",
    "- Experiment with features based on the context outside (rather than between) the two entity mentions — that is, the words before the first mention, or after the second.\n",
    "- Try adding features which capture syntactic information, such as the dependency-path features used by Mintz et al. 2009. The [NLTK](https://www.nltk.org/) toolkit contains a variety of [parsing algorithms](http://www.nltk.org/api/nltk.parse.html) that may help.\n",
    "- The bag-of-words representation does not permit generalization across word categories such as names of people, places, or companies. Can we do better using word embeddings such as [GloVe](https://nlp.stanford.edu/projects/glove/)?\n",
    "\n",
    "In the cell below, please provide a brief technical description of your original system, so that the teaching team can gain an understanding of what it does. This will help us to understand your code and analyze all the submissions to identify patterns and strategies. We also ask that you report the best score your system got during development, just to help us understand how systems performed overall."
   ]
  },
  {
   "cell_type": "code",
   "execution_count": 37,
   "metadata": {},
   "outputs": [
    {
     "name": "stdout",
     "output_type": "stream",
     "text": [
      "relation              precision     recall    f-score    support       size\n",
      "------------------    ---------  ---------  ---------  ---------  ---------\n",
      "adjoins                   0.942      0.524      0.812        340       5716\n",
      "author                    0.938      0.766      0.897        509       5885\n",
      "capital                   0.882      0.316      0.649         95       5471\n",
      "contains                  0.898      0.829      0.883       3904       9280\n",
      "film_performance          0.943      0.668      0.871        766       6142\n",
      "founders                  0.953      0.429      0.766        380       5756\n",
      "genre                     0.943      0.294      0.654        170       5546\n",
      "has_sibling               0.953      0.491      0.802        499       5875\n",
      "has_spouse                0.966      0.582      0.854        594       5970\n",
      "is_a                      0.920      0.487      0.781        497       5873\n",
      "nationality               0.929      0.565      0.823        301       5677\n",
      "parents                   0.981      0.651      0.890        312       5688\n",
      "place_of_birth            0.979      0.399      0.759        233       5609\n",
      "place_of_death            0.978      0.277      0.649        159       5535\n",
      "profession                0.932      0.502      0.796        247       5623\n",
      "worked_at                 0.943      0.343      0.699        242       5618\n",
      "------------------    ---------  ---------  ---------  ---------  ---------\n",
      "macro-average             0.943      0.508      0.787       9248      95264\n"
     ]
    }
   ],
   "source": [
    "# PLEASE MAKE SURE TO INCLUDE THE FOLLOWING BETWEEN THE START AND STOP COMMENTS:\n",
    "#   1) Textual description of your system.\n",
    "#   2) The code for your original system.\n",
    "#   3) The score achieved by your system in place of MY_NUMBER.\n",
    "#        With no other changes to that line.\n",
    "#        You should report your score as a decimal value <=1.0\n",
    "# PLEASE MAKE SURE NOT TO DELETE OR EDIT THE START AND STOP COMMENTS\n",
    "\n",
    "# IMPORT ANY MODULES BELOW THE 'IS_GRADESCOPE_ENV' CHECK CONDITION. DOING\n",
    "# SO ABOVE THE CHECK MAY CAUSE THE AUTOGRADER TO FAIL.\n",
    "\n",
    "# START COMMENT: Enter your system description in this cell.\n",
    "# I use RandomForestClassifier with default parameters and following features:\n",
    "# 1. directional_middle_ngram_featurizer: unigrams, bigrams, trigrams of middle words for forward and backward directions\n",
    "# 2. directional_middle_pos_ngram_featurizer: unigrams, bigrams, trigrams of middle words' POS tags forward and backward directions\n",
    "# 3. detailed_entity_mention_featurizer: mention_1 and mention_2 \n",
    "# 4. detailed_entity_mention_pos_featurizer: mention_1_POS and mention_2_POS\n",
    "# 5. directional_middle_len_featurizer: average length of middle words for forward and backward directions\n",
    "# 6. detailed_left_right_window_featurizer: A window of {1, 2} words to the left of Entity 1 and right of Entity 2\n",
    "# 7. detailed_left_right_pos_window_featurizer: A window of {1, 2} words' POS tags to the left of Entity 1 and right of Entity 2\n",
    "# My peak score was: 0.787\n",
    "if 'IS_GRADESCOPE_ENV' not in os.environ:\n",
    "    import nltk\n",
    "    from nltk.util import ngrams\n",
    "    from sklearn.ensemble import RandomForestClassifier\n",
    "    \n",
    "    def get_ngrams(tokens, n=1):\n",
    "        if n == 1:\n",
    "            return [' '.join(ngram) for ngram in ngrams(tokens, n)]\n",
    "        else:\n",
    "            return [' '.join(ngram) for ngram \n",
    "                    in ngrams(tokens, n, pad_left=True, pad_right=True, \n",
    "                              left_pad_symbol='<s>', right_pad_symbol='</s>')]\n",
    "    \n",
    "    def directional_middle_ngram_featurizer(kbt, corpus, feature_counter):\n",
    "        subject_object_suffix = \"_SO\"\n",
    "        object_subject_suffix = \"_OS\"\n",
    "\n",
    "        for n in range(1, 4):\n",
    "            for ex in corpus.get_examples_for_entities(kbt.sbj, kbt.obj):\n",
    "                for ngram in get_ngrams(ex.middle.split(' '), n):\n",
    "                    feature_counter[ngram + subject_object_suffix] += 1\n",
    "            for ex in corpus.get_examples_for_entities(kbt.obj, kbt.sbj):\n",
    "                for ngram in get_ngrams(ex.middle.split(' '), n):\n",
    "                    feature_counter[ngram + object_subject_suffix] += 1\n",
    "\n",
    "        return feature_counter\n",
    "    \n",
    "    def directional_middle_pos_ngram_featurizer(kbt, corpus, feature_counter):\n",
    "        subject_object_suffix = \"_SO\"\n",
    "        object_subject_suffix = \"_OS\"\n",
    "\n",
    "        for n in range(1, 4):\n",
    "            for ex in corpus.get_examples_for_entities(kbt.sbj, kbt.obj):\n",
    "                for ngram in get_ngrams(get_tags(ex.middle_POS), n):\n",
    "                    feature_counter[ngram + subject_object_suffix] += 1\n",
    "            for ex in corpus.get_examples_for_entities(kbt.obj, kbt.sbj):\n",
    "                for ngram in get_ngrams(get_tags(ex.middle_POS), n):\n",
    "                    feature_counter[ngram + object_subject_suffix] += 1\n",
    "\n",
    "        return feature_counter\n",
    "    \n",
    "    def detailed_entity_mention_featurizer(kbt, corpus, feature_counter):\n",
    "        first_entity_subject_object_suffix = \"_1_SO\"\n",
    "        second_entity_subject_object_suffix = \"_2_SO\"\n",
    "        first_entity_object_subject_suffix = \"_1_OS\"\n",
    "        second_entity_object_subject_suffix = \"_2_OS\"\n",
    "\n",
    "        for ex in corpus.get_examples_for_entities(kbt.sbj, kbt.obj):\n",
    "            for mention in ex.mention_1.split(' '):\n",
    "                feature_counter[mention + first_entity_subject_object_suffix] += 1\n",
    "            for mention in ex.mention_2.split(' '):\n",
    "                feature_counter[mention + second_entity_subject_object_suffix] += 1\n",
    "        for ex in corpus.get_examples_for_entities(kbt.obj, kbt.sbj):\n",
    "            for mention in ex.mention_1.split(' '):\n",
    "                feature_counter[mention + first_entity_object_subject_suffix] += 1\n",
    "            for mention in ex.mention_2.split(' '):\n",
    "                feature_counter[mention + second_entity_object_subject_suffix] += 1\n",
    "\n",
    "        return feature_counter\n",
    "    \n",
    "    def detailed_entity_mention_pos_featurizer(kbt, corpus, feature_counter):\n",
    "        first_entity_subject_object_suffix = \"_1_SO\"\n",
    "        second_entity_subject_object_suffix = \"_2_SO\"\n",
    "        first_entity_object_subject_suffix = \"_1_OS\"\n",
    "        second_entity_object_subject_suffix = \"_2_OS\"\n",
    "\n",
    "        for ex in corpus.get_examples_for_entities(kbt.sbj, kbt.obj):\n",
    "            for pos in get_tags(ex.mention_1_POS):\n",
    "                feature_counter[pos + first_entity_subject_object_suffix] += 1\n",
    "            for pos in get_tags(ex.mention_2_POS):\n",
    "                feature_counter[pos + second_entity_subject_object_suffix] += 1\n",
    "        for ex in corpus.get_examples_for_entities(kbt.obj, kbt.sbj):\n",
    "            for pos in get_tags(ex.mention_1_POS):\n",
    "                feature_counter[pos + first_entity_object_subject_suffix] += 1\n",
    "            for pos in get_tags(ex.mention_2_POS):\n",
    "                feature_counter[pos + second_entity_object_subject_suffix] += 1\n",
    "\n",
    "        return feature_counter\n",
    "    \n",
    "    def directional_middle_len_featurizer(kbt, corpus, feature_counter):\n",
    "        subject_object_suffix = \"_SO\"\n",
    "        object_subject_suffix = \"_OS\"\n",
    "        middle_len_prefix = \"middle_len\"\n",
    "\n",
    "        middle_len_so = 0\n",
    "        ex_num_so = 0\n",
    "        for ex in corpus.get_examples_for_entities(kbt.sbj, kbt.obj):\n",
    "            middle_len_so += len(ex.middle)\n",
    "            ex_num_so += 1\n",
    "        feature_counter[middle_len_prefix + subject_object_suffix] = 0\n",
    "        if ex_num_so > 0:\n",
    "            feature_counter[middle_len_prefix + subject_object_suffix] = middle_len_so / ex_num_so\n",
    "\n",
    "        middle_len_os = 0\n",
    "        ex_num_os = 0\n",
    "        for ex in corpus.get_examples_for_entities(kbt.obj, kbt.sbj):\n",
    "            middle_len_os += len(ex.middle)\n",
    "            ex_num_os += 1\n",
    "        feature_counter[middle_len_prefix + object_subject_suffix] = 0\n",
    "        if ex_num_os > 0:\n",
    "            feature_counter[middle_len_prefix + object_subject_suffix] = middle_len_os / ex_num_os\n",
    "\n",
    "        return feature_counter\n",
    "    \n",
    "    def detailed_left_right_window_featurizer(kbt, corpus, feature_counter):\n",
    "        left_subject_object_suffix = \"_L_SO\"\n",
    "        left_object_subject_suffix = \"_L_OS\"\n",
    "        right_subject_object_suffix = \"_R_SO\"\n",
    "        right_object_subject_suffix = \"_R_OS\"\n",
    "        pad = '#PAD#'\n",
    "\n",
    "        for ex in corpus.get_examples_for_entities(kbt.sbj, kbt.obj):\n",
    "            # window size = 1\n",
    "            feature_counter[([pad] + ex.left.split(' ')[-1:])[-1] + left_subject_object_suffix] += 1\n",
    "            feature_counter[(ex.right.split(' ')[0:1] + [pad])[0] + right_subject_object_suffix] += 1\n",
    "            # window size = 2\n",
    "            feature_counter[' '.join(([pad] * 2 + ex.left.split(' ')[-2:])[-2:]) + left_subject_object_suffix] += 1\n",
    "            feature_counter[' '.join((ex.right.split(' ')[0:2] + [pad] * 2)[0:2]) + right_subject_object_suffix] += 1\n",
    "        for ex in corpus.get_examples_for_entities(kbt.obj, kbt.sbj):\n",
    "            # window size = 1\n",
    "            feature_counter[([pad] + ex.left.split(' ')[-1:])[-1] + left_object_subject_suffix] += 1\n",
    "            feature_counter[(ex.right.split(' ')[0:1] + [pad])[0] + right_object_subject_suffix] += 1\n",
    "            # window size = 2\n",
    "            feature_counter[' '.join(([pad] * 2 + ex.left.split(' ')[-2:])[-2:]) + left_object_subject_suffix] += 1\n",
    "            feature_counter[' '.join((ex.right.split(' ')[0:2] + [pad] * 2)[0:2]) + right_object_subject_suffix] += 1    \n",
    "        return feature_counter\n",
    "    \n",
    "    def detailed_left_right_pos_window_featurizer(kbt, corpus, feature_counter):\n",
    "        left_subject_object_suffix = \"_L_SO\"\n",
    "        left_object_subject_suffix = \"_L_OS\"\n",
    "        right_subject_object_suffix = \"_R_SO\"\n",
    "        right_object_subject_suffix = \"_R_OS\"\n",
    "        pad = '#PAD#'\n",
    "\n",
    "        for ex in corpus.get_examples_for_entities(kbt.sbj, kbt.obj):\n",
    "            # window size = 1\n",
    "            feature_counter[([pad] + get_tags(ex.left_POS)[-1:])[-1] + left_subject_object_suffix] += 1\n",
    "            feature_counter[(get_tags(ex.right_POS)[0:1] + [pad])[0] + right_subject_object_suffix] += 1\n",
    "            # window size = 2\n",
    "            feature_counter[' '.join(([pad] * 2 + get_tags(ex.left_POS)[-2:])[-2:]) + left_subject_object_suffix] += 1\n",
    "            feature_counter[' '.join((get_tags(ex.right_POS)[0:2] + [pad] * 2)[0:2]) + right_subject_object_suffix] += 1\n",
    "        for ex in corpus.get_examples_for_entities(kbt.obj, kbt.sbj):\n",
    "            # window size = 1\n",
    "            feature_counter[([pad] + get_tags(ex.left_POS)[-1:])[-1] + left_object_subject_suffix] += 1\n",
    "            feature_counter[(get_tags(ex.right_POS)[0:1] + [pad])[0] + right_object_subject_suffix] += 1\n",
    "            # window size = 2\n",
    "            feature_counter[' '.join(([pad] * 2 + get_tags(ex.left_POS)[-2:])[-2:]) + left_object_subject_suffix] += 1\n",
    "            feature_counter[' '.join((get_tags(ex.right_POS)[0:2] + [pad] * 2)[0:2]) + right_object_subject_suffix] += 1\n",
    "\n",
    "        return feature_counter\n",
    "    \n",
    "    featurizers=[directional_middle_ngram_featurizer,\n",
    "                 directional_middle_pos_ngram_featurizer,\n",
    "                 detailed_entity_mention_featurizer,\n",
    "                 detailed_entity_mention_pos_featurizer,\n",
    "                 directional_middle_len_featurizer,\n",
    "                 detailed_left_right_window_featurizer,\n",
    "                 detailed_left_right_pos_window_featurizer]\n",
    "    \n",
    "    model = lambda: RandomForestClassifier(n_jobs=-1) # I don't see big difference with different parameters\n",
    "\n",
    "    results_1 = rel_ext.experiment(\n",
    "        splits,\n",
    "        train_split='train',\n",
    "        test_split='dev',\n",
    "        featurizers=featurizers,\n",
    "        model_factory=model,\n",
    "        verbose=True)\n",
    "\n",
    "# relation              precision     recall    f-score    support       size\n",
    "# ------------------    ---------  ---------  ---------  ---------  ---------\n",
    "# adjoins                   0.967      0.524      0.827        340       5716\n",
    "# author                    0.900      0.780      0.873        509       5885\n",
    "# capital                   0.919      0.358      0.700         95       5471\n",
    "# contains                  0.913      0.827      0.894       3904       9280\n",
    "# film_performance          0.925      0.689      0.866        766       6142\n",
    "# founders                  0.910      0.476      0.770        380       5756\n",
    "# genre                     0.889      0.282      0.622        170       5546\n",
    "# has_sibling               0.957      0.531      0.825        499       5875\n",
    "# has_spouse                0.949      0.598      0.849        594       5970\n",
    "# is_a                      0.931      0.491      0.790        497       5873\n",
    "# nationality               0.966      0.561      0.844        301       5677\n",
    "# parents                   0.962      0.641      0.874        312       5688\n",
    "# place_of_birth            0.949      0.399      0.744        233       5609\n",
    "# place_of_death            0.978      0.283      0.656        159       5535\n",
    "# profession                0.944      0.478      0.790        247       5623\n",
    "# worked_at                 0.919      0.326      0.674        242       5618\n",
    "# ------------------    ---------  ---------  ---------  ---------  ---------\n",
    "# macro-average             0.936      0.515      0.787       9248      95264\n",
    "\n",
    "# STOP COMMENT: Please do not remove this comment."
   ]
  },
  {
   "cell_type": "markdown",
   "metadata": {},
   "source": [
    "## Bake-off [1 point]\n",
    "\n",
    "For the bake-off, we will release a test set. The announcement will go out on the discussion forum. You will evaluate your custom model from the previous question on these new datasets using the function `rel_ext.bake_off_experiment`. Rules:\n",
    "\n",
    "1. Only one evaluation is permitted.\n",
    "1. No additional system tuning is permitted once the bake-off has started.\n",
    "\n",
    "The cells below this one constitute your bake-off entry.\n",
    "\n",
    "People who enter will receive the additional homework point, and people whose systems achieve the top score will receive an additional 0.5 points. We will test the top-performing systems ourselves, and only systems for which we can reproduce the reported results will win the extra 0.5 points.\n",
    "\n",
    "Late entries will be accepted, but they cannot earn the extra 0.5 points. Similarly, you cannot win the bake-off unless your homework is submitted on time.\n",
    "\n",
    "The announcement will include the details on where to submit your entry."
   ]
  },
  {
   "cell_type": "code",
   "execution_count": 35,
   "metadata": {},
   "outputs": [],
   "source": [
    "# Enter your bake-off assessment code in this cell.\n",
    "# Please do not remove this comment.\n",
    "if 'IS_GRADESCOPE_ENV' not in os.environ:\n",
    "    pass\n",
    "    # Please enter your code in the scope of the above conditional.\n",
    "    ##### YOUR CODE HERE\n"
   ]
  },
  {
   "cell_type": "code",
   "execution_count": 36,
   "metadata": {},
   "outputs": [],
   "source": [
    "# On an otherwise blank line in this cell, please enter\n",
    "# your macro-average f-score (an F_0.5 score) as reported\n",
    "# by the code above. Please enter only a number between\n",
    "# 0 and 1 inclusive. Please do not remove this comment.\n",
    "if 'IS_GRADESCOPE_ENV' not in os.environ:\n",
    "    pass\n",
    "    # Please enter your score in the scope of the above conditional.\n",
    "    ##### YOUR CODE HERE\n"
   ]
  }
 ],
 "metadata": {
  "kernelspec": {
   "display_name": "nlu",
   "language": "python",
   "name": "nlu"
  },
  "language_info": {
   "codemirror_mode": {
    "name": "ipython",
    "version": 3
   },
   "file_extension": ".py",
   "mimetype": "text/x-python",
   "name": "python",
   "nbconvert_exporter": "python",
   "pygments_lexer": "ipython3",
   "version": "3.7.7"
  },
  "widgets": {
   "state": {},
   "version": "1.1.2"
  }
 },
 "nbformat": 4,
 "nbformat_minor": 2
}
