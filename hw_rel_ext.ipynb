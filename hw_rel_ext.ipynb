{
 "cells": [
  {
   "cell_type": "markdown",
   "metadata": {},
   "source": [
    "# Homework and bake-off: Relation extraction using distant supervision"
   ]
  },
  {
   "cell_type": "code",
   "execution_count": 1,
   "metadata": {},
   "outputs": [],
   "source": [
    "__author__ = \"Bill MacCartney and Christopher Potts\"\n",
    "__version__ = \"CS224u, Stanford, Fall 2020\""
   ]
  },
  {
   "cell_type": "markdown",
   "metadata": {},
   "source": [
    "## Contents\n",
    "\n",
    "1. [Overview](#Overview)\n",
    "1. [Set-up](#Set-up)\n",
    "1. [Baselines](#Baselines)\n",
    "  1. [Hand-build feature functions](#Hand-build-feature-functions)\n",
    "  1. [Distributed representations](#Distributed-representations)\n",
    "1. [Homework questions](#Homework-questions)\n",
    "  1. [Different model factory [1 points]](#Different-model-factory-[1-points])\n",
    "  1. [Directional unigram features [1.5 points]](#Directional-unigram-features-[1.5-points])\n",
    "  1. [The part-of-speech tags of the \"middle\" words [1.5 points]](#The-part-of-speech-tags-of-the-\"middle\"-words-[1.5-points])\n",
    "  1. [Bag of Synsets [2 points]](#Bag-of-Synsets-[2-points])\n",
    "  1. [Your original system [3 points]](#Your-original-system-[3-points])\n",
    "1. [Bake-off [1 point]](#Bake-off-[1-point])"
   ]
  },
  {
   "cell_type": "markdown",
   "metadata": {},
   "source": [
    "## Overview\n",
    "\n",
    "This homework and associated bake-off are devoted to developing really effective relation extraction systems using distant supervision. \n",
    "\n",
    "As with the previous assignments, this notebook first establishes a baseline system. The initial homework questions ask you to create additional baselines and suggest areas for innovation, and the final homework question asks you to develop an original system for you to enter into the bake-off."
   ]
  },
  {
   "cell_type": "markdown",
   "metadata": {},
   "source": [
    "## Set-up\n",
    "\n",
    "See [the first notebook in this unit](rel_ext_01_task.ipynb#Set-up) for set-up instructions."
   ]
  },
  {
   "cell_type": "code",
   "execution_count": 2,
   "metadata": {},
   "outputs": [],
   "source": [
    "import numpy as np\n",
    "import os\n",
    "import rel_ext\n",
    "from sklearn.linear_model import LogisticRegression\n",
    "import utils"
   ]
  },
  {
   "cell_type": "code",
   "execution_count": 3,
   "metadata": {
    "pycharm": {
     "name": "#%%\n"
    }
   },
   "outputs": [],
   "source": [
    "# Set all the random seeds for reproducibility. Only the\n",
    "# system seed is relevant for this notebook.\n",
    "\n",
    "utils.fix_random_seeds()"
   ]
  },
  {
   "cell_type": "markdown",
   "metadata": {},
   "source": [
    "As usual, we unite our corpus and KB into a dataset, and create some splits for experimentation:"
   ]
  },
  {
   "cell_type": "code",
   "execution_count": 4,
   "metadata": {},
   "outputs": [],
   "source": [
    "rel_ext_data_home = os.path.join('data', 'rel_ext_data')"
   ]
  },
  {
   "cell_type": "code",
   "execution_count": 5,
   "metadata": {},
   "outputs": [],
   "source": [
    "corpus = rel_ext.Corpus(os.path.join(rel_ext_data_home, 'corpus.tsv.gz'))"
   ]
  },
  {
   "cell_type": "code",
   "execution_count": 6,
   "metadata": {},
   "outputs": [],
   "source": [
    "kb = rel_ext.KB(os.path.join(rel_ext_data_home, 'kb.tsv.gz'))"
   ]
  },
  {
   "cell_type": "code",
   "execution_count": 7,
   "metadata": {},
   "outputs": [],
   "source": [
    "dataset = rel_ext.Dataset(corpus, kb)"
   ]
  },
  {
   "cell_type": "markdown",
   "metadata": {},
   "source": [
    "You are not wedded to this set-up for splits. The bake-off will be conducted on a previously unseen test-set, so all of the data in `dataset` is fair game:"
   ]
  },
  {
   "cell_type": "code",
   "execution_count": 8,
   "metadata": {},
   "outputs": [],
   "source": [
    "splits = dataset.build_splits(\n",
    "    split_names=['tiny', 'train', 'dev'],\n",
    "    split_fracs=[0.01, 0.79, 0.20],\n",
    "    seed=1)"
   ]
  },
  {
   "cell_type": "code",
   "execution_count": 9,
   "metadata": {},
   "outputs": [
    {
     "data": {
      "text/plain": [
       "{'tiny': Corpus with 3,474 examples; KB with 445 triples,\n",
       " 'train': Corpus with 263,285 examples; KB with 36,191 triples,\n",
       " 'dev': Corpus with 64,937 examples; KB with 9,248 triples,\n",
       " 'all': Corpus with 331,696 examples; KB with 45,884 triples}"
      ]
     },
     "execution_count": 9,
     "metadata": {},
     "output_type": "execute_result"
    }
   ],
   "source": [
    "splits"
   ]
  },
  {
   "cell_type": "markdown",
   "metadata": {},
   "source": [
    "## Baselines"
   ]
  },
  {
   "cell_type": "markdown",
   "metadata": {},
   "source": [
    "### Hand-build feature functions"
   ]
  },
  {
   "cell_type": "code",
   "execution_count": 10,
   "metadata": {},
   "outputs": [],
   "source": [
    "def simple_bag_of_words_featurizer(kbt, corpus, feature_counter):\n",
    "    for ex in corpus.get_examples_for_entities(kbt.sbj, kbt.obj):\n",
    "        for word in ex.middle.split(' '):\n",
    "            feature_counter[word] += 1\n",
    "    for ex in corpus.get_examples_for_entities(kbt.obj, kbt.sbj):\n",
    "        for word in ex.middle.split(' '):\n",
    "            feature_counter[word] += 1\n",
    "    return feature_counter"
   ]
  },
  {
   "cell_type": "code",
   "execution_count": 11,
   "metadata": {},
   "outputs": [],
   "source": [
    "featurizers = [simple_bag_of_words_featurizer]"
   ]
  },
  {
   "cell_type": "code",
   "execution_count": 12,
   "metadata": {},
   "outputs": [],
   "source": [
    "model_factory = lambda: LogisticRegression(fit_intercept=True, solver='liblinear')"
   ]
  },
  {
   "cell_type": "code",
   "execution_count": 13,
   "metadata": {},
   "outputs": [
    {
     "name": "stdout",
     "output_type": "stream",
     "text": [
      "relation              precision     recall    f-score    support       size\n",
      "------------------    ---------  ---------  ---------  ---------  ---------\n",
      "adjoins                   0.851      0.371      0.676        340       5716\n",
      "author                    0.823      0.538      0.744        509       5885\n",
      "capital                   0.474      0.189      0.364         95       5471\n",
      "contains                  0.794      0.589      0.742       3904       9280\n",
      "film_performance          0.787      0.578      0.734        766       6142\n",
      "founders                  0.765      0.403      0.648        380       5756\n",
      "genre                     0.564      0.182      0.397        170       5546\n",
      "has_sibling               0.849      0.248      0.572        499       5875\n",
      "has_spouse                0.856      0.330      0.649        594       5970\n",
      "is_a                      0.679      0.221      0.480        497       5873\n",
      "nationality               0.547      0.173      0.382        301       5677\n",
      "parents                   0.851      0.548      0.766        312       5688\n",
      "place_of_birth            0.628      0.210      0.450        233       5609\n",
      "place_of_death            0.439      0.113      0.279        159       5535\n",
      "profession                0.593      0.194      0.420        247       5623\n",
      "worked_at                 0.709      0.252      0.520        242       5618\n",
      "------------------    ---------  ---------  ---------  ---------  ---------\n",
      "macro-average             0.701      0.321      0.552       9248      95264\n"
     ]
    }
   ],
   "source": [
    "baseline_results = rel_ext.experiment(\n",
    "    splits,\n",
    "    train_split='train',\n",
    "    test_split='dev',\n",
    "    featurizers=featurizers,\n",
    "    model_factory=model_factory,\n",
    "    verbose=True)"
   ]
  },
  {
   "cell_type": "markdown",
   "metadata": {},
   "source": [
    "Studying model weights might yield insights:"
   ]
  },
  {
   "cell_type": "code",
   "execution_count": 14,
   "metadata": {},
   "outputs": [
    {
     "name": "stdout",
     "output_type": "stream",
     "text": [
      "Highest and lowest feature weights for relation adjoins:\n",
      "\n",
      "     2.494 Córdoba\n",
      "     2.478 Valais\n",
      "     2.471 Taluks\n",
      "     ..... .....\n",
      "    -1.129 Suffolk\n",
      "    -1.245 Russia\n",
      "    -1.357 country\n",
      "\n",
      "Highest and lowest feature weights for relation author:\n",
      "\n",
      "     2.600 books\n",
      "     2.391 author\n",
      "     2.378 writer\n",
      "     ..... .....\n",
      "    -2.321 1925\n",
      "    -2.431 1774\n",
      "    -2.998 Daisy\n",
      "\n",
      "Highest and lowest feature weights for relation capital:\n",
      "\n",
      "     3.178 capital\n",
      "     1.941 city\n",
      "     1.803 especially\n",
      "     ..... .....\n",
      "    -0.961 or\n",
      "    -1.126 and\n",
      "    -1.130 also\n",
      "\n",
      "Highest and lowest feature weights for relation contains:\n",
      "\n",
      "     2.911 third-largest\n",
      "     2.167 bordered\n",
      "     2.138 Turks\n",
      "     ..... .....\n",
      "    -2.535 2002\n",
      "    -2.773 Sumatra\n",
      "    -3.157 Ceylon\n",
      "\n",
      "Highest and lowest feature weights for relation film_performance:\n",
      "\n",
      "     4.088 starring\n",
      "     3.522 alongside\n",
      "     3.448 co-starring\n",
      "     ..... .....\n",
      "    -1.965 Khakee\n",
      "    -1.996 Zigzag\n",
      "    -3.970 double\n",
      "\n",
      "Highest and lowest feature weights for relation founders:\n",
      "\n",
      "     4.090 founded\n",
      "     3.316 founder\n",
      "     3.165 co-founder\n",
      "     ..... .....\n",
      "    -1.565 novel\n",
      "    -1.604 then-editor/publisher\n",
      "    -2.090 studied\n",
      "\n",
      "Highest and lowest feature weights for relation genre:\n",
      "\n",
      "     3.100 series\n",
      "     2.454 game\n",
      "     2.351 album\n",
      "     ..... .....\n",
      "    -1.422 ;\n",
      "    -1.438 and\n",
      "    -1.913 at\n",
      "\n",
      "Highest and lowest feature weights for relation has_sibling:\n",
      "\n",
      "     5.000 brother\n",
      "     4.666 sister\n",
      "     3.024 Marlon\n",
      "     ..... .....\n",
      "    -1.400 engineer\n",
      "    -1.440 Her\n",
      "    -2.041 formed\n",
      "\n",
      "Highest and lowest feature weights for relation has_spouse:\n",
      "\n",
      "     5.494 wife\n",
      "     4.810 married\n",
      "     4.456 widow\n",
      "     ..... .....\n",
      "    -1.452 between\n",
      "    -1.713 engineer\n",
      "    -2.032 grandson\n",
      "\n",
      "Highest and lowest feature weights for relation is_a:\n",
      "\n",
      "     2.960 \n",
      "     2.568 species\n",
      "     2.445 Genus\n",
      "     ..... .....\n",
      "    -1.707 at\n",
      "    -1.781 nightshade\n",
      "    -5.172 characin\n",
      "\n",
      "Highest and lowest feature weights for relation nationality:\n",
      "\n",
      "     2.842 born\n",
      "     1.842 caliph\n",
      "     1.833 Minister\n",
      "     ..... .....\n",
      "    -1.377 state\n",
      "    -1.611 American\n",
      "    -1.633 province\n",
      "\n",
      "Highest and lowest feature weights for relation parents:\n",
      "\n",
      "     5.159 son\n",
      "     4.503 daughter\n",
      "     4.075 father\n",
      "     ..... .....\n",
      "    -1.518 husband\n",
      "    -1.632 played\n",
      "    -2.121 Gamal\n",
      "\n",
      "Highest and lowest feature weights for relation place_of_birth:\n",
      "\n",
      "     3.852 born\n",
      "     2.968 birthplace\n",
      "     1.967 -born\n",
      "     ..... .....\n",
      "    -1.381 or\n",
      "    -1.440 and\n",
      "    -1.764 province\n",
      "\n",
      "Highest and lowest feature weights for relation place_of_death:\n",
      "\n",
      "     2.288 died\n",
      "     1.929 where\n",
      "     1.831 rebuilt\n",
      "     ..... .....\n",
      "    -1.188 that\n",
      "    -1.238 and\n",
      "    -1.315 province\n",
      "\n",
      "Highest and lowest feature weights for relation profession:\n",
      "\n",
      "     3.431 \n",
      "     2.399 philosopher\n",
      "     2.395 American\n",
      "     ..... .....\n",
      "    -1.397 York\n",
      "    -1.425 1957\n",
      "    -2.031 on\n",
      "\n",
      "Highest and lowest feature weights for relation worked_at:\n",
      "\n",
      "     3.371 professor\n",
      "     3.294 CEO\n",
      "     3.093 president\n",
      "     ..... .....\n",
      "    -1.356 province\n",
      "    -1.652 or\n",
      "    -2.113 introduced\n",
      "\n"
     ]
    }
   ],
   "source": [
    "rel_ext.examine_model_weights(baseline_results)"
   ]
  },
  {
   "cell_type": "markdown",
   "metadata": {},
   "source": [
    "### Distributed representations\n",
    "\n",
    "This simple baseline sums the GloVe vector representations for all of the words in the \"middle\" span and feeds those representations into the standard `LogisticRegression`-based `model_factory`. The crucial parameter that enables this is `vectorize=False`. This essentially says to `rel_ext.experiment` that your featurizer or your model will do the work of turning examples into vectors; in that case, `rel_ext.experiment` just organizes these representations by relation type."
   ]
  },
  {
   "cell_type": "code",
   "execution_count": 15,
   "metadata": {},
   "outputs": [],
   "source": [
    "GLOVE_HOME = os.path.join('data', 'glove.6B')"
   ]
  },
  {
   "cell_type": "code",
   "execution_count": 16,
   "metadata": {},
   "outputs": [],
   "source": [
    "glove_lookup = utils.glove2dict(\n",
    "    os.path.join(GLOVE_HOME, 'glove.6B.300d.txt'))"
   ]
  },
  {
   "cell_type": "code",
   "execution_count": 17,
   "metadata": {},
   "outputs": [],
   "source": [
    "def glove_middle_featurizer(kbt, corpus, np_func=np.sum):\n",
    "    reps = []\n",
    "    for ex in corpus.get_examples_for_entities(kbt.sbj, kbt.obj):\n",
    "        for word in ex.middle.split():\n",
    "            rep = glove_lookup.get(word)\n",
    "            if rep is not None:\n",
    "                reps.append(rep)\n",
    "    # A random representation of the right dimensionality if the\n",
    "    # example happens not to overlap with GloVe's vocabulary:\n",
    "    if len(reps) == 0:\n",
    "        dim = len(next(iter(glove_lookup.values())))\n",
    "        return utils.randvec(n=dim)\n",
    "    else:\n",
    "        return np_func(reps, axis=0)"
   ]
  },
  {
   "cell_type": "code",
   "execution_count": 18,
   "metadata": {},
   "outputs": [
    {
     "name": "stdout",
     "output_type": "stream",
     "text": [
      "relation              precision     recall    f-score    support       size\n",
      "------------------    ---------  ---------  ---------  ---------  ---------\n",
      "adjoins                   0.799      0.468      0.700        340       5716\n",
      "author                    0.861      0.450      0.728        509       5885\n",
      "capital                   0.583      0.221      0.439         95       5471\n",
      "contains                  0.658      0.411      0.587       3904       9280\n",
      "film_performance          0.793      0.325      0.616        766       6142\n",
      "founders                  0.791      0.239      0.542        380       5756\n",
      "genre                     0.417      0.059      0.188        170       5546\n",
      "has_sibling               0.814      0.255      0.565        499       5875\n",
      "has_spouse                0.837      0.354      0.657        594       5970\n",
      "is_a                      0.673      0.153      0.400        497       5873\n",
      "nationality               0.581      0.226      0.442        301       5677\n",
      "parents                   0.857      0.423      0.711        312       5688\n",
      "place_of_birth            0.573      0.219      0.433        233       5609\n",
      "place_of_death            0.323      0.126      0.246        159       5535\n",
      "profession                0.680      0.138      0.380        247       5623\n",
      "worked_at                 0.657      0.269      0.509        242       5618\n",
      "------------------    ---------  ---------  ---------  ---------  ---------\n",
      "macro-average             0.681      0.271      0.509       9248      95264\n"
     ]
    }
   ],
   "source": [
    "glove_results = rel_ext.experiment(\n",
    "    splits,\n",
    "    train_split='train',\n",
    "    test_split='dev',\n",
    "    featurizers=[glove_middle_featurizer],\n",
    "    vectorize=False, # Crucial for this featurizer!\n",
    "    verbose=True)"
   ]
  },
  {
   "cell_type": "markdown",
   "metadata": {},
   "source": [
    "With the same basic code design, one can also use the PyTorch models included in the course repo, or write new ones that are better aligned with the task. For those models, it's likely that the featurizer will just return a list of tokens (or perhaps a list of lists of tokens), and the model will map those into vectors using an embedding."
   ]
  },
  {
   "cell_type": "markdown",
   "metadata": {},
   "source": [
    "## Homework questions\n",
    "\n",
    "Please embed your homework responses in this notebook, and do not delete any cells from the notebook. (You are free to add as many cells as you like as part of your responses.)"
   ]
  },
  {
   "cell_type": "markdown",
   "metadata": {},
   "source": [
    "### Different model factory [1 points]\n",
    "\n",
    "The code in `rel_ext` makes it very easy to experiment with other classifier models: one need only redefine the `model_factory` argument. This question asks you to assess a [Support Vector Classifier](https://scikit-learn.org/stable/modules/generated/sklearn.svm.SVC.html).\n",
    "\n",
    "__To submit:__ A wrapper function `run_svm_model_factory` that does the following: \n",
    "\n",
    "1. Uses `rel_ext.experiment` with the model factory set to one based in an `SVC` with `kernel='linear'` and all other arguments left with default values. \n",
    "1. Trains on the 'train' part of `splits`.\n",
    "1. Assesses on the `dev` part of `splits`.\n",
    "1. Uses `featurizers` as defined above. \n",
    "1. Returns the return value of `rel_ext.experiment` for this set-up.\n",
    "\n",
    "The function `test_run_svm_model_factory` will check that your function conforms to these general specifications."
   ]
  },
  {
   "cell_type": "code",
   "execution_count": 19,
   "metadata": {},
   "outputs": [],
   "source": [
    "from sklearn.svm import SVC\n",
    "svm_model = lambda: SVC(kernel='linear')"
   ]
  },
  {
   "cell_type": "code",
   "execution_count": 20,
   "metadata": {},
   "outputs": [],
   "source": [
    "def run_svm_model_factory():\n",
    "    results = rel_ext.experiment(\n",
    "        splits,\n",
    "        train_split='train',\n",
    "        test_split='dev',\n",
    "        featurizers=featurizers,\n",
    "        model_factory=svm_model,\n",
    "        verbose=True)\n",
    "    return results"
   ]
  },
  {
   "cell_type": "code",
   "execution_count": 21,
   "metadata": {},
   "outputs": [],
   "source": [
    "def test_run_svm_model_factory(run_svm_model_factory):\n",
    "    results = run_svm_model_factory()\n",
    "    assert 'featurizers' in results, \\\n",
    "        \"The return value of `run_svm_model_factory` seems not to be correct\"\n",
    "    # Check one of the models to make sure it's an SVC:\n",
    "    assert 'SVC' in results['models']['adjoins'].__class__.__name__, \\\n",
    "        \"It looks like the model factor wasn't set to use an SVC.\""
   ]
  },
  {
   "cell_type": "code",
   "execution_count": 22,
   "metadata": {},
   "outputs": [
    {
     "name": "stdout",
     "output_type": "stream",
     "text": [
      "relation              precision     recall    f-score    support       size\n",
      "------------------    ---------  ---------  ---------  ---------  ---------\n",
      "adjoins                   0.801      0.344      0.633        340       5716\n",
      "author                    0.758      0.603      0.721        509       5885\n",
      "capital                   0.625      0.316      0.523         95       5471\n",
      "contains                  0.780      0.593      0.734       3904       9280\n",
      "film_performance          0.729      0.611      0.702        766       6142\n",
      "founders                  0.712      0.455      0.640        380       5756\n",
      "genre                     0.477      0.247      0.402        170       5546\n",
      "has_sibling               0.706      0.240      0.509        499       5875\n",
      "has_spouse                0.839      0.350      0.656        594       5970\n",
      "is_a                      0.612      0.286      0.498        497       5873\n",
      "nationality               0.519      0.179      0.377        301       5677\n",
      "parents                   0.818      0.590      0.759        312       5688\n",
      "place_of_birth            0.618      0.236      0.467        233       5609\n",
      "place_of_death            0.429      0.132      0.296        159       5535\n",
      "profession                0.542      0.259      0.445        247       5623\n",
      "worked_at                 0.606      0.273      0.487        242       5618\n",
      "------------------    ---------  ---------  ---------  ---------  ---------\n",
      "macro-average             0.661      0.357      0.553       9248      95264\n"
     ]
    }
   ],
   "source": [
    "if 'IS_GRADESCOPE_ENV' not in os.environ:\n",
    "    test_run_svm_model_factory(run_svm_model_factory)"
   ]
  },
  {
   "cell_type": "markdown",
   "metadata": {},
   "source": [
    "### Directional unigram features [1.5 points]\n",
    "\n",
    "The current bag-of-words representation makes no distinction between \"forward\" and \"reverse\" examples. But, intuitively, there is big difference between _X and his son Y_ and _Y and his son X_. This question asks you to modify `simple_bag_of_words_featurizer` to capture these differences. \n",
    "\n",
    "__To submit:__\n",
    "\n",
    "1. A feature function `directional_bag_of_words_featurizer` that is just like `simple_bag_of_words_featurizer` except that it distinguishes \"forward\" and \"reverse\". To do this, you just need to mark each word feature for whether it is derived from a subject–object example or from an object–subject example.  The included function `test_directional_bag_of_words_featurizer` should help verify that you've done this correctly.\n",
    "\n",
    "2. A call to `rel_ext.experiment` with `directional_bag_of_words_featurizer` as the only featurizer. (Aside from this, use all the default values for `rel_ext.experiment` as exemplified above in this notebook.)\n",
    "\n",
    "3. `rel_ext.experiment` returns some of the core objects used in the experiment. How many feature names does the `vectorizer` have for the experiment run in the previous step? Include the code needed for getting this value. (Note: we're partly asking you to figure out how to get this value by using the sklearn documentation, so please don't ask how to do it!)"
   ]
  },
  {
   "cell_type": "code",
   "execution_count": 23,
   "metadata": {},
   "outputs": [
    {
     "name": "stdout",
     "output_type": "stream",
     "text": [
      "relation              precision     recall    f-score    support       size\n",
      "------------------    ---------  ---------  ---------  ---------  ---------\n",
      "adjoins                   0.838      0.412      0.694        340       5716\n",
      "author                    0.860      0.582      0.785        509       5885\n",
      "capital                   0.606      0.211      0.441         95       5471\n",
      "contains                  0.829      0.651      0.786       3904       9280\n",
      "film_performance          0.834      0.663      0.793        766       6142\n",
      "founders                  0.808      0.411      0.677        380       5756\n",
      "genre                     0.825      0.276      0.590        170       5546\n",
      "has_sibling               0.838      0.248      0.568        499       5875\n",
      "has_spouse                0.850      0.352      0.662        594       5970\n",
      "is_a                      0.738      0.249      0.530        497       5873\n",
      "nationality               0.631      0.216      0.456        301       5677\n",
      "parents                   0.876      0.519      0.770        312       5688\n",
      "place_of_birth            0.695      0.245      0.508        233       5609\n",
      "place_of_death            0.457      0.132      0.306        159       5535\n",
      "profession                0.682      0.235      0.494        247       5623\n",
      "worked_at                 0.733      0.273      0.548        242       5618\n",
      "------------------    ---------  ---------  ---------  ---------  ---------\n",
      "macro-average             0.756      0.355      0.601       9248      95264\n"
     ]
    }
   ],
   "source": [
    "def directional_bag_of_words_featurizer(kbt, corpus, feature_counter):\n",
    "    # Append these to the end of the keys you add/access in\n",
    "    # `feature_counter` to distinguish the two orders. You'll\n",
    "    # need to use exactly these strings in order to pass\n",
    "    # `test_directional_bag_of_words_featurizer`.\n",
    "    subject_object_suffix = \"_SO\"\n",
    "    object_subject_suffix = \"_OS\"\n",
    "\n",
    "    for ex in corpus.get_examples_for_entities(kbt.sbj, kbt.obj):\n",
    "        for word in ex.middle.split(' '):\n",
    "            feature_counter[word + subject_object_suffix] += 1\n",
    "    for ex in corpus.get_examples_for_entities(kbt.obj, kbt.sbj):\n",
    "        for word in ex.middle.split(' '):\n",
    "            feature_counter[word + object_subject_suffix] += 1\n",
    "\n",
    "    return feature_counter\n",
    "\n",
    "\n",
    "# Call to `rel_ext.experiment`:\n",
    "directional_bag_of_words_results = rel_ext.experiment(\n",
    "        splits,\n",
    "        train_split='train',\n",
    "        test_split='dev',\n",
    "        featurizers=[directional_bag_of_words_featurizer],\n",
    "        verbose=True)"
   ]
  },
  {
   "cell_type": "code",
   "execution_count": 24,
   "metadata": {},
   "outputs": [],
   "source": [
    "def test_directional_bag_of_words_featurizer(corpus):\n",
    "    from collections import defaultdict\n",
    "    kbt = rel_ext.KBTriple(rel='worked_at', sbj='Randall_Munroe', obj='xkcd')\n",
    "    feature_counter = defaultdict(int)\n",
    "    # Make sure `feature_counter` is being updated, not reinitialized:\n",
    "    feature_counter['is_OS'] += 5\n",
    "    feature_counter = directional_bag_of_words_featurizer(kbt, corpus, feature_counter)\n",
    "    expected = defaultdict(\n",
    "        int, {'is_OS':6,'a_OS':1,'webcomic_OS':1,'created_OS':1,'by_OS':1})\n",
    "    assert feature_counter == expected, \\\n",
    "        \"Expected:\\n{}\\nGot:\\n{}\".format(expected, feature_counter)"
   ]
  },
  {
   "cell_type": "code",
   "execution_count": 25,
   "metadata": {},
   "outputs": [],
   "source": [
    "if 'IS_GRADESCOPE_ENV' not in os.environ:\n",
    "    test_directional_bag_of_words_featurizer(corpus)"
   ]
  },
  {
   "cell_type": "code",
   "execution_count": 26,
   "metadata": {},
   "outputs": [
    {
     "name": "stdout",
     "output_type": "stream",
     "text": [
      "number of feature names: 40519\n"
     ]
    }
   ],
   "source": [
    "# How many feature names does the vectorizer have for the experiment run in the previous step? 40537\n",
    "directional_bag_of_words_vectorizer = directional_bag_of_words_results['vectorizer']\n",
    "directional_bag_of_words_features_names = directional_bag_of_words_vectorizer.get_feature_names()\n",
    "print('number of feature names: {}'.format(len(directional_bag_of_words_features_names)))"
   ]
  },
  {
   "cell_type": "markdown",
   "metadata": {},
   "source": [
    "### The part-of-speech tags of the \"middle\" words [1.5 points]\n",
    "\n",
    "Our corpus distribution contains part-of-speech (POS) tagged versions of the core text spans. Let's begin to explore whether there is information in these sequences, focusing on `middle_POS`.\n",
    "\n",
    "__To submit:__\n",
    "\n",
    "1. A feature function `middle_bigram_pos_tag_featurizer` that is just like `simple_bag_of_words_featurizer` except that it creates a feature for bigram POS sequences. For example, given \n",
    "\n",
    "  `The/DT dog/N napped/V`\n",
    "  \n",
    "   we obtain the list of bigram POS sequences\n",
    "  \n",
    "   `b = ['<s> DT', 'DT N', 'N V', 'V </s>']`. \n",
    "   \n",
    "   Of course, `middle_bigram_pos_tag_featurizer` should return count dictionaries defined in terms of such bigram POS lists, on the model of `simple_bag_of_words_featurizer`.  Don't forget the start and end tags, to model those environments properly! The included function `test_middle_bigram_pos_tag_featurizer` should help verify that you've done this correctly.\n",
    "\n",
    "2. A call to `rel_ext.experiment` with `middle_bigram_pos_tag_featurizer` as the only featurizer. (Aside from this, use all the default values for `rel_ext.experiment` as exemplified above in this notebook.)"
   ]
  },
  {
   "cell_type": "code",
   "execution_count": 27,
   "metadata": {},
   "outputs": [
    {
     "name": "stdout",
     "output_type": "stream",
     "text": [
      "relation              precision     recall    f-score    support       size\n",
      "------------------    ---------  ---------  ---------  ---------  ---------\n",
      "adjoins                   0.811      0.353      0.644        340       5716\n",
      "author                    0.734      0.348      0.601        509       5885\n",
      "capital                   0.516      0.168      0.365         95       5471\n",
      "contains                  0.756      0.586      0.715       3904       9280\n",
      "film_performance          0.722      0.441      0.641        766       6142\n",
      "founders                  0.584      0.174      0.397        380       5756\n",
      "genre                     0.582      0.188      0.410        170       5546\n",
      "has_sibling               0.609      0.168      0.400        499       5875\n",
      "has_spouse                0.724      0.269      0.541        594       5970\n",
      "is_a                      0.609      0.163      0.394        497       5873\n",
      "nationality               0.353      0.080      0.209        301       5677\n",
      "parents                   0.614      0.276      0.493        312       5688\n",
      "place_of_birth            0.523      0.197      0.393        233       5609\n",
      "place_of_death            0.406      0.082      0.226        159       5535\n",
      "profession                0.639      0.186      0.430        247       5623\n",
      "worked_at                 0.468      0.120      0.296        242       5618\n",
      "------------------    ---------  ---------  ---------  ---------  ---------\n",
      "macro-average             0.603      0.237      0.447       9248      95264\n"
     ]
    }
   ],
   "source": [
    "def middle_bigram_pos_tag_featurizer(kbt, corpus, feature_counter):\n",
    "\n",
    "    for ex in corpus.get_examples_for_entities(kbt.sbj, kbt.obj):\n",
    "        for bigram in get_tag_bigrams(ex.middle_POS):\n",
    "            feature_counter[bigram] += 1\n",
    "    for ex in corpus.get_examples_for_entities(kbt.obj, kbt.sbj):\n",
    "        for bigram in get_tag_bigrams(ex.middle_POS):\n",
    "            feature_counter[bigram] += 1\n",
    "\n",
    "    return feature_counter\n",
    "\n",
    "\n",
    "def get_tag_bigrams(s):\n",
    "    \"\"\"Suggested helper method for `middle_bigram_pos_tag_featurizer`.\n",
    "    This should be defined so that it returns a list of str, where each\n",
    "    element is a POS bigram.\"\"\"\n",
    "    # The values of `start_symbol` and `end_symbol` are defined\n",
    "    # here so that you can use `test_middle_bigram_pos_tag_featurizer`.\n",
    "    start_symbol = \"<s>\"\n",
    "    end_symbol = \"</s>\"\n",
    "    \n",
    "    tags = [start_symbol] + get_tags(s) + [end_symbol]\n",
    "    return get_bigrams(tags)\n",
    "\n",
    "\n",
    "def get_bigrams(tags):\n",
    "    \"\"\"Given a list of POS sequences, returns a list of bigram POS sequences\"\"\"\n",
    "    return [t[0] + ' ' + t[1] for t in zip(tags[:-1], tags[1:])]\n",
    "\n",
    "\n",
    "def get_tags(s):\n",
    "    \"\"\"Given a sequence of word/POS elements (lemmas), this function\n",
    "    returns a list containing just the POS elements, in order.\n",
    "    \"\"\"\n",
    "    return [parse_lem(lem)[1] for lem in s.strip().split(' ') if lem]\n",
    "\n",
    "\n",
    "def parse_lem(lem):\n",
    "    \"\"\"Helper method for parsing word/POS elements. It just splits\n",
    "    on the rightmost / and returns (word, POS) as a tuple of str.\"\"\"\n",
    "    return lem.strip().rsplit('/', 1)\n",
    "\n",
    "# Call to `rel_ext.experiment`:\n",
    "middle_bigram_pos_tag_results = rel_ext.experiment(\n",
    "        splits,\n",
    "        train_split='train',\n",
    "        test_split='dev',\n",
    "        featurizers=[middle_bigram_pos_tag_featurizer],\n",
    "        verbose=True)"
   ]
  },
  {
   "cell_type": "code",
   "execution_count": 28,
   "metadata": {},
   "outputs": [],
   "source": [
    "def test_middle_bigram_pos_tag_featurizer(corpus):\n",
    "    from collections import defaultdict\n",
    "    kbt = rel_ext.KBTriple(rel='worked_at', sbj='Randall_Munroe', obj='xkcd')\n",
    "    feature_counter = defaultdict(int)\n",
    "    # Make sure `feature_counter` is being updated, not reinitialized:\n",
    "    feature_counter['<s> VBZ'] += 5\n",
    "    feature_counter = middle_bigram_pos_tag_featurizer(kbt, corpus, feature_counter)\n",
    "    expected = defaultdict(\n",
    "        int, {'<s> VBZ':6,'VBZ DT':1,'DT JJ':1,'JJ VBN':1,'VBN IN':1,'IN </s>':1})\n",
    "    assert feature_counter == expected, \\\n",
    "        \"Expected:\\n{}\\nGot:\\n{}\".format(expected, feature_counter)"
   ]
  },
  {
   "cell_type": "code",
   "execution_count": 29,
   "metadata": {},
   "outputs": [],
   "source": [
    "if 'IS_GRADESCOPE_ENV' not in os.environ:\n",
    "    test_middle_bigram_pos_tag_featurizer(corpus)"
   ]
  },
  {
   "cell_type": "markdown",
   "metadata": {},
   "source": [
    "### Bag of Synsets [2 points]\n",
    "\n",
    "The following allows you to use NLTK's WordNet API to get the synsets compatible with _dog_ as used as a noun:\n",
    "\n",
    "```\n",
    "from nltk.corpus import wordnet as wn\n",
    "dog = wn.synsets('dog', pos='n')\n",
    "dog\n",
    "[Synset('dog.n.01'),\n",
    " Synset('frump.n.01'),\n",
    " Synset('dog.n.03'),\n",
    " Synset('cad.n.01'),\n",
    " Synset('frank.n.02'),\n",
    " Synset('pawl.n.01'),\n",
    " Synset('andiron.n.01')]\n",
    "```\n",
    "\n",
    "This question asks you to create synset-based features from the word/tag pairs in `middle_POS`.\n",
    "\n",
    "__To submit:__\n",
    "\n",
    "1. A feature function `synset_featurizer` that is just like `simple_bag_of_words_featurizer` except that it returns a list of synsets derived from `middle_POS`. Stringify these objects with `str` so that they can be `dict` keys. Use `convert_tag` (included below) to convert tags to `pos` arguments usable by `wn.synsets`. The included function `test_synset_featurizer` should help verify that you've done this correctly.\n",
    "\n",
    "2. A call to `rel_ext.experiment` with `synset_featurizer` as the only featurizer. (Aside from this, use all the default values for `rel_ext.experiment`.)"
   ]
  },
  {
   "cell_type": "code",
   "execution_count": 30,
   "metadata": {},
   "outputs": [
    {
     "name": "stdout",
     "output_type": "stream",
     "text": [
      "relation              precision     recall    f-score    support       size\n",
      "------------------    ---------  ---------  ---------  ---------  ---------\n",
      "adjoins                   0.807      0.344      0.636        340       5716\n",
      "author                    0.761      0.450      0.668        509       5885\n",
      "capital                   0.524      0.232      0.418         95       5471\n",
      "contains                  0.780      0.586      0.732       3904       9280\n",
      "film_performance          0.759      0.548      0.705        766       6142\n",
      "founders                  0.743      0.374      0.621        380       5756\n",
      "genre                     0.547      0.206      0.411        170       5546\n",
      "has_sibling               0.816      0.222      0.532        499       5875\n",
      "has_spouse                0.867      0.306      0.635        594       5970\n",
      "is_a                      0.601      0.221      0.448        497       5873\n",
      "nationality               0.431      0.146      0.310        301       5677\n",
      "parents                   0.811      0.551      0.741        312       5688\n",
      "place_of_birth            0.531      0.219      0.413        233       5609\n",
      "place_of_death            0.391      0.113      0.262        159       5535\n",
      "profession                0.494      0.166      0.354        247       5623\n",
      "worked_at                 0.576      0.236      0.447        242       5618\n",
      "------------------    ---------  ---------  ---------  ---------  ---------\n",
      "macro-average             0.653      0.308      0.521       9248      95264\n"
     ]
    }
   ],
   "source": [
    "from nltk.corpus import wordnet as wn\n",
    "\n",
    "def synset_featurizer(kbt, corpus, feature_counter):\n",
    "\n",
    "    for ex in corpus.get_examples_for_entities(kbt.sbj, kbt.obj):\n",
    "        for synset in get_synsets(ex.middle_POS):\n",
    "            feature_counter[synset] += 1\n",
    "    for ex in corpus.get_examples_for_entities(kbt.obj, kbt.sbj):\n",
    "        for synset in get_synsets(ex.middle_POS):\n",
    "            feature_counter[synset] += 1\n",
    "\n",
    "    return feature_counter\n",
    "\n",
    "\n",
    "def get_synsets(s):\n",
    "    \"\"\"Suggested helper method for `synset_featurizer`. This should\n",
    "    be completed so that it returns a list of stringified Synsets\n",
    "    associated with elements of `s`.\n",
    "    \"\"\"\n",
    "    # Use `parse_lem` from the previous question to get a list of\n",
    "    # (word, POS) pairs. Remember to convert the POS strings.\n",
    "    wt = [parse_lem(lem) for lem in s.strip().split(' ') if lem]\n",
    "\n",
    "    return [str(synset) for p in wt for synset in wn.synsets(p[0], convert_tag(p[1]))]\n",
    "\n",
    "\n",
    "def convert_tag(t):\n",
    "    \"\"\"Converts tags so that they can be used by WordNet:\n",
    "\n",
    "    | Tag begins with | WordNet tag |\n",
    "    |-----------------|-------------|\n",
    "    | `N`             | `n`         |\n",
    "    | `V`             | `v`         |\n",
    "    | `J`             | `a`         |\n",
    "    | `R`             | `r`         |\n",
    "    | Otherwise       | `None`      |\n",
    "    \"\"\"\n",
    "    if t[0].lower() in {'n', 'v', 'r'}:\n",
    "        return t[0].lower()\n",
    "    elif t[0].lower() == 'j':\n",
    "        return 'a'\n",
    "    else:\n",
    "        return None\n",
    "\n",
    "\n",
    "# Call to `rel_ext.experiment`:\n",
    "synset_results = rel_ext.experiment(\n",
    "        splits,\n",
    "        train_split='train',\n",
    "        test_split='dev',\n",
    "        featurizers=[synset_featurizer],\n",
    "        verbose=True)"
   ]
  },
  {
   "cell_type": "code",
   "execution_count": 31,
   "metadata": {},
   "outputs": [],
   "source": [
    "def test_synset_featurizer(corpus):\n",
    "    from collections import defaultdict\n",
    "    kbt = rel_ext.KBTriple(rel='worked_at', sbj='Randall_Munroe', obj='xkcd')\n",
    "    feature_counter = defaultdict(int)\n",
    "    # Make sure `feature_counter` is being updated, not reinitialized:\n",
    "    feature_counter[\"Synset('be.v.01')\"] += 5\n",
    "    feature_counter = synset_featurizer(kbt, corpus, feature_counter)\n",
    "    # The full return values for this tend to be long, so we just\n",
    "    # test a few examples to avoid cluttering up this notebook.\n",
    "    test_cases = {\n",
    "        \"Synset('be.v.01')\": 6,\n",
    "        \"Synset('embody.v.02')\": 1\n",
    "    }\n",
    "    for ss, expected in test_cases.items():\n",
    "        result = feature_counter[ss]\n",
    "        assert result == expected, \\\n",
    "            \"Incorrect count for {}: Expected {}; Got {}\".format(ss, expected, result)"
   ]
  },
  {
   "cell_type": "code",
   "execution_count": 32,
   "metadata": {},
   "outputs": [],
   "source": [
    "if 'IS_GRADESCOPE_ENV' not in os.environ:\n",
    "    test_synset_featurizer(corpus)"
   ]
  },
  {
   "cell_type": "code",
   "execution_count": 33,
   "metadata": {},
   "outputs": [],
   "source": [
    "# from nltk.parse.stanford import StanfordDependencyParser\n",
    "\n",
    "# path_to_jar = os.path.join('stanford-parser-4.0.0', 'stanford-parser.jar')\n",
    "# path_to_models_jar = os.path.join('stanford-parser-4.0.0', 'stanford-parser-4.0.0-models.jar')\n",
    "\n",
    "# dependency_parser = StanfordDependencyParser(path_to_jar=path_to_jar, path_to_models_jar=path_to_models_jar)\n",
    "\n",
    "# sentence = 'my name is andrew.'\n",
    "# result = list(dependency_parser.raw_parse(sentence))[0]\n",
    "# [item for item in result.triples()]"
   ]
  },
  {
   "cell_type": "markdown",
   "metadata": {},
   "source": [
    "### Your original system [3 points]\n",
    "\n",
    "There are many options, and this could easily grow into a project. Here are a few ideas:\n",
    "\n",
    "- Try out different classifier models, from `sklearn` and elsewhere.\n",
    "- Add a feature that indicates the length of the middle.\n",
    "- Augment the bag-of-words representation to include bigrams or trigrams (not just unigrams).\n",
    "- Introduce features based on the entity mentions themselves. <!-- \\[SPOILER: it helps a lot, maybe 4% in F-score. And combines nicely with the directional features.\\] -->\n",
    "- Experiment with features based on the context outside (rather than between) the two entity mentions — that is, the words before the first mention, or after the second.\n",
    "- Try adding features which capture syntactic information, such as the dependency-path features used by Mintz et al. 2009. The [NLTK](https://www.nltk.org/) toolkit contains a variety of [parsing algorithms](http://www.nltk.org/api/nltk.parse.html) that may help.\n",
    "- The bag-of-words representation does not permit generalization across word categories such as names of people, places, or companies. Can we do better using word embeddings such as [GloVe](https://nlp.stanford.edu/projects/glove/)?\n",
    "\n",
    "In the cell below, please provide a brief technical description of your original system, so that the teaching team can gain an understanding of what it does. This will help us to understand your code and analyze all the submissions to identify patterns and strategies. We also ask that you report the best score your system got during development, just to help us understand how systems performed overall."
   ]
  },
  {
   "cell_type": "code",
   "execution_count": 34,
   "metadata": {},
   "outputs": [
    {
     "name": "stdout",
     "output_type": "stream",
     "text": [
      "relation              precision     recall    f-score    support       size\n",
      "------------------    ---------  ---------  ---------  ---------  ---------\n",
      "adjoins                   0.961      0.509      0.816        340       5716\n",
      "author                    0.929      0.745      0.885        509       5885\n",
      "capital                   0.865      0.337      0.658         95       5471\n",
      "contains                  0.910      0.826      0.892       3904       9280\n",
      "film_performance          0.944      0.681      0.876        766       6142\n",
      "founders                  0.971      0.437      0.780        380       5756\n",
      "genre                     0.946      0.312      0.673        170       5546\n",
      "has_sibling               0.957      0.491      0.804        499       5875\n",
      "has_spouse                0.922      0.579      0.825        594       5970\n",
      "is_a                      0.929      0.475      0.780        497       5873\n",
      "nationality               0.972      0.571      0.852        301       5677\n",
      "parents                   0.966      0.638      0.876        312       5688\n",
      "place_of_birth            0.968      0.391      0.747        233       5609\n",
      "place_of_death            1.000      0.277      0.657        159       5535\n",
      "profession                0.938      0.486      0.791        247       5623\n",
      "worked_at                 0.975      0.318      0.690        242       5618\n",
      "------------------    ---------  ---------  ---------  ---------  ---------\n",
      "macro-average             0.947      0.504      0.788       9248      95264\n"
     ]
    }
   ],
   "source": [
    "# PLEASE MAKE SURE TO INCLUDE THE FOLLOWING BETWEEN THE START AND STOP COMMENTS:\n",
    "#   1) Textual description of your system.\n",
    "#   2) The code for your original system.\n",
    "#   3) The score achieved by your system in place of MY_NUMBER.\n",
    "#        With no other changes to that line.\n",
    "#        You should report your score as a decimal value <=1.0\n",
    "# PLEASE MAKE SURE NOT TO DELETE OR EDIT THE START AND STOP COMMENTS\n",
    "\n",
    "# IMPORT ANY MODULES BELOW THE 'IS_GRADESCOPE_ENV' CHECK CONDITION. DOING\n",
    "# SO ABOVE THE CHECK MAY CAUSE THE AUTOGRADER TO FAIL.\n",
    "\n",
    "# START COMMENT: Enter your system description in this cell.\n",
    "# I use RandomForestClassifier with default parameters and following features:\n",
    "# 1. directional_middle_ngram_featurizer: unigrams, bigrams, trigrams of middle words for forward and backward directions\n",
    "# 2. directional_middle_pos_ngram_featurizer: unigrams, bigrams, trigrams of middle words' POS tags forward and backward directions\n",
    "# 3. detailed_entity_mention_featurizer: mention_1 and mention_2 \n",
    "# 4. detailed_entity_mention_pos_featurizer: mention_1_POS and mention_2_POS\n",
    "# 5. directional_middle_len_featurizer: average length of middle words for forward and backward directions\n",
    "# 6. detailed_left_right_window_featurizer: A window of {1, 2} words to the left of Entity 1 and right of Entity 2\n",
    "# 7. detailed_left_right_pos_window_featurizer: A window of {1, 2} words' POS tags to the left of Entity 1 and right of Entity 2\n",
    "# My peak score was: 0.787\n",
    "if 'IS_GRADESCOPE_ENV' not in os.environ:\n",
    "    import nltk\n",
    "    from nltk.util import ngrams\n",
    "    from sklearn.ensemble import RandomForestClassifier\n",
    "    \n",
    "    def get_ngrams(tokens, n=1):\n",
    "        if n == 1:\n",
    "            return [' '.join(ngram) for ngram in ngrams(tokens, n)]\n",
    "        else:\n",
    "            return [' '.join(ngram) for ngram \n",
    "                    in ngrams(tokens, n, pad_left=True, pad_right=True, \n",
    "                              left_pad_symbol='<s>', right_pad_symbol='</s>')]\n",
    "    \n",
    "    def directional_middle_ngram_featurizer(kbt, corpus, feature_counter):\n",
    "        subject_object_suffix = \"_SO\"\n",
    "        object_subject_suffix = \"_OS\"\n",
    "\n",
    "        for n in range(1, 4):\n",
    "            for ex in corpus.get_examples_for_entities(kbt.sbj, kbt.obj):\n",
    "                for ngram in get_ngrams(ex.middle.split(' '), n):\n",
    "                    feature_counter[ngram + subject_object_suffix] += 1\n",
    "            for ex in corpus.get_examples_for_entities(kbt.obj, kbt.sbj):\n",
    "                for ngram in get_ngrams(ex.middle.split(' '), n):\n",
    "                    feature_counter[ngram + object_subject_suffix] += 1\n",
    "\n",
    "        return feature_counter\n",
    "    \n",
    "    def directional_middle_pos_ngram_featurizer(kbt, corpus, feature_counter):\n",
    "        subject_object_suffix = \"_SO\"\n",
    "        object_subject_suffix = \"_OS\"\n",
    "\n",
    "        for n in range(1, 4):\n",
    "            for ex in corpus.get_examples_for_entities(kbt.sbj, kbt.obj):\n",
    "                for ngram in get_ngrams(get_tags(ex.middle_POS), n):\n",
    "                    feature_counter[ngram + subject_object_suffix] += 1\n",
    "            for ex in corpus.get_examples_for_entities(kbt.obj, kbt.sbj):\n",
    "                for ngram in get_ngrams(get_tags(ex.middle_POS), n):\n",
    "                    feature_counter[ngram + object_subject_suffix] += 1\n",
    "\n",
    "        return feature_counter\n",
    "    \n",
    "    def detailed_entity_mention_featurizer(kbt, corpus, feature_counter):\n",
    "        first_entity_subject_object_suffix = \"_1_SO\"\n",
    "        second_entity_subject_object_suffix = \"_2_SO\"\n",
    "        first_entity_object_subject_suffix = \"_1_OS\"\n",
    "        second_entity_object_subject_suffix = \"_2_OS\"\n",
    "\n",
    "        for ex in corpus.get_examples_for_entities(kbt.sbj, kbt.obj):\n",
    "            for mention in ex.mention_1.split(' '):\n",
    "                feature_counter[mention + first_entity_subject_object_suffix] += 1\n",
    "            for mention in ex.mention_2.split(' '):\n",
    "                feature_counter[mention + second_entity_subject_object_suffix] += 1\n",
    "        for ex in corpus.get_examples_for_entities(kbt.obj, kbt.sbj):\n",
    "            for mention in ex.mention_1.split(' '):\n",
    "                feature_counter[mention + first_entity_object_subject_suffix] += 1\n",
    "            for mention in ex.mention_2.split(' '):\n",
    "                feature_counter[mention + second_entity_object_subject_suffix] += 1\n",
    "\n",
    "        return feature_counter\n",
    "    \n",
    "    def detailed_entity_mention_pos_featurizer(kbt, corpus, feature_counter):\n",
    "        first_entity_subject_object_suffix = \"_1_SO\"\n",
    "        second_entity_subject_object_suffix = \"_2_SO\"\n",
    "        first_entity_object_subject_suffix = \"_1_OS\"\n",
    "        second_entity_object_subject_suffix = \"_2_OS\"\n",
    "\n",
    "        for ex in corpus.get_examples_for_entities(kbt.sbj, kbt.obj):\n",
    "            for pos in get_tags(ex.mention_1_POS):\n",
    "                feature_counter[pos + first_entity_subject_object_suffix] += 1\n",
    "            for pos in get_tags(ex.mention_2_POS):\n",
    "                feature_counter[pos + second_entity_subject_object_suffix] += 1\n",
    "        for ex in corpus.get_examples_for_entities(kbt.obj, kbt.sbj):\n",
    "            for pos in get_tags(ex.mention_1_POS):\n",
    "                feature_counter[pos + first_entity_object_subject_suffix] += 1\n",
    "            for pos in get_tags(ex.mention_2_POS):\n",
    "                feature_counter[pos + second_entity_object_subject_suffix] += 1\n",
    "\n",
    "        return feature_counter\n",
    "    \n",
    "    def directional_middle_len_featurizer(kbt, corpus, feature_counter):\n",
    "        subject_object_suffix = \"_SO\"\n",
    "        object_subject_suffix = \"_OS\"\n",
    "        middle_len_prefix = \"middle_len\"\n",
    "\n",
    "        middle_len_so = 0\n",
    "        ex_num_so = 0\n",
    "        for ex in corpus.get_examples_for_entities(kbt.sbj, kbt.obj):\n",
    "            middle_len_so += len(ex.middle)\n",
    "            ex_num_so += 1\n",
    "        feature_counter[middle_len_prefix + subject_object_suffix] = 0\n",
    "        if ex_num_so > 0:\n",
    "            feature_counter[middle_len_prefix + subject_object_suffix] = middle_len_so / ex_num_so\n",
    "\n",
    "        middle_len_os = 0\n",
    "        ex_num_os = 0\n",
    "        for ex in corpus.get_examples_for_entities(kbt.obj, kbt.sbj):\n",
    "            middle_len_os += len(ex.middle)\n",
    "            ex_num_os += 1\n",
    "        feature_counter[middle_len_prefix + object_subject_suffix] = 0\n",
    "        if ex_num_os > 0:\n",
    "            feature_counter[middle_len_prefix + object_subject_suffix] = middle_len_os / ex_num_os\n",
    "\n",
    "        return feature_counter\n",
    "    \n",
    "    def detailed_left_right_window_featurizer(kbt, corpus, feature_counter):\n",
    "        left_subject_object_suffix = \"_L_SO\"\n",
    "        left_object_subject_suffix = \"_L_OS\"\n",
    "        right_subject_object_suffix = \"_R_SO\"\n",
    "        right_object_subject_suffix = \"_R_OS\"\n",
    "        pad = '#PAD#'\n",
    "\n",
    "        for ex in corpus.get_examples_for_entities(kbt.sbj, kbt.obj):\n",
    "            # window size = 1\n",
    "            feature_counter[([pad] + ex.left.split(' ')[-1:])[-1] + left_subject_object_suffix] += 1\n",
    "            feature_counter[(ex.right.split(' ')[0:1] + [pad])[0] + right_subject_object_suffix] += 1\n",
    "            # window size = 2\n",
    "            feature_counter[' '.join(([pad] * 2 + ex.left.split(' ')[-2:])[-2:]) + left_subject_object_suffix] += 1\n",
    "            feature_counter[' '.join((ex.right.split(' ')[0:2] + [pad] * 2)[0:2]) + right_subject_object_suffix] += 1\n",
    "        for ex in corpus.get_examples_for_entities(kbt.obj, kbt.sbj):\n",
    "            # window size = 1\n",
    "            feature_counter[([pad] + ex.left.split(' ')[-1:])[-1] + left_object_subject_suffix] += 1\n",
    "            feature_counter[(ex.right.split(' ')[0:1] + [pad])[0] + right_object_subject_suffix] += 1\n",
    "            # window size = 2\n",
    "            feature_counter[' '.join(([pad] * 2 + ex.left.split(' ')[-2:])[-2:]) + left_object_subject_suffix] += 1\n",
    "            feature_counter[' '.join((ex.right.split(' ')[0:2] + [pad] * 2)[0:2]) + right_object_subject_suffix] += 1    \n",
    "        return feature_counter\n",
    "    \n",
    "    def detailed_left_right_pos_window_featurizer(kbt, corpus, feature_counter):\n",
    "        left_subject_object_suffix = \"_L_SO\"\n",
    "        left_object_subject_suffix = \"_L_OS\"\n",
    "        right_subject_object_suffix = \"_R_SO\"\n",
    "        right_object_subject_suffix = \"_R_OS\"\n",
    "        pad = '#PAD#'\n",
    "\n",
    "        for ex in corpus.get_examples_for_entities(kbt.sbj, kbt.obj):\n",
    "            # window size = 1\n",
    "            feature_counter[([pad] + get_tags(ex.left_POS)[-1:])[-1] + left_subject_object_suffix] += 1\n",
    "            feature_counter[(get_tags(ex.right_POS)[0:1] + [pad])[0] + right_subject_object_suffix] += 1\n",
    "            # window size = 2\n",
    "            feature_counter[' '.join(([pad] * 2 + get_tags(ex.left_POS)[-2:])[-2:]) + left_subject_object_suffix] += 1\n",
    "            feature_counter[' '.join((get_tags(ex.right_POS)[0:2] + [pad] * 2)[0:2]) + right_subject_object_suffix] += 1\n",
    "        for ex in corpus.get_examples_for_entities(kbt.obj, kbt.sbj):\n",
    "            # window size = 1\n",
    "            feature_counter[([pad] + get_tags(ex.left_POS)[-1:])[-1] + left_object_subject_suffix] += 1\n",
    "            feature_counter[(get_tags(ex.right_POS)[0:1] + [pad])[0] + right_object_subject_suffix] += 1\n",
    "            # window size = 2\n",
    "            feature_counter[' '.join(([pad] * 2 + get_tags(ex.left_POS)[-2:])[-2:]) + left_object_subject_suffix] += 1\n",
    "            feature_counter[' '.join((get_tags(ex.right_POS)[0:2] + [pad] * 2)[0:2]) + right_object_subject_suffix] += 1\n",
    "\n",
    "        return feature_counter\n",
    "    \n",
    "    featurizers=[directional_middle_ngram_featurizer,\n",
    "                 directional_middle_pos_ngram_featurizer,\n",
    "                 detailed_entity_mention_featurizer,\n",
    "                 detailed_entity_mention_pos_featurizer,\n",
    "                 directional_middle_len_featurizer,\n",
    "                 detailed_left_right_window_featurizer,\n",
    "                 detailed_left_right_pos_window_featurizer]\n",
    "    \n",
    "    model = lambda: RandomForestClassifier(n_jobs=-1) # I don't see big difference with different parameters\n",
    "\n",
    "    results = rel_ext.experiment(\n",
    "        splits,\n",
    "        train_split='train',\n",
    "        test_split='dev',\n",
    "        featurizers=featurizers,\n",
    "        model_factory=model,\n",
    "        verbose=True)\n",
    "\n",
    "# relation              precision     recall    f-score    support       size\n",
    "# ------------------    ---------  ---------  ---------  ---------  ---------\n",
    "# adjoins                   0.967      0.524      0.827        340       5716\n",
    "# author                    0.900      0.780      0.873        509       5885\n",
    "# capital                   0.919      0.358      0.700         95       5471\n",
    "# contains                  0.913      0.827      0.894       3904       9280\n",
    "# film_performance          0.925      0.689      0.866        766       6142\n",
    "# founders                  0.910      0.476      0.770        380       5756\n",
    "# genre                     0.889      0.282      0.622        170       5546\n",
    "# has_sibling               0.957      0.531      0.825        499       5875\n",
    "# has_spouse                0.949      0.598      0.849        594       5970\n",
    "# is_a                      0.931      0.491      0.790        497       5873\n",
    "# nationality               0.966      0.561      0.844        301       5677\n",
    "# parents                   0.962      0.641      0.874        312       5688\n",
    "# place_of_birth            0.949      0.399      0.744        233       5609\n",
    "# place_of_death            0.978      0.283      0.656        159       5535\n",
    "# profession                0.944      0.478      0.790        247       5623\n",
    "# worked_at                 0.919      0.326      0.674        242       5618\n",
    "# ------------------    ---------  ---------  ---------  ---------  ---------\n",
    "# macro-average             0.936      0.515      0.787       9248      95264\n",
    "\n",
    "# STOP COMMENT: Please do not remove this comment."
   ]
  },
  {
   "cell_type": "markdown",
   "metadata": {},
   "source": [
    "## Bake-off [1 point]\n",
    "\n",
    "For the bake-off, we will release a test set. The announcement will go out on the discussion forum. You will evaluate your custom model from the previous question on these new datasets using the function `rel_ext.bake_off_experiment`. Rules:\n",
    "\n",
    "1. Only one evaluation is permitted.\n",
    "1. No additional system tuning is permitted once the bake-off has started.\n",
    "\n",
    "The cells below this one constitute your bake-off entry.\n",
    "\n",
    "People who enter will receive the additional homework point, and people whose systems achieve the top score will receive an additional 0.5 points. We will test the top-performing systems ourselves, and only systems for which we can reproduce the reported results will win the extra 0.5 points.\n",
    "\n",
    "Late entries will be accepted, but they cannot earn the extra 0.5 points. Similarly, you cannot win the bake-off unless your homework is submitted on time.\n",
    "\n",
    "The announcement will include the details on where to submit your entry."
   ]
  },
  {
   "cell_type": "code",
   "execution_count": 35,
   "metadata": {},
   "outputs": [
    {
     "name": "stdout",
     "output_type": "stream",
     "text": [
      "relation              precision     recall    f-score    support       size\n",
      "------------------    ---------  ---------  ---------  ---------  ---------\n",
      "adjoins                   0.965      0.566      0.846        438       7122\n",
      "author                    0.927      0.747      0.884        645       7329\n",
      "capital                   0.892      0.287      0.627        115       6799\n",
      "contains                  0.892      0.825      0.878       3808      10492\n",
      "film_performance          0.947      0.673      0.876       1011       7695\n",
      "founders                  0.952      0.444      0.774        444       7128\n",
      "genre                     0.966      0.298      0.667        188       6872\n",
      "has_sibling               0.974      0.524      0.831        717       7401\n",
      "has_spouse                0.959      0.599      0.856        780       7464\n",
      "is_a                      0.972      0.457      0.793        611       7295\n",
      "nationality               0.955      0.496      0.806        383       7067\n",
      "parents                   0.974      0.698      0.902        427       7111\n",
      "place_of_birth            0.977      0.430      0.778        291       6975\n",
      "place_of_death            1.000      0.225      0.592        200       6884\n",
      "profession                0.976      0.387      0.748        310       6994\n",
      "worked_at                 0.977      0.393      0.753        323       7007\n",
      "------------------    ---------  ---------  ---------  ---------  ---------\n",
      "macro-average             0.956      0.503      0.788      10691     117635\n"
     ]
    }
   ],
   "source": [
    "# Enter your bake-off assessment code in this cell.\n",
    "# Please do not remove this comment.\n",
    "if 'IS_GRADESCOPE_ENV' not in os.environ:\n",
    "    rel_ext_data_home_test = os.path.join(\n",
    "        rel_ext_data_home, 'bakeoff-rel_ext-test-data')\n",
    "    rel_ext.bake_off_experiment(results, rel_ext_data_home_test)"
   ]
  },
  {
   "cell_type": "code",
   "execution_count": 36,
   "metadata": {},
   "outputs": [],
   "source": [
    "# On an otherwise blank line in this cell, please enter\n",
    "# your macro-average f-score (an F_0.5 score) as reported\n",
    "# by the code above. Please enter only a number between\n",
    "# 0 and 1 inclusive. Please do not remove this comment.\n",
    "if 'IS_GRADESCOPE_ENV' not in os.environ:\n",
    "    0.788"
   ]
  }
 ],
 "metadata": {
  "kernelspec": {
   "display_name": "nlu",
   "language": "python",
   "name": "nlu"
  },
  "language_info": {
   "codemirror_mode": {
    "name": "ipython",
    "version": 3
   },
   "file_extension": ".py",
   "mimetype": "text/x-python",
   "name": "python",
   "nbconvert_exporter": "python",
   "pygments_lexer": "ipython3",
   "version": "3.7.7"
  },
  "widgets": {
   "state": {},
   "version": "1.1.2"
  }
 },
 "nbformat": 4,
 "nbformat_minor": 2
}
