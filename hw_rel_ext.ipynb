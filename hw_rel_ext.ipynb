{
 "cells": [
  {
   "cell_type": "markdown",
   "metadata": {},
   "source": [
    "# Homework and bake-off: Relation extraction using distant supervision"
   ]
  },
  {
   "cell_type": "code",
   "execution_count": 1,
   "metadata": {},
   "outputs": [],
   "source": [
    "__author__ = \"Bill MacCartney and Christopher Potts\"\n",
    "__version__ = \"CS224u, Stanford, Fall 2020\""
   ]
  },
  {
   "cell_type": "markdown",
   "metadata": {},
   "source": [
    "## Contents\n",
    "\n",
    "1. [Overview](#Overview)\n",
    "1. [Set-up](#Set-up)\n",
    "1. [Baselines](#Baselines)\n",
    "  1. [Hand-build feature functions](#Hand-build-feature-functions)\n",
    "  1. [Distributed representations](#Distributed-representations)\n",
    "1. [Homework questions](#Homework-questions)\n",
    "  1. [Different model factory [1 points]](#Different-model-factory-[1-points])\n",
    "  1. [Directional unigram features [1.5 points]](#Directional-unigram-features-[1.5-points])\n",
    "  1. [The part-of-speech tags of the \"middle\" words [1.5 points]](#The-part-of-speech-tags-of-the-\"middle\"-words-[1.5-points])\n",
    "  1. [Bag of Synsets [2 points]](#Bag-of-Synsets-[2-points])\n",
    "  1. [Your original system [3 points]](#Your-original-system-[3-points])\n",
    "1. [Bake-off [1 point]](#Bake-off-[1-point])"
   ]
  },
  {
   "cell_type": "markdown",
   "metadata": {},
   "source": [
    "## Overview\n",
    "\n",
    "This homework and associated bake-off are devoted to developing really effective relation extraction systems using distant supervision. \n",
    "\n",
    "As with the previous assignments, this notebook first establishes a baseline system. The initial homework questions ask you to create additional baselines and suggest areas for innovation, and the final homework question asks you to develop an original system for you to enter into the bake-off."
   ]
  },
  {
   "cell_type": "markdown",
   "metadata": {},
   "source": [
    "## Set-up\n",
    "\n",
    "See [the first notebook in this unit](rel_ext_01_task.ipynb#Set-up) for set-up instructions."
   ]
  },
  {
   "cell_type": "code",
   "execution_count": 2,
   "metadata": {},
   "outputs": [],
   "source": [
    "import numpy as np\n",
    "import os\n",
    "import rel_ext\n",
    "from sklearn.linear_model import LogisticRegression\n",
    "import utils"
   ]
  },
  {
   "cell_type": "code",
   "execution_count": 3,
   "metadata": {
    "pycharm": {
     "name": "#%%\n"
    }
   },
   "outputs": [],
   "source": [
    "# Set all the random seeds for reproducibility. Only the\n",
    "# system seed is relevant for this notebook.\n",
    "\n",
    "utils.fix_random_seeds()"
   ]
  },
  {
   "cell_type": "markdown",
   "metadata": {},
   "source": [
    "As usual, we unite our corpus and KB into a dataset, and create some splits for experimentation:"
   ]
  },
  {
   "cell_type": "code",
   "execution_count": 4,
   "metadata": {},
   "outputs": [],
   "source": [
    "rel_ext_data_home = os.path.join('data', 'rel_ext_data')"
   ]
  },
  {
   "cell_type": "code",
   "execution_count": 5,
   "metadata": {},
   "outputs": [],
   "source": [
    "corpus = rel_ext.Corpus(os.path.join(rel_ext_data_home, 'corpus.tsv.gz'))"
   ]
  },
  {
   "cell_type": "code",
   "execution_count": 6,
   "metadata": {},
   "outputs": [],
   "source": [
    "kb = rel_ext.KB(os.path.join(rel_ext_data_home, 'kb.tsv.gz'))"
   ]
  },
  {
   "cell_type": "code",
   "execution_count": 7,
   "metadata": {},
   "outputs": [],
   "source": [
    "dataset = rel_ext.Dataset(corpus, kb)"
   ]
  },
  {
   "cell_type": "markdown",
   "metadata": {},
   "source": [
    "You are not wedded to this set-up for splits. The bake-off will be conducted on a previously unseen test-set, so all of the data in `dataset` is fair game:"
   ]
  },
  {
   "cell_type": "code",
   "execution_count": 8,
   "metadata": {},
   "outputs": [],
   "source": [
    "splits = dataset.build_splits(\n",
    "    split_names=['tiny', 'train', 'dev'],\n",
    "    split_fracs=[0.01, 0.79, 0.20],\n",
    "    seed=1)"
   ]
  },
  {
   "cell_type": "code",
   "execution_count": 9,
   "metadata": {},
   "outputs": [
    {
     "data": {
      "text/plain": [
       "{'tiny': Corpus with 3,474 examples; KB with 445 triples,\n",
       " 'train': Corpus with 263,285 examples; KB with 36,191 triples,\n",
       " 'dev': Corpus with 64,937 examples; KB with 9,248 triples,\n",
       " 'all': Corpus with 331,696 examples; KB with 45,884 triples}"
      ]
     },
     "execution_count": 9,
     "metadata": {},
     "output_type": "execute_result"
    }
   ],
   "source": [
    "splits"
   ]
  },
  {
   "cell_type": "markdown",
   "metadata": {},
   "source": [
    "## Baselines"
   ]
  },
  {
   "cell_type": "markdown",
   "metadata": {},
   "source": [
    "### Hand-build feature functions"
   ]
  },
  {
   "cell_type": "code",
   "execution_count": 10,
   "metadata": {},
   "outputs": [],
   "source": [
    "def simple_bag_of_words_featurizer(kbt, corpus, feature_counter):\n",
    "    for ex in corpus.get_examples_for_entities(kbt.sbj, kbt.obj):\n",
    "        for word in ex.middle.split(' '):\n",
    "            feature_counter[word] += 1\n",
    "    for ex in corpus.get_examples_for_entities(kbt.obj, kbt.sbj):\n",
    "        for word in ex.middle.split(' '):\n",
    "            feature_counter[word] += 1\n",
    "    return feature_counter"
   ]
  },
  {
   "cell_type": "code",
   "execution_count": 11,
   "metadata": {},
   "outputs": [],
   "source": [
    "featurizers = [simple_bag_of_words_featurizer]"
   ]
  },
  {
   "cell_type": "code",
   "execution_count": 12,
   "metadata": {},
   "outputs": [],
   "source": [
    "model_factory = lambda: LogisticRegression(fit_intercept=True, solver='liblinear')"
   ]
  },
  {
   "cell_type": "code",
   "execution_count": 13,
   "metadata": {},
   "outputs": [
    {
     "name": "stdout",
     "output_type": "stream",
     "text": [
      "relation              precision     recall    f-score    support       size\n",
      "------------------    ---------  ---------  ---------  ---------  ---------\n",
      "adjoins                   0.868      0.385      0.694        340       5716\n",
      "author                    0.819      0.552      0.747        509       5885\n",
      "capital                   0.654      0.179      0.427         95       5471\n",
      "contains                  0.801      0.589      0.747       3904       9280\n",
      "film_performance          0.752      0.557      0.703        766       6142\n",
      "founders                  0.808      0.387      0.663        380       5756\n",
      "genre                     0.528      0.165      0.366        170       5546\n",
      "has_sibling               0.816      0.230      0.541        499       5875\n",
      "has_spouse                0.840      0.318      0.633        594       5970\n",
      "is_a                      0.766      0.223      0.515        497       5873\n",
      "nationality               0.598      0.173      0.401        301       5677\n",
      "parents                   0.863      0.526      0.765        312       5688\n",
      "place_of_birth            0.671      0.210      0.467        233       5609\n",
      "place_of_death            0.581      0.113      0.318        159       5535\n",
      "profession                0.701      0.190      0.456        247       5623\n",
      "worked_at                 0.750      0.248      0.534        242       5618\n",
      "------------------    ---------  ---------  ---------  ---------  ---------\n",
      "macro-average             0.738      0.315      0.561       9248      95264\n"
     ]
    }
   ],
   "source": [
    "baseline_results = rel_ext.experiment(\n",
    "    splits,\n",
    "    train_split='train',\n",
    "    test_split='dev',\n",
    "    featurizers=featurizers,\n",
    "    model_factory=model_factory,\n",
    "    verbose=True)"
   ]
  },
  {
   "cell_type": "markdown",
   "metadata": {},
   "source": [
    "Studying model weights might yield insights:"
   ]
  },
  {
   "cell_type": "code",
   "execution_count": 14,
   "metadata": {},
   "outputs": [
    {
     "name": "stdout",
     "output_type": "stream",
     "text": [
      "Highest and lowest feature weights for relation adjoins:\n",
      "\n",
      "     2.494 Córdoba\n",
      "     2.382 Taluks\n",
      "     2.253 Valais\n",
      "     ..... .....\n",
      "    -1.592 who\n",
      "    -1.595 6th\n",
      "    -1.689 century\n",
      "\n",
      "Highest and lowest feature weights for relation author:\n",
      "\n",
      "     2.678 books\n",
      "     2.642 author\n",
      "     2.446 musical\n",
      "     ..... .....\n",
      "    -2.050 directed\n",
      "    -2.136 1774\n",
      "    -2.725 infamous\n",
      "\n",
      "Highest and lowest feature weights for relation capital:\n",
      "\n",
      "     3.275 capital\n",
      "     1.633 city\n",
      "     1.631 posted\n",
      "     ..... .....\n",
      "    -1.336 and\n",
      "    -2.597 Province\n",
      "    -2.605 Isfahan\n",
      "\n",
      "Highest and lowest feature weights for relation contains:\n",
      "\n",
      "     2.408 bordered\n",
      "     2.236 affiliated\n",
      "     2.134 bounded\n",
      "     ..... .....\n",
      "    -2.968 Midlands\n",
      "    -3.047 Lancashire\n",
      "    -3.440 6th\n",
      "\n",
      "Highest and lowest feature weights for relation film_performance:\n",
      "\n",
      "     4.076 starring\n",
      "     3.809 alongside\n",
      "     3.103 co-starring\n",
      "     ..... .....\n",
      "    -1.993 Zigzag\n",
      "    -2.015 spy\n",
      "    -3.983 double\n",
      "\n",
      "Highest and lowest feature weights for relation founders:\n",
      "\n",
      "     4.043 founded\n",
      "     3.904 co-founder\n",
      "     3.888 founder\n",
      "     ..... .....\n",
      "    -1.495 Buddha\n",
      "    -1.498 family\n",
      "    -1.752 top\n",
      "\n",
      "Highest and lowest feature weights for relation genre:\n",
      "\n",
      "     2.876 series\n",
      "     2.659 album\n",
      "     2.347 game\n",
      "     ..... .....\n",
      "    -1.305 developed\n",
      "    -1.354 and\n",
      "    -1.874 at\n",
      "\n",
      "Highest and lowest feature weights for relation has_sibling:\n",
      "\n",
      "     5.076 brother\n",
      "     3.789 sister\n",
      "     2.665 Marlon\n",
      "     ..... .....\n",
      "    -1.385 alongside\n",
      "    -1.804 Picasso\n",
      "    -1.876 Her\n",
      "\n",
      "Highest and lowest feature weights for relation has_spouse:\n",
      "\n",
      "     5.062 wife\n",
      "     4.399 widow\n",
      "     4.313 married\n",
      "     ..... .....\n",
      "    -1.981 unfaithful\n",
      "    -2.047 Straus\n",
      "    -2.047 Isidor\n",
      "\n",
      "Highest and lowest feature weights for relation is_a:\n",
      "\n",
      "     2.712 \n",
      "     2.561 vocalist\n",
      "     2.507 philosopher\n",
      "     ..... .....\n",
      "    -1.844 Corvus\n",
      "    -1.882 birds\n",
      "    -3.658 cat\n",
      "\n",
      "Highest and lowest feature weights for relation nationality:\n",
      "\n",
      "     3.008 born\n",
      "     1.921 said\n",
      "     1.898 Pinky\n",
      "     ..... .....\n",
      "    -1.381 and\n",
      "    -1.411 or\n",
      "    -1.833 American\n",
      "\n",
      "Highest and lowest feature weights for relation parents:\n",
      "\n",
      "     4.979 son\n",
      "     4.724 daughter\n",
      "     4.393 father\n",
      "     ..... .....\n",
      "    -1.957 Jahangir\n",
      "    -2.395 VIII\n",
      "    -2.848 Indian\n",
      "\n",
      "Highest and lowest feature weights for relation place_of_birth:\n",
      "\n",
      "     4.132 born\n",
      "     3.093 birthplace\n",
      "     2.783 mayor\n",
      "     ..... .....\n",
      "    -1.415 raised\n",
      "    -1.480 and\n",
      "    -1.566 Indian\n",
      "\n",
      "Highest and lowest feature weights for relation place_of_death:\n",
      "\n",
      "     2.754 died\n",
      "     2.077 where\n",
      "     1.981 assassinated\n",
      "     ..... .....\n",
      "    -1.106 coast\n",
      "    -1.155 as\n",
      "    -1.291 and\n",
      "\n",
      "Highest and lowest feature weights for relation profession:\n",
      "\n",
      "     3.204 \n",
      "     2.816 vocalist\n",
      "     2.630 philosopher\n",
      "     ..... .....\n",
      "    -1.183 in\n",
      "    -1.419 are\n",
      "    -2.051 on\n",
      "\n",
      "Highest and lowest feature weights for relation worked_at:\n",
      "\n",
      "     3.005 CEO\n",
      "     2.891 professor\n",
      "     2.836 employee\n",
      "     ..... .....\n",
      "    -1.359 bassist\n",
      "    -1.675 family\n",
      "    -1.730 or\n",
      "\n"
     ]
    }
   ],
   "source": [
    "rel_ext.examine_model_weights(baseline_results)"
   ]
  },
  {
   "cell_type": "markdown",
   "metadata": {},
   "source": [
    "### Distributed representations\n",
    "\n",
    "This simple baseline sums the GloVe vector representations for all of the words in the \"middle\" span and feeds those representations into the standard `LogisticRegression`-based `model_factory`. The crucial parameter that enables this is `vectorize=False`. This essentially says to `rel_ext.experiment` that your featurizer or your model will do the work of turning examples into vectors; in that case, `rel_ext.experiment` just organizes these representations by relation type."
   ]
  },
  {
   "cell_type": "code",
   "execution_count": 15,
   "metadata": {},
   "outputs": [],
   "source": [
    "GLOVE_HOME = os.path.join('data', 'glove.6B')"
   ]
  },
  {
   "cell_type": "code",
   "execution_count": 16,
   "metadata": {},
   "outputs": [],
   "source": [
    "glove_lookup = utils.glove2dict(\n",
    "    os.path.join(GLOVE_HOME, 'glove.6B.300d.txt'))"
   ]
  },
  {
   "cell_type": "code",
   "execution_count": 17,
   "metadata": {},
   "outputs": [],
   "source": [
    "def glove_middle_featurizer(kbt, corpus, np_func=np.sum):\n",
    "    reps = []\n",
    "    for ex in corpus.get_examples_for_entities(kbt.sbj, kbt.obj):\n",
    "        for word in ex.middle.split():\n",
    "            rep = glove_lookup.get(word)\n",
    "            if rep is not None:\n",
    "                reps.append(rep)\n",
    "    # A random representation of the right dimensionality if the\n",
    "    # example happens not to overlap with GloVe's vocabulary:\n",
    "    if len(reps) == 0:\n",
    "        dim = len(next(iter(glove_lookup.values())))\n",
    "        return utils.randvec(n=dim)\n",
    "    else:\n",
    "        return np_func(reps, axis=0)"
   ]
  },
  {
   "cell_type": "code",
   "execution_count": 18,
   "metadata": {},
   "outputs": [
    {
     "name": "stdout",
     "output_type": "stream",
     "text": [
      "relation              precision     recall    f-score    support       size\n",
      "------------------    ---------  ---------  ---------  ---------  ---------\n",
      "adjoins                   0.890      0.453      0.746        340       5716\n",
      "author                    0.873      0.446      0.733        509       5885\n",
      "capital                   0.607      0.179      0.411         95       5471\n",
      "contains                  0.662      0.407      0.588       3904       9280\n",
      "film_performance          0.817      0.333      0.633        766       6142\n",
      "founders                  0.770      0.247      0.541        380       5756\n",
      "genre                     0.526      0.059      0.203        170       5546\n",
      "has_sibling               0.824      0.244      0.559        499       5875\n",
      "has_spouse                0.835      0.342      0.648        594       5970\n",
      "is_a                      0.809      0.145      0.422        497       5873\n",
      "nationality               0.635      0.179      0.421        301       5677\n",
      "parents                   0.851      0.404      0.697        312       5688\n",
      "place_of_birth            0.689      0.219      0.482        233       5609\n",
      "place_of_death            0.316      0.075      0.193        159       5535\n",
      "profession                0.761      0.142      0.406        247       5623\n",
      "worked_at                 0.789      0.248      0.549        242       5618\n",
      "------------------    ---------  ---------  ---------  ---------  ---------\n",
      "macro-average             0.729      0.258      0.515       9248      95264\n"
     ]
    }
   ],
   "source": [
    "glove_results = rel_ext.experiment(\n",
    "    splits,\n",
    "    train_split='train',\n",
    "    test_split='dev',\n",
    "    featurizers=[glove_middle_featurizer],\n",
    "    vectorize=False, # Crucial for this featurizer!\n",
    "    verbose=True)"
   ]
  },
  {
   "cell_type": "markdown",
   "metadata": {},
   "source": [
    "With the same basic code design, one can also use the PyTorch models included in the course repo, or write new ones that are better aligned with the task. For those models, it's likely that the featurizer will just return a list of tokens (or perhaps a list of lists of tokens), and the model will map those into vectors using an embedding."
   ]
  },
  {
   "cell_type": "markdown",
   "metadata": {},
   "source": [
    "## Homework questions\n",
    "\n",
    "Please embed your homework responses in this notebook, and do not delete any cells from the notebook. (You are free to add as many cells as you like as part of your responses.)"
   ]
  },
  {
   "cell_type": "markdown",
   "metadata": {},
   "source": [
    "### Different model factory [1 points]\n",
    "\n",
    "The code in `rel_ext` makes it very easy to experiment with other classifier models: one need only redefine the `model_factory` argument. This question asks you to assess a [Support Vector Classifier](https://scikit-learn.org/stable/modules/generated/sklearn.svm.SVC.html).\n",
    "\n",
    "__To submit:__ A wrapper function `run_svm_model_factory` that does the following: \n",
    "\n",
    "1. Uses `rel_ext.experiment` with the model factory set to one based in an `SVC` with `kernel='linear'` and all other arguments left with default values. \n",
    "1. Trains on the 'train' part of `splits`.\n",
    "1. Assesses on the `dev` part of `splits`.\n",
    "1. Uses `featurizers` as defined above. \n",
    "1. Returns the return value of `rel_ext.experiment` for this set-up.\n",
    "\n",
    "The function `test_run_svm_model_factory` will check that your function conforms to these general specifications."
   ]
  },
  {
   "cell_type": "code",
   "execution_count": 19,
   "metadata": {},
   "outputs": [],
   "source": [
    "from sklearn.svm import SVC\n",
    "svm_model = lambda: SVC(kernel='linear')"
   ]
  },
  {
   "cell_type": "code",
   "execution_count": 20,
   "metadata": {},
   "outputs": [],
   "source": [
    "def run_svm_model_factory():\n",
    "    results = rel_ext.experiment(\n",
    "        splits,\n",
    "        train_split='train',\n",
    "        test_split='dev',\n",
    "        featurizers=featurizers,\n",
    "        model_factory=svm_model,\n",
    "        verbose=True)\n",
    "    return results"
   ]
  },
  {
   "cell_type": "code",
   "execution_count": 21,
   "metadata": {},
   "outputs": [],
   "source": [
    "def test_run_svm_model_factory(run_svm_model_factory):\n",
    "    results = run_svm_model_factory()\n",
    "    assert 'featurizers' in results, \\\n",
    "        \"The return value of `run_svm_model_factory` seems not to be correct\"\n",
    "    # Check one of the models to make sure it's an SVC:\n",
    "    assert 'SVC' in results['models']['adjoins'].__class__.__name__, \\\n",
    "        \"It looks like the model factor wasn't set to use an SVC.\""
   ]
  },
  {
   "cell_type": "code",
   "execution_count": 22,
   "metadata": {},
   "outputs": [
    {
     "name": "stdout",
     "output_type": "stream",
     "text": [
      "relation              precision     recall    f-score    support       size\n",
      "------------------    ---------  ---------  ---------  ---------  ---------\n",
      "adjoins                   0.810      0.365      0.651        340       5716\n",
      "author                    0.763      0.607      0.726        509       5885\n",
      "capital                   0.730      0.284      0.556         95       5471\n",
      "contains                  0.785      0.603      0.741       3904       9280\n",
      "film_performance          0.732      0.612      0.704        766       6142\n",
      "founders                  0.748      0.437      0.655        380       5756\n",
      "genre                     0.558      0.253      0.450        170       5546\n",
      "has_sibling               0.758      0.251      0.539        499       5875\n",
      "has_spouse                0.829      0.350      0.651        594       5970\n",
      "is_a                      0.612      0.270      0.488        497       5873\n",
      "nationality               0.510      0.176      0.370        301       5677\n",
      "parents                   0.829      0.577      0.763        312       5688\n",
      "place_of_birth            0.598      0.236      0.458        233       5609\n",
      "place_of_death            0.409      0.113      0.269        159       5535\n",
      "profession                0.532      0.239      0.427        247       5623\n",
      "worked_at                 0.661      0.306      0.536        242       5618\n",
      "------------------    ---------  ---------  ---------  ---------  ---------\n",
      "macro-average             0.679      0.355      0.561       9248      95264\n"
     ]
    }
   ],
   "source": [
    "if 'IS_GRADESCOPE_ENV' not in os.environ:\n",
    "    test_run_svm_model_factory(run_svm_model_factory)"
   ]
  },
  {
   "cell_type": "markdown",
   "metadata": {},
   "source": [
    "### Directional unigram features [1.5 points]\n",
    "\n",
    "The current bag-of-words representation makes no distinction between \"forward\" and \"reverse\" examples. But, intuitively, there is big difference between _X and his son Y_ and _Y and his son X_. This question asks you to modify `simple_bag_of_words_featurizer` to capture these differences. \n",
    "\n",
    "__To submit:__\n",
    "\n",
    "1. A feature function `directional_bag_of_words_featurizer` that is just like `simple_bag_of_words_featurizer` except that it distinguishes \"forward\" and \"reverse\". To do this, you just need to mark each word feature for whether it is derived from a subject–object example or from an object–subject example.  The included function `test_directional_bag_of_words_featurizer` should help verify that you've done this correctly.\n",
    "\n",
    "2. A call to `rel_ext.experiment` with `directional_bag_of_words_featurizer` as the only featurizer. (Aside from this, use all the default values for `rel_ext.experiment` as exemplified above in this notebook.)\n",
    "\n",
    "3. `rel_ext.experiment` returns some of the core objects used in the experiment. How many feature names does the `vectorizer` have for the experiment run in the previous step? Include the code needed for getting this value. (Note: we're partly asking you to figure out how to get this value by using the sklearn documentation, so please don't ask how to do it!)"
   ]
  },
  {
   "cell_type": "code",
   "execution_count": 23,
   "metadata": {},
   "outputs": [
    {
     "name": "stdout",
     "output_type": "stream",
     "text": [
      "relation              precision     recall    f-score    support       size\n",
      "------------------    ---------  ---------  ---------  ---------  ---------\n",
      "adjoins                   0.884      0.403      0.714        340       5716\n",
      "author                    0.860      0.601      0.792        509       5885\n",
      "capital                   0.742      0.242      0.525         95       5471\n",
      "contains                  0.832      0.648      0.787       3904       9280\n",
      "film_performance          0.822      0.651      0.781        766       6142\n",
      "founders                  0.827      0.403      0.683        380       5756\n",
      "genre                     0.696      0.229      0.495        170       5546\n",
      "has_sibling               0.828      0.251      0.567        499       5875\n",
      "has_spouse                0.851      0.347      0.659        594       5970\n",
      "is_a                      0.781      0.237      0.536        497       5873\n",
      "nationality               0.618      0.209      0.444        301       5677\n",
      "parents                   0.882      0.503      0.767        312       5688\n",
      "place_of_birth            0.750      0.232      0.518        233       5609\n",
      "place_of_death            0.618      0.132      0.356        159       5535\n",
      "profession                0.848      0.227      0.548        247       5623\n",
      "worked_at                 0.779      0.277      0.572        242       5618\n",
      "------------------    ---------  ---------  ---------  ---------  ---------\n",
      "macro-average             0.789      0.349      0.609       9248      95264\n"
     ]
    }
   ],
   "source": [
    "def directional_bag_of_words_featurizer(kbt, corpus, feature_counter):\n",
    "    # Append these to the end of the keys you add/access in\n",
    "    # `feature_counter` to distinguish the two orders. You'll\n",
    "    # need to use exactly these strings in order to pass\n",
    "    # `test_directional_bag_of_words_featurizer`.\n",
    "    subject_object_suffix = \"_SO\"\n",
    "    object_subject_suffix = \"_OS\"\n",
    "\n",
    "    for ex in corpus.get_examples_for_entities(kbt.sbj, kbt.obj):\n",
    "        for word in ex.middle.split(' '):\n",
    "            feature_counter[word + subject_object_suffix] += 1\n",
    "    for ex in corpus.get_examples_for_entities(kbt.obj, kbt.sbj):\n",
    "        for word in ex.middle.split(' '):\n",
    "            feature_counter[word + object_subject_suffix] += 1\n",
    "\n",
    "    return feature_counter\n",
    "\n",
    "\n",
    "# Call to `rel_ext.experiment`:\n",
    "directional_bag_of_words_results = rel_ext.experiment(\n",
    "        splits,\n",
    "        train_split='train',\n",
    "        test_split='dev',\n",
    "        featurizers=[directional_bag_of_words_featurizer],\n",
    "        verbose=True)"
   ]
  },
  {
   "cell_type": "code",
   "execution_count": 24,
   "metadata": {},
   "outputs": [],
   "source": [
    "def test_directional_bag_of_words_featurizer(corpus):\n",
    "    from collections import defaultdict\n",
    "    kbt = rel_ext.KBTriple(rel='worked_at', sbj='Randall_Munroe', obj='xkcd')\n",
    "    feature_counter = defaultdict(int)\n",
    "    # Make sure `feature_counter` is being updated, not reinitialized:\n",
    "    feature_counter['is_OS'] += 5\n",
    "    feature_counter = directional_bag_of_words_featurizer(kbt, corpus, feature_counter)\n",
    "    expected = defaultdict(\n",
    "        int, {'is_OS':6,'a_OS':1,'webcomic_OS':1,'created_OS':1,'by_OS':1})\n",
    "    assert feature_counter == expected, \\\n",
    "        \"Expected:\\n{}\\nGot:\\n{}\".format(expected, feature_counter)"
   ]
  },
  {
   "cell_type": "code",
   "execution_count": 25,
   "metadata": {},
   "outputs": [],
   "source": [
    "if 'IS_GRADESCOPE_ENV' not in os.environ:\n",
    "    test_directional_bag_of_words_featurizer(corpus)"
   ]
  },
  {
   "cell_type": "code",
   "execution_count": 26,
   "metadata": {},
   "outputs": [
    {
     "name": "stdout",
     "output_type": "stream",
     "text": [
      "number of feature names: 40688\n"
     ]
    }
   ],
   "source": [
    "# How many feature names does the vectorizer have for the experiment run in the previous step? 40537\n",
    "directional_bag_of_words_vectorizer = directional_bag_of_words_results['vectorizer']\n",
    "directional_bag_of_words_features_names = directional_bag_of_words_vectorizer.get_feature_names()\n",
    "print('number of feature names: {}'.format(len(directional_bag_of_words_features_names)))"
   ]
  },
  {
   "cell_type": "markdown",
   "metadata": {},
   "source": [
    "### The part-of-speech tags of the \"middle\" words [1.5 points]\n",
    "\n",
    "Our corpus distribution contains part-of-speech (POS) tagged versions of the core text spans. Let's begin to explore whether there is information in these sequences, focusing on `middle_POS`.\n",
    "\n",
    "__To submit:__\n",
    "\n",
    "1. A feature function `middle_bigram_pos_tag_featurizer` that is just like `simple_bag_of_words_featurizer` except that it creates a feature for bigram POS sequences. For example, given \n",
    "\n",
    "  `The/DT dog/N napped/V`\n",
    "  \n",
    "   we obtain the list of bigram POS sequences\n",
    "  \n",
    "   `b = ['<s> DT', 'DT N', 'N V', 'V </s>']`. \n",
    "   \n",
    "   Of course, `middle_bigram_pos_tag_featurizer` should return count dictionaries defined in terms of such bigram POS lists, on the model of `simple_bag_of_words_featurizer`.  Don't forget the start and end tags, to model those environments properly! The included function `test_middle_bigram_pos_tag_featurizer` should help verify that you've done this correctly.\n",
    "\n",
    "2. A call to `rel_ext.experiment` with `middle_bigram_pos_tag_featurizer` as the only featurizer. (Aside from this, use all the default values for `rel_ext.experiment` as exemplified above in this notebook.)"
   ]
  },
  {
   "cell_type": "code",
   "execution_count": 27,
   "metadata": {},
   "outputs": [
    {
     "name": "stdout",
     "output_type": "stream",
     "text": [
      "relation              precision     recall    f-score    support       size\n",
      "------------------    ---------  ---------  ---------  ---------  ---------\n",
      "adjoins                   0.861      0.347      0.664        340       5716\n",
      "author                    0.747      0.336      0.600        509       5885\n",
      "capital                   0.438      0.147      0.314         95       5471\n",
      "contains                  0.752      0.589      0.713       3904       9280\n",
      "film_performance          0.696      0.443      0.625        766       6142\n",
      "founders                  0.555      0.174      0.386        380       5756\n",
      "genre                     0.577      0.176      0.397        170       5546\n",
      "has_sibling               0.661      0.164      0.412        499       5875\n",
      "has_spouse                0.749      0.256      0.541        594       5970\n",
      "is_a                      0.607      0.165      0.395        497       5873\n",
      "nationality               0.434      0.076      0.224        301       5677\n",
      "parents                   0.675      0.266      0.516        312       5688\n",
      "place_of_birth            0.600      0.180      0.409        233       5609\n",
      "place_of_death            0.387      0.075      0.212        159       5535\n",
      "profession                0.705      0.174      0.438        247       5623\n",
      "worked_at                 0.452      0.116      0.286        242       5618\n",
      "------------------    ---------  ---------  ---------  ---------  ---------\n",
      "macro-average             0.618      0.230      0.446       9248      95264\n"
     ]
    }
   ],
   "source": [
    "def middle_bigram_pos_tag_featurizer(kbt, corpus, feature_counter):\n",
    "\n",
    "    for ex in corpus.get_examples_for_entities(kbt.sbj, kbt.obj):\n",
    "        for bigram in get_tag_bigrams(ex.middle_POS):\n",
    "            feature_counter[bigram] += 1\n",
    "    for ex in corpus.get_examples_for_entities(kbt.obj, kbt.sbj):\n",
    "        for bigram in get_tag_bigrams(ex.middle_POS):\n",
    "            feature_counter[bigram] += 1\n",
    "\n",
    "    return feature_counter\n",
    "\n",
    "\n",
    "def get_tag_bigrams(s):\n",
    "    \"\"\"Suggested helper method for `middle_bigram_pos_tag_featurizer`.\n",
    "    This should be defined so that it returns a list of str, where each\n",
    "    element is a POS bigram.\"\"\"\n",
    "    # The values of `start_symbol` and `end_symbol` are defined\n",
    "    # here so that you can use `test_middle_bigram_pos_tag_featurizer`.\n",
    "    start_symbol = \"<s>\"\n",
    "    end_symbol = \"</s>\"\n",
    "    \n",
    "    tags = [start_symbol] + get_tags(s) + [end_symbol]\n",
    "    return get_bigrams(tags)\n",
    "\n",
    "\n",
    "def get_bigrams(tags):\n",
    "    \"\"\"Given a list of POS sequences, returns a list of bigram POS sequences\"\"\"\n",
    "    return [t[0] + ' ' + t[1] for t in zip(tags[:-1], tags[1:])]\n",
    "\n",
    "\n",
    "def get_tags(s):\n",
    "    \"\"\"Given a sequence of word/POS elements (lemmas), this function\n",
    "    returns a list containing just the POS elements, in order.\n",
    "    \"\"\"\n",
    "    return [parse_lem(lem)[1] for lem in s.strip().split(' ') if lem]\n",
    "\n",
    "\n",
    "def parse_lem(lem):\n",
    "    \"\"\"Helper method for parsing word/POS elements. It just splits\n",
    "    on the rightmost / and returns (word, POS) as a tuple of str.\"\"\"\n",
    "    return lem.strip().rsplit('/', 1)\n",
    "\n",
    "# Call to `rel_ext.experiment`:\n",
    "middle_bigram_pos_tag_results = rel_ext.experiment(\n",
    "        splits,\n",
    "        train_split='train',\n",
    "        test_split='dev',\n",
    "        featurizers=[middle_bigram_pos_tag_featurizer],\n",
    "        verbose=True)"
   ]
  },
  {
   "cell_type": "code",
   "execution_count": 28,
   "metadata": {},
   "outputs": [],
   "source": [
    "def test_middle_bigram_pos_tag_featurizer(corpus):\n",
    "    from collections import defaultdict\n",
    "    kbt = rel_ext.KBTriple(rel='worked_at', sbj='Randall_Munroe', obj='xkcd')\n",
    "    feature_counter = defaultdict(int)\n",
    "    # Make sure `feature_counter` is being updated, not reinitialized:\n",
    "    feature_counter['<s> VBZ'] += 5\n",
    "    feature_counter = middle_bigram_pos_tag_featurizer(kbt, corpus, feature_counter)\n",
    "    expected = defaultdict(\n",
    "        int, {'<s> VBZ':6,'VBZ DT':1,'DT JJ':1,'JJ VBN':1,'VBN IN':1,'IN </s>':1})\n",
    "    assert feature_counter == expected, \\\n",
    "        \"Expected:\\n{}\\nGot:\\n{}\".format(expected, feature_counter)"
   ]
  },
  {
   "cell_type": "code",
   "execution_count": 29,
   "metadata": {},
   "outputs": [],
   "source": [
    "if 'IS_GRADESCOPE_ENV' not in os.environ:\n",
    "    test_middle_bigram_pos_tag_featurizer(corpus)"
   ]
  },
  {
   "cell_type": "markdown",
   "metadata": {},
   "source": [
    "### Bag of Synsets [2 points]\n",
    "\n",
    "The following allows you to use NLTK's WordNet API to get the synsets compatible with _dog_ as used as a noun:\n",
    "\n",
    "```\n",
    "from nltk.corpus import wordnet as wn\n",
    "dog = wn.synsets('dog', pos='n')\n",
    "dog\n",
    "[Synset('dog.n.01'),\n",
    " Synset('frump.n.01'),\n",
    " Synset('dog.n.03'),\n",
    " Synset('cad.n.01'),\n",
    " Synset('frank.n.02'),\n",
    " Synset('pawl.n.01'),\n",
    " Synset('andiron.n.01')]\n",
    "```\n",
    "\n",
    "This question asks you to create synset-based features from the word/tag pairs in `middle_POS`.\n",
    "\n",
    "__To submit:__\n",
    "\n",
    "1. A feature function `synset_featurizer` that is just like `simple_bag_of_words_featurizer` except that it returns a list of synsets derived from `middle_POS`. Stringify these objects with `str` so that they can be `dict` keys. Use `convert_tag` (included below) to convert tags to `pos` arguments usable by `wn.synsets`. The included function `test_synset_featurizer` should help verify that you've done this correctly.\n",
    "\n",
    "2. A call to `rel_ext.experiment` with `synset_featurizer` as the only featurizer. (Aside from this, use all the default values for `rel_ext.experiment`.)"
   ]
  },
  {
   "cell_type": "code",
   "execution_count": 30,
   "metadata": {},
   "outputs": [
    {
     "name": "stderr",
     "output_type": "stream",
     "text": [
      "/opt/miniconda3/envs/nlu/lib/python3.7/site-packages/sklearn/svm/_base.py:977: ConvergenceWarning: Liblinear failed to converge, increase the number of iterations.\n",
      "  \"the number of iterations.\", ConvergenceWarning)\n"
     ]
    },
    {
     "name": "stdout",
     "output_type": "stream",
     "text": [
      "relation              precision     recall    f-score    support       size\n",
      "------------------    ---------  ---------  ---------  ---------  ---------\n",
      "adjoins                   0.792      0.359      0.638        340       5716\n",
      "author                    0.792      0.450      0.688        509       5885\n",
      "capital                   0.762      0.168      0.447         95       5471\n",
      "contains                  0.792      0.586      0.740       3904       9280\n",
      "film_performance          0.763      0.554      0.709        766       6142\n",
      "founders                  0.739      0.366      0.614        380       5756\n",
      "genre                     0.500      0.206      0.389        170       5546\n",
      "has_sibling               0.775      0.220      0.515        499       5875\n",
      "has_spouse                0.812      0.306      0.611        594       5970\n",
      "is_a                      0.615      0.231      0.462        497       5873\n",
      "nationality               0.455      0.153      0.326        301       5677\n",
      "parents                   0.824      0.526      0.740        312       5688\n",
      "place_of_birth            0.533      0.210      0.408        233       5609\n",
      "place_of_death            0.435      0.126      0.292        159       5535\n",
      "profession                0.542      0.158      0.364        247       5623\n",
      "worked_at                 0.643      0.223      0.467        242       5618\n",
      "------------------    ---------  ---------  ---------  ---------  ---------\n",
      "macro-average             0.673      0.303      0.526       9248      95264\n"
     ]
    }
   ],
   "source": [
    "from nltk.corpus import wordnet as wn\n",
    "\n",
    "def synset_featurizer(kbt, corpus, feature_counter):\n",
    "\n",
    "    for ex in corpus.get_examples_for_entities(kbt.sbj, kbt.obj):\n",
    "        for synset in get_synsets(ex.middle_POS):\n",
    "            feature_counter[synset] += 1\n",
    "    for ex in corpus.get_examples_for_entities(kbt.obj, kbt.sbj):\n",
    "        for synset in get_synsets(ex.middle_POS):\n",
    "            feature_counter[synset] += 1\n",
    "\n",
    "    return feature_counter\n",
    "\n",
    "\n",
    "def get_synsets(s):\n",
    "    \"\"\"Suggested helper method for `synset_featurizer`. This should\n",
    "    be completed so that it returns a list of stringified Synsets\n",
    "    associated with elements of `s`.\n",
    "    \"\"\"\n",
    "    # Use `parse_lem` from the previous question to get a list of\n",
    "    # (word, POS) pairs. Remember to convert the POS strings.\n",
    "    wt = [parse_lem(lem) for lem in s.strip().split(' ') if lem]\n",
    "\n",
    "    return [str(synset) for p in wt for synset in wn.synsets(p[0], convert_tag(p[1]))]\n",
    "\n",
    "\n",
    "def convert_tag(t):\n",
    "    \"\"\"Converts tags so that they can be used by WordNet:\n",
    "\n",
    "    | Tag begins with | WordNet tag |\n",
    "    |-----------------|-------------|\n",
    "    | `N`             | `n`         |\n",
    "    | `V`             | `v`         |\n",
    "    | `J`             | `a`         |\n",
    "    | `R`             | `r`         |\n",
    "    | Otherwise       | `None`      |\n",
    "    \"\"\"\n",
    "    if t[0].lower() in {'n', 'v', 'r'}:\n",
    "        return t[0].lower()\n",
    "    elif t[0].lower() == 'j':\n",
    "        return 'a'\n",
    "    else:\n",
    "        return None\n",
    "\n",
    "\n",
    "# Call to `rel_ext.experiment`:\n",
    "synset_results = rel_ext.experiment(\n",
    "        splits,\n",
    "        train_split='train',\n",
    "        test_split='dev',\n",
    "        featurizers=[synset_featurizer],\n",
    "        verbose=True)"
   ]
  },
  {
   "cell_type": "code",
   "execution_count": 31,
   "metadata": {},
   "outputs": [],
   "source": [
    "def test_synset_featurizer(corpus):\n",
    "    from collections import defaultdict\n",
    "    kbt = rel_ext.KBTriple(rel='worked_at', sbj='Randall_Munroe', obj='xkcd')\n",
    "    feature_counter = defaultdict(int)\n",
    "    # Make sure `feature_counter` is being updated, not reinitialized:\n",
    "    feature_counter[\"Synset('be.v.01')\"] += 5\n",
    "    feature_counter = synset_featurizer(kbt, corpus, feature_counter)\n",
    "    # The full return values for this tend to be long, so we just\n",
    "    # test a few examples to avoid cluttering up this notebook.\n",
    "    test_cases = {\n",
    "        \"Synset('be.v.01')\": 6,\n",
    "        \"Synset('embody.v.02')\": 1\n",
    "    }\n",
    "    for ss, expected in test_cases.items():\n",
    "        result = feature_counter[ss]\n",
    "        assert result == expected, \\\n",
    "            \"Incorrect count for {}: Expected {}; Got {}\".format(ss, expected, result)"
   ]
  },
  {
   "cell_type": "code",
   "execution_count": 32,
   "metadata": {},
   "outputs": [],
   "source": [
    "if 'IS_GRADESCOPE_ENV' not in os.environ:\n",
    "    test_synset_featurizer(corpus)"
   ]
  },
  {
   "cell_type": "code",
   "execution_count": 62,
   "metadata": {},
   "outputs": [],
   "source": [
    "import nltk\n",
    "from nltk import word_tokenize\n",
    "from nltk.util import ngrams"
   ]
  },
  {
   "cell_type": "code",
   "execution_count": 96,
   "metadata": {},
   "outputs": [],
   "source": [
    "def get_ngrams(tokens, n=1):\n",
    "    if n == 1:\n",
    "        return [' '.join(ngram) for ngram in ngrams(tokens, n)]\n",
    "    else:\n",
    "        return [' '.join(ngram) for ngram \n",
    "                in ngrams(tokens, n, pad_left=True, pad_right=True, \n",
    "                          left_pad_symbol='<s>', right_pad_symbol='</s>')]"
   ]
  },
  {
   "cell_type": "code",
   "execution_count": 114,
   "metadata": {},
   "outputs": [
    {
     "name": "stdout",
     "output_type": "stream",
     "text": [
      "relation              precision     recall    f-score    support       size\n",
      "------------------    ---------  ---------  ---------  ---------  ---------\n",
      "adjoins                   0.884      0.403      0.714        340       5716\n",
      "author                    0.860      0.601      0.792        509       5885\n",
      "capital                   0.742      0.242      0.525         95       5471\n",
      "contains                  0.832      0.648      0.787       3904       9280\n",
      "film_performance          0.822      0.651      0.781        766       6142\n",
      "founders                  0.827      0.403      0.683        380       5756\n",
      "genre                     0.696      0.229      0.495        170       5546\n",
      "has_sibling               0.828      0.251      0.567        499       5875\n",
      "has_spouse                0.851      0.347      0.659        594       5970\n",
      "is_a                      0.781      0.237      0.536        497       5873\n",
      "nationality               0.618      0.209      0.444        301       5677\n",
      "parents                   0.882      0.503      0.767        312       5688\n",
      "place_of_birth            0.750      0.232      0.518        233       5609\n",
      "place_of_death            0.618      0.132      0.356        159       5535\n",
      "profession                0.848      0.227      0.548        247       5623\n",
      "worked_at                 0.779      0.277      0.572        242       5618\n",
      "------------------    ---------  ---------  ---------  ---------  ---------\n",
      "macro-average             0.789      0.349      0.609       9248      95264\n"
     ]
    }
   ],
   "source": [
    "def directional_middle_unigram_featurizer(kbt, corpus, feature_counter):\n",
    "    subject_object_suffix = \"_SO\"\n",
    "    object_subject_suffix = \"_OS\"\n",
    "\n",
    "    for ex in corpus.get_examples_for_entities(kbt.sbj, kbt.obj):\n",
    "        for ngram in get_ngrams(ex.middle.split(' '), 1):\n",
    "            feature_counter[ngram + subject_object_suffix] += 1\n",
    "    for ex in corpus.get_examples_for_entities(kbt.obj, kbt.sbj):\n",
    "        for ngram in get_ngrams(ex.middle.split(' '), 1):\n",
    "            feature_counter[ngram + object_subject_suffix] += 1\n",
    "\n",
    "    return feature_counter\n",
    "\n",
    "# Call to `rel_ext.experiment`:\n",
    "_ = rel_ext.experiment(\n",
    "        splits,\n",
    "        train_split='train',\n",
    "        test_split='dev',\n",
    "        featurizers=[directional_middle_unigram_featurizer],\n",
    "        verbose=True)"
   ]
  },
  {
   "cell_type": "code",
   "execution_count": 115,
   "metadata": {},
   "outputs": [
    {
     "name": "stdout",
     "output_type": "stream",
     "text": [
      "relation              precision     recall    f-score    support       size\n",
      "------------------    ---------  ---------  ---------  ---------  ---------\n",
      "adjoins                   0.878      0.403      0.711        340       5716\n",
      "author                    0.890      0.619      0.818        509       5885\n",
      "capital                   0.765      0.274      0.563         95       5471\n",
      "contains                  0.848      0.674      0.806       3904       9280\n",
      "film_performance          0.895      0.634      0.827        766       6142\n",
      "founders                  0.877      0.395      0.705        380       5756\n",
      "genre                     0.824      0.329      0.633        170       5546\n",
      "has_sibling               0.865      0.244      0.574        499       5875\n",
      "has_spouse                0.895      0.332      0.668        594       5970\n",
      "is_a                      0.791      0.260      0.561        497       5873\n",
      "nationality               0.739      0.216      0.498        301       5677\n",
      "parents                   0.952      0.510      0.811        312       5688\n",
      "place_of_birth            0.820      0.215      0.524        233       5609\n",
      "place_of_death            0.676      0.157      0.407        159       5535\n",
      "profession                0.798      0.271      0.575        247       5623\n",
      "worked_at                 0.851      0.260      0.586        242       5618\n",
      "------------------    ---------  ---------  ---------  ---------  ---------\n",
      "macro-average             0.835      0.362      0.642       9248      95264\n"
     ]
    }
   ],
   "source": [
    "def directional_middle_bigram_featurizer(kbt, corpus, feature_counter):\n",
    "    subject_object_suffix = \"_SO\"\n",
    "    object_subject_suffix = \"_OS\"\n",
    "\n",
    "    for ex in corpus.get_examples_for_entities(kbt.sbj, kbt.obj):\n",
    "        for ngram in get_ngrams(ex.middle.split(' '), 2):\n",
    "            feature_counter[ngram + subject_object_suffix] += 1\n",
    "    for ex in corpus.get_examples_for_entities(kbt.obj, kbt.sbj):\n",
    "        for ngram in get_ngrams(ex.middle.split(' '), 2):\n",
    "            feature_counter[ngram + object_subject_suffix] += 1\n",
    "\n",
    "    return feature_counter\n",
    "\n",
    "\n",
    "# Call to `rel_ext.experiment`:\n",
    "_ = rel_ext.experiment(\n",
    "        splits,\n",
    "        train_split='train',\n",
    "        test_split='dev',\n",
    "        featurizers=[directional_middle_bigram_featurizer],\n",
    "        verbose=True)"
   ]
  },
  {
   "cell_type": "code",
   "execution_count": 116,
   "metadata": {},
   "outputs": [
    {
     "name": "stdout",
     "output_type": "stream",
     "text": [
      "relation              precision     recall    f-score    support       size\n",
      "------------------    ---------  ---------  ---------  ---------  ---------\n",
      "adjoins                   0.905      0.394      0.719        340       5716\n",
      "author                    0.911      0.605      0.828        509       5885\n",
      "capital                   0.778      0.221      0.517         95       5471\n",
      "contains                  0.781      0.737      0.772       3904       9280\n",
      "film_performance          0.895      0.624      0.824        766       6142\n",
      "founders                  0.871      0.355      0.675        380       5756\n",
      "genre                     0.831      0.288      0.603        170       5546\n",
      "has_sibling               0.899      0.214      0.549        499       5875\n",
      "has_spouse                0.910      0.306      0.653        594       5970\n",
      "is_a                      0.826      0.247      0.563        497       5873\n",
      "nationality               0.762      0.203      0.491        301       5677\n",
      "parents                   0.970      0.410      0.762        312       5688\n",
      "place_of_birth            0.821      0.197      0.503        233       5609\n",
      "place_of_death            0.704      0.119      0.356        159       5535\n",
      "profession                0.827      0.251      0.567        247       5623\n",
      "worked_at                 0.863      0.260      0.590        242       5618\n",
      "------------------    ---------  ---------  ---------  ---------  ---------\n",
      "macro-average             0.847      0.340      0.623       9248      95264\n"
     ]
    }
   ],
   "source": [
    "def directional_middle_trigram_featurizer(kbt, corpus, feature_counter):\n",
    "    subject_object_suffix = \"_SO\"\n",
    "    object_subject_suffix = \"_OS\"\n",
    "\n",
    "    for ex in corpus.get_examples_for_entities(kbt.sbj, kbt.obj):\n",
    "        for ngram in get_ngrams(ex.middle.split(' '), 3):\n",
    "            feature_counter[ngram + subject_object_suffix] += 1\n",
    "    for ex in corpus.get_examples_for_entities(kbt.obj, kbt.sbj):\n",
    "        for ngram in get_ngrams(ex.middle.split(' '), 3):\n",
    "            feature_counter[ngram + object_subject_suffix] += 1\n",
    "\n",
    "    return feature_counter\n",
    "\n",
    "\n",
    "# Call to `rel_ext.experiment`:\n",
    "_ = rel_ext.experiment(\n",
    "        splits,\n",
    "        train_split='train',\n",
    "        test_split='dev',\n",
    "        featurizers=[directional_middle_trigram_featurizer],\n",
    "        verbose=True)"
   ]
  },
  {
   "cell_type": "code",
   "execution_count": 108,
   "metadata": {
    "pycharm": {
     "name": "#%%\n"
    }
   },
   "outputs": [
    {
     "name": "stdout",
     "output_type": "stream",
     "text": [
      "relation              precision     recall    f-score    support       size\n",
      "------------------    ---------  ---------  ---------  ---------  ---------\n",
      "adjoins                   0.867      0.365      0.680        340       5716\n",
      "author                    0.761      0.281      0.567        509       5885\n",
      "capital                   0.516      0.168      0.365         95       5471\n",
      "contains                  0.786      0.587      0.736       3904       9280\n",
      "film_performance          0.667      0.354      0.567        766       6142\n",
      "founders                  0.609      0.139      0.364        380       5756\n",
      "genre                     0.579      0.065      0.224        170       5546\n",
      "has_sibling               0.678      0.122      0.355        499       5875\n",
      "has_spouse                0.772      0.194      0.483        594       5970\n",
      "is_a                      0.645      0.080      0.268        497       5873\n",
      "nationality               0.455      0.050      0.173        301       5677\n",
      "parents                   0.615      0.128      0.350        312       5688\n",
      "place_of_birth            0.500      0.056      0.193        233       5609\n",
      "place_of_death            0.474      0.057      0.191        159       5535\n",
      "profession                0.667      0.081      0.272        247       5623\n",
      "worked_at                 0.614      0.112      0.323        242       5618\n",
      "------------------    ---------  ---------  ---------  ---------  ---------\n",
      "macro-average             0.638      0.177      0.382       9248      95264\n"
     ]
    }
   ],
   "source": [
    "def directional_middle_pos_unigram_featurizer(kbt, corpus, feature_counter):\n",
    "    subject_object_suffix = \"_SO\"\n",
    "    object_subject_suffix = \"_OS\"\n",
    "    \n",
    "    for ex in corpus.get_examples_for_entities(kbt.sbj, kbt.obj):\n",
    "        for ngram in get_ngrams(get_tags(ex.middle_POS), 1):\n",
    "            feature_counter[ngram + subject_object_suffix] += 1\n",
    "    for ex in corpus.get_examples_for_entities(kbt.obj, kbt.sbj):\n",
    "        for ngram in get_ngrams(get_tags(ex.middle_POS), 1):\n",
    "            feature_counter[ngram + object_subject_suffix] += 1\n",
    "\n",
    "    return feature_counter\n",
    "\n",
    "# Call to `rel_ext.experiment`:\n",
    "_ = rel_ext.experiment(\n",
    "        splits,\n",
    "        train_split='train',\n",
    "        test_split='dev',\n",
    "        featurizers=[directional_middle_pos_unigram_featurizer],\n",
    "        verbose=True)"
   ]
  },
  {
   "cell_type": "code",
   "execution_count": 109,
   "metadata": {
    "pycharm": {
     "name": "#%%\n"
    }
   },
   "outputs": [
    {
     "name": "stdout",
     "output_type": "stream",
     "text": [
      "relation              precision     recall    f-score    support       size\n",
      "------------------    ---------  ---------  ---------  ---------  ---------\n",
      "adjoins                   0.859      0.376      0.684        340       5716\n",
      "author                    0.825      0.462      0.713        509       5885\n",
      "capital                   0.500      0.179      0.368         95       5471\n",
      "contains                  0.806      0.640      0.766       3904       9280\n",
      "film_performance          0.765      0.547      0.708        766       6142\n",
      "founders                  0.649      0.258      0.498        380       5756\n",
      "genre                     0.712      0.218      0.489        170       5546\n",
      "has_sibling               0.669      0.182      0.436        499       5875\n",
      "has_spouse                0.763      0.288      0.574        594       5970\n",
      "is_a                      0.667      0.221      0.475        497       5873\n",
      "nationality               0.516      0.159      0.357        301       5677\n",
      "parents                   0.701      0.324      0.569        312       5688\n",
      "place_of_birth            0.750      0.219      0.505        233       5609\n",
      "place_of_death            0.618      0.132      0.356        159       5535\n",
      "profession                0.722      0.283      0.551        247       5623\n",
      "worked_at                 0.603      0.182      0.412        242       5618\n",
      "------------------    ---------  ---------  ---------  ---------  ---------\n",
      "macro-average             0.695      0.292      0.529       9248      95264\n"
     ]
    }
   ],
   "source": [
    "def directional_middle_pos_bigram_featurizer(kbt, corpus, feature_counter):\n",
    "    subject_object_suffix = \"_SO\"\n",
    "    object_subject_suffix = \"_OS\"\n",
    "    \n",
    "    for ex in corpus.get_examples_for_entities(kbt.sbj, kbt.obj):\n",
    "        for ngram in get_ngrams(get_tags(ex.middle_POS), 2):\n",
    "            feature_counter[ngram + subject_object_suffix] += 1\n",
    "    for ex in corpus.get_examples_for_entities(kbt.obj, kbt.sbj):\n",
    "        for ngram in get_ngrams(get_tags(ex.middle_POS), 2):\n",
    "            feature_counter[ngram + object_subject_suffix] += 1\n",
    "\n",
    "    return feature_counter\n",
    "\n",
    "\n",
    "# Call to `rel_ext.experiment`:\n",
    "_ = rel_ext.experiment(\n",
    "        splits,\n",
    "        train_split='train',\n",
    "        test_split='dev',\n",
    "        featurizers=[directional_middle_pos_bigram_featurizer],\n",
    "        verbose=True)"
   ]
  },
  {
   "cell_type": "code",
   "execution_count": 105,
   "metadata": {},
   "outputs": [
    {
     "name": "stdout",
     "output_type": "stream",
     "text": [
      "relation              precision     recall    f-score    support       size\n",
      "------------------    ---------  ---------  ---------  ---------  ---------\n",
      "adjoins                   0.854      0.394      0.692        340       5716\n",
      "author                    0.805      0.470      0.704        509       5885\n",
      "capital                   0.552      0.168      0.379         95       5471\n",
      "contains                  0.793      0.670      0.765       3904       9280\n",
      "film_performance          0.800      0.590      0.747        766       6142\n",
      "founders                  0.710      0.316      0.568        380       5756\n",
      "genre                     0.762      0.282      0.569        170       5546\n",
      "has_sibling               0.695      0.182      0.445        499       5875\n",
      "has_spouse                0.762      0.274      0.562        594       5970\n",
      "is_a                      0.711      0.288      0.550        497       5873\n",
      "nationality               0.545      0.179      0.387        301       5677\n",
      "parents                   0.748      0.353      0.611        312       5688\n",
      "place_of_birth            0.735      0.215      0.495        233       5609\n",
      "place_of_death            0.688      0.138      0.383        159       5535\n",
      "profession                0.808      0.324      0.622        247       5623\n",
      "worked_at                 0.605      0.215      0.444        242       5618\n",
      "------------------    ---------  ---------  ---------  ---------  ---------\n",
      "macro-average             0.723      0.316      0.558       9248      95264\n"
     ]
    }
   ],
   "source": [
    "def directional_middle_pos_trigram_featurizer(kbt, corpus, feature_counter):\n",
    "    subject_object_suffix = \"_SO\"\n",
    "    object_subject_suffix = \"_OS\"\n",
    "    \n",
    "    for ex in corpus.get_examples_for_entities(kbt.sbj, kbt.obj):\n",
    "        for ngram in get_ngrams(get_tags(ex.middle_POS), 3):\n",
    "            feature_counter[ngram + subject_object_suffix] += 1\n",
    "    for ex in corpus.get_examples_for_entities(kbt.obj, kbt.sbj):\n",
    "        for ngram in get_ngrams(get_tags(ex.middle_POS), 3):\n",
    "            feature_counter[ngram + object_subject_suffix] += 1\n",
    "\n",
    "    return feature_counter\n",
    "\n",
    "\n",
    "# Call to `rel_ext.experiment`:\n",
    "_ = rel_ext.experiment(\n",
    "        splits,\n",
    "        train_split='train',\n",
    "        test_split='dev',\n",
    "        featurizers=[directional_middle_pos_trigram_featurizer],\n",
    "        verbose=True)"
   ]
  },
  {
   "cell_type": "code",
   "execution_count": 86,
   "metadata": {},
   "outputs": [
    {
     "name": "stdout",
     "output_type": "stream",
     "text": [
      "relation              precision     recall    f-score    support       size\n",
      "------------------    ---------  ---------  ---------  ---------  ---------\n",
      "adjoins                   0.881      0.391      0.704        340       5716\n",
      "author                    0.898      0.640      0.831        509       5885\n",
      "capital                   0.793      0.242      0.545         95       5471\n",
      "contains                  0.787      0.761      0.781       3904       9280\n",
      "film_performance          0.886      0.692      0.839        766       6142\n",
      "founders                  0.864      0.418      0.712        380       5756\n",
      "genre                     0.805      0.365      0.649        170       5546\n",
      "has_sibling               0.853      0.244      0.570        499       5875\n",
      "has_spouse                0.897      0.352      0.685        594       5970\n",
      "is_a                      0.840      0.296      0.614        497       5873\n",
      "nationality               0.634      0.236      0.474        301       5677\n",
      "parents                   0.928      0.535      0.809        312       5688\n",
      "place_of_birth            0.757      0.227      0.517        233       5609\n",
      "place_of_death            0.615      0.151      0.381        159       5535\n",
      "profession                0.833      0.304      0.618        247       5623\n",
      "worked_at                 0.811      0.302      0.606        242       5618\n",
      "------------------    ---------  ---------  ---------  ---------  ---------\n",
      "macro-average             0.818      0.385      0.646       9248      95264\n"
     ]
    }
   ],
   "source": [
    "_ = rel_ext.experiment(\n",
    "        splits,\n",
    "        train_split='train',\n",
    "        test_split='dev',\n",
    "        featurizers=[directional_middle_unigram_featurizer, \n",
    "                     directional_middle_bigram_featurizer],\n",
    "        verbose=True)"
   ]
  },
  {
   "cell_type": "code",
   "execution_count": 100,
   "metadata": {},
   "outputs": [
    {
     "name": "stdout",
     "output_type": "stream",
     "text": [
      "relation              precision     recall    f-score    support       size\n",
      "------------------    ---------  ---------  ---------  ---------  ---------\n",
      "adjoins                   0.879      0.385      0.700        340       5716\n",
      "author                    0.893      0.639      0.827        509       5885\n",
      "capital                   0.759      0.232      0.521         95       5471\n",
      "contains                  0.788      0.754      0.781       3904       9280\n",
      "film_performance          0.881      0.678      0.831        766       6142\n",
      "founders                  0.865      0.421      0.714        380       5756\n",
      "genre                     0.822      0.353      0.649        170       5546\n",
      "has_sibling               0.831      0.236      0.553        499       5875\n",
      "has_spouse                0.912      0.347      0.688        594       5970\n",
      "is_a                      0.824      0.310      0.618        497       5873\n",
      "nationality               0.657      0.292      0.526        301       5677\n",
      "parents                   0.931      0.522      0.805        312       5688\n",
      "place_of_birth            0.764      0.236      0.528        233       5609\n",
      "place_of_death            0.639      0.145      0.380        159       5535\n",
      "profession                0.840      0.320      0.634        247       5623\n",
      "worked_at                 0.826      0.314      0.623        242       5618\n",
      "------------------    ---------  ---------  ---------  ---------  ---------\n",
      "macro-average             0.819      0.386      0.649       9248      95264\n"
     ]
    }
   ],
   "source": [
    "_ = rel_ext.experiment(\n",
    "        splits,\n",
    "        train_split='train',\n",
    "        test_split='dev',\n",
    "        featurizers=[directional_middle_unigram_featurizer, \n",
    "                     directional_middle_bigram_featurizer, \n",
    "                     directional_middle_trigram_featurizer],\n",
    "        verbose=True)"
   ]
  },
  {
   "cell_type": "code",
   "execution_count": 113,
   "metadata": {},
   "outputs": [
    {
     "name": "stdout",
     "output_type": "stream",
     "text": [
      "relation              precision     recall    f-score    support       size\n",
      "------------------    ---------  ---------  ---------  ---------  ---------\n",
      "adjoins                   0.895      0.400      0.717        340       5716\n",
      "author                    0.891      0.658      0.832        509       5885\n",
      "capital                   0.742      0.242      0.525         95       5471\n",
      "contains                  0.783      0.764      0.779       3904       9280\n",
      "film_performance          0.875      0.693      0.831        766       6142\n",
      "founders                  0.830      0.424      0.696        380       5756\n",
      "genre                     0.798      0.418      0.675        170       5546\n",
      "has_sibling               0.858      0.255      0.582        499       5875\n",
      "has_spouse                0.884      0.360      0.685        594       5970\n",
      "is_a                      0.785      0.346      0.626        497       5873\n",
      "nationality               0.603      0.302      0.503        301       5677\n",
      "parents                   0.898      0.535      0.791        312       5688\n",
      "place_of_birth            0.744      0.288      0.565        233       5609\n",
      "place_of_death            0.565      0.164      0.379        159       5535\n",
      "profession                0.772      0.356      0.626        247       5623\n",
      "worked_at                 0.778      0.318      0.603        242       5618\n",
      "------------------    ---------  ---------  ---------  ---------  ---------\n",
      "macro-average             0.794      0.408      0.651       9248      95264\n"
     ]
    }
   ],
   "source": [
    "_ = rel_ext.experiment(\n",
    "        splits,\n",
    "        train_split='train',\n",
    "        test_split='dev',\n",
    "        featurizers=[directional_middle_unigram_featurizer, \n",
    "                     directional_middle_bigram_featurizer, \n",
    "                     directional_middle_pos_unigram_featurizer, \n",
    "                     directional_middle_pos_bigram_featurizer],\n",
    "        verbose=True)"
   ]
  },
  {
   "cell_type": "code",
   "execution_count": 112,
   "metadata": {},
   "outputs": [
    {
     "name": "stdout",
     "output_type": "stream",
     "text": [
      "relation              precision     recall    f-score    support       size\n",
      "------------------    ---------  ---------  ---------  ---------  ---------\n",
      "adjoins                   0.893      0.391      0.710        340       5716\n",
      "author                    0.873      0.662      0.821        509       5885\n",
      "capital                   0.724      0.221      0.498         95       5471\n",
      "contains                  0.786      0.759      0.781       3904       9280\n",
      "film_performance          0.873      0.697      0.831        766       6142\n",
      "founders                  0.850      0.461      0.727        380       5756\n",
      "genre                     0.830      0.429      0.699        170       5546\n",
      "has_sibling               0.831      0.246      0.564        499       5875\n",
      "has_spouse                0.886      0.354      0.681        594       5970\n",
      "is_a                      0.801      0.364      0.646        497       5873\n",
      "nationality               0.626      0.306      0.517        301       5677\n",
      "parents                   0.898      0.506      0.778        312       5688\n",
      "place_of_birth            0.635      0.283      0.508        233       5609\n",
      "place_of_death            0.632      0.151      0.386        159       5535\n",
      "profession                0.816      0.377      0.661        247       5623\n",
      "worked_at                 0.790      0.343      0.627        242       5618\n",
      "------------------    ---------  ---------  ---------  ---------  ---------\n",
      "macro-average             0.796      0.409      0.652       9248      95264\n"
     ]
    }
   ],
   "source": [
    "_ = rel_ext.experiment(\n",
    "        splits,\n",
    "        train_split='train',\n",
    "        test_split='dev',\n",
    "        featurizers=[directional_middle_unigram_featurizer, \n",
    "                     directional_middle_bigram_featurizer, \n",
    "                     directional_middle_trigram_featurizer,\n",
    "                     directional_middle_pos_unigram_featurizer, \n",
    "                     directional_middle_pos_bigram_featurizer,\n",
    "                     directional_middle_pos_trigram_featurizer],\n",
    "        verbose=True)"
   ]
  },
  {
   "cell_type": "code",
   "execution_count": 131,
   "metadata": {},
   "outputs": [
    {
     "name": "stdout",
     "output_type": "stream",
     "text": [
      "relation              precision     recall    f-score    support       size\n",
      "------------------    ---------  ---------  ---------  ---------  ---------\n",
      "adjoins                   0.853      0.291      0.616        340       5716\n",
      "author                    0.848      0.405      0.695        509       5885\n",
      "capital                   0.435      0.105      0.267         95       5471\n",
      "contains                  0.713      0.427      0.628       3904       9280\n",
      "film_performance          0.784      0.499      0.704        766       6142\n",
      "founders                  0.767      0.182      0.466        380       5756\n",
      "genre                     0.894      0.347      0.680        170       5546\n",
      "has_sibling               0.484      0.030      0.120        499       5875\n",
      "has_spouse                0.757      0.131      0.388        594       5970\n",
      "is_a                      0.716      0.213      0.487        497       5873\n",
      "nationality               0.586      0.056      0.204        301       5677\n",
      "parents                   0.533      0.026      0.108        312       5688\n",
      "place_of_birth            0.571      0.017      0.077        233       5609\n",
      "place_of_death            0.700      0.044      0.176        159       5535\n",
      "profession                0.725      0.449      0.646        247       5623\n",
      "worked_at                 0.644      0.120      0.344        242       5618\n",
      "------------------    ---------  ---------  ---------  ---------  ---------\n",
      "macro-average             0.688      0.209      0.413       9248      95264\n"
     ]
    }
   ],
   "source": [
    "def detailed_entity_mention_pos_featurizer(kbt, corpus, feature_counter):\n",
    "    first_entity_subject_object_suffix = \"_1_SO\"\n",
    "    second_entity_subject_object_suffix = \"_2_SO\"\n",
    "    first_entity_object_subject_suffix = \"_1_OS\"\n",
    "    second_entity_object_subject_suffix = \"_2_OS\"\n",
    "    \n",
    "    for ex in corpus.get_examples_for_entities(kbt.sbj, kbt.obj):\n",
    "        feature_counter[' '.join(get_tags(ex.mention_1_POS)) + first_entity_subject_object_suffix] += 1\n",
    "        feature_counter[' '.join(get_tags(ex.mention_2_POS)) + second_entity_subject_object_suffix] += 1\n",
    "    for ex in corpus.get_examples_for_entities(kbt.obj, kbt.sbj):\n",
    "        feature_counter[' '.join(get_tags(ex.mention_1_POS)) + first_entity_object_subject_suffix] += 1\n",
    "        feature_counter[' '.join(get_tags(ex.mention_2_POS)) + second_entity_object_subject_suffix] += 1\n",
    "            \n",
    "    return feature_counter\n",
    "\n",
    "\n",
    "_ = rel_ext.experiment(\n",
    "        splits,\n",
    "        train_split='train',\n",
    "        test_split='dev',\n",
    "        featurizers=[detailed_entity_mention_pos_featurizer],\n",
    "        verbose=True)"
   ]
  },
  {
   "cell_type": "code",
   "execution_count": null,
   "metadata": {},
   "outputs": [],
   "source": [
    "def merged_detailed_entity_mention_pos_featurizer(kbt, corpus, feature_counter):\n",
    "    first_entity_subject_object_suffix = \"_1_SO\"\n",
    "    second_entity_subject_object_suffix = \"_2_SO\"\n",
    "    first_entity_object_subject_suffix = \"_1_OS\"\n",
    "    second_entity_object_subject_suffix = \"_2_OS\"\n",
    "    \n",
    "    for ex in corpus.get_examples_for_entities(kbt.sbj, kbt.obj):\n",
    "        feature_counter[' '.join(set(get_tags(ex.mention_1_POS))) + first_entity_subject_object_suffix] += 1\n",
    "        feature_counter[' '.join(set(get_tags(ex.mention_2_POS))) + second_entity_subject_object_suffix] += 1\n",
    "    for ex in corpus.get_examples_for_entities(kbt.obj, kbt.sbj):\n",
    "        feature_counter[' '.join(set(get_tags(ex.mention_1_POS))) + first_entity_subject_object_suffix] += 1\n",
    "        feature_counter[' '.join(set(get_tags(ex.mention_2_POS))) + second_entity_subject_object_suffix] += 1\n",
    "            \n",
    "    return feature_counter\n",
    "\n",
    "\n",
    "_ = rel_ext.experiment(\n",
    "        splits,\n",
    "        train_split='train',\n",
    "        test_split='dev',\n",
    "        featurizers=[merged_detailed_entity_mention_pos_featurizer],\n",
    "        verbose=True)"
   ]
  },
  {
   "cell_type": "code",
   "execution_count": 132,
   "metadata": {},
   "outputs": [
    {
     "name": "stdout",
     "output_type": "stream",
     "text": [
      "relation              precision     recall    f-score    support       size\n",
      "------------------    ---------  ---------  ---------  ---------  ---------\n",
      "adjoins                   0.872      0.379      0.692        340       5716\n",
      "author                    0.883      0.680      0.833        509       5885\n",
      "capital                   0.750      0.284      0.565         95       5471\n",
      "contains                  0.853      0.819      0.846       3904       9280\n",
      "film_performance          0.890      0.783      0.867        766       6142\n",
      "founders                  0.806      0.524      0.727        380       5756\n",
      "genre                     0.882      0.618      0.813        170       5546\n",
      "has_sibling               0.815      0.265      0.575        499       5875\n",
      "has_spouse                0.863      0.370      0.682        594       5970\n",
      "is_a                      0.728      0.505      0.669        497       5873\n",
      "nationality               0.674      0.385      0.586        301       5677\n",
      "parents                   0.914      0.510      0.789        312       5688\n",
      "place_of_birth            0.752      0.339      0.605        233       5609\n",
      "place_of_death            0.552      0.233      0.433        159       5535\n",
      "profession                0.842      0.563      0.766        247       5623\n",
      "worked_at                 0.793      0.397      0.661        242       5618\n",
      "------------------    ---------  ---------  ---------  ---------  ---------\n",
      "macro-average             0.804      0.478      0.694       9248      95264\n"
     ]
    }
   ],
   "source": [
    "_ = rel_ext.experiment(\n",
    "        splits,\n",
    "        train_split='train',\n",
    "        test_split='dev',\n",
    "        featurizers=[directional_middle_unigram_featurizer, \n",
    "                     directional_middle_bigram_featurizer, \n",
    "                     directional_middle_trigram_featurizer,\n",
    "                     directional_middle_pos_unigram_featurizer, \n",
    "                     directional_middle_pos_bigram_featurizer,\n",
    "                     directional_middle_pos_trigram_featurizer,\n",
    "                     detailed_entity_mention_pos_featurizer],\n",
    "        verbose=True)"
   ]
  },
  {
   "cell_type": "code",
   "execution_count": null,
   "metadata": {},
   "outputs": [],
   "source": [
    "_ = rel_ext.experiment(\n",
    "        splits,\n",
    "        train_split='train',\n",
    "        test_split='dev',\n",
    "        featurizers=[directional_middle_unigram_featurizer, \n",
    "                     directional_middle_bigram_featurizer, \n",
    "                     directional_middle_trigram_featurizer,\n",
    "                     directional_middle_pos_unigram_featurizer, \n",
    "                     directional_middle_pos_bigram_featurizer,\n",
    "                     directional_middle_pos_trigram_featurizer,\n",
    "                     merged_detailed_entity_mention_pos_featurizer],\n",
    "        verbose=True)"
   ]
  },
  {
   "cell_type": "code",
   "execution_count": 136,
   "metadata": {},
   "outputs": [
    {
     "data": {
      "text/plain": [
       "[('Rami', 'PERSON'),\n",
       " ('Eid', 'PERSON'),\n",
       " ('is', 'O'),\n",
       " ('studying', 'O'),\n",
       " ('at', 'O'),\n",
       " ('Stony', 'ORGANIZATION'),\n",
       " ('Brook', 'ORGANIZATION'),\n",
       " ('University', 'ORGANIZATION'),\n",
       " ('in', 'O'),\n",
       " ('NY', 'O')]"
      ]
     },
     "execution_count": 136,
     "metadata": {},
     "output_type": "execute_result"
    }
   ],
   "source": [
    "from nltk.tag import StanfordNERTagger\n",
    "\n",
    "stanford_ner_home = os.path.join('', 'stanford-ner-4.0.0')\n",
    "\n",
    "st = StanfordNERTagger(os.path.join(stanford_ner_home, 'classifiers', 'english.conll.4class.distsim.crf.ser.gz'), \n",
    "                       os.path.join(stanford_ner_home, 'stanford-ner.jar'))"
   ]
  },
  {
   "cell_type": "code",
   "execution_count": null,
   "metadata": {},
   "outputs": [],
   "source": [
    "def get_sent(ex):\n",
    "    return ' '.join((ex.left, ex.mention_1, ex.middle, ex.mention_2, ex.right))\n",
    "\n",
    "def get_sent_token(ex):\n",
    "    return get_sent(ex).split(' ')\n",
    "\n",
    "def get_mention_ner_tags(mention, sent_tokens, ner_tags):\n",
    "    mention_tokens = mention.split(' ')\n",
    "    return set(ner_tags[sent_tokens.index(t)][1] for t in mention_tokens)\n",
    "\n",
    "def entity_mention_ner_featurizer(kbt, corpus, feature_counter):\n",
    "    \n",
    "    for ex in corpus.get_examples_for_entities(kbt.sbj, kbt.obj):\n",
    "        sent_tokens = get_sent_token(ex)\n",
    "        ner_tags = st.tag(sent_tokens) \n",
    "        feature_counter[' '.join(get_mention_ner_tags(ex.mention_1, sent_tokens, ner_tags))] += 1\n",
    "        feature_counter[' '.join(get_mention_ner_tags(ex.mention_2, sent_tokens, ner_tags))] += 1\n",
    "    for ex in corpus.get_examples_for_entities(kbt.obj, kbt.sbj):\n",
    "        sent_tokens = get_sent_token(ex)\n",
    "        ner_tags = st.tag(sent_tokens) \n",
    "        feature_counter[' '.join(get_mention_ner_tags(ex.mention_1, sent_tokens, ner_tags))] += 1\n",
    "        feature_counter[' '.join(get_mention_ner_tags(ex.mention_2, sent_tokens, ner_tags))] += 1\n",
    "            \n",
    "    return feature_counter\n",
    "\n",
    "\n",
    "_ = rel_ext.experiment(\n",
    "        splits,\n",
    "        train_split='train',\n",
    "        test_split='dev',\n",
    "        featurizers=[entity_mention_ner_featurizer],\n",
    "        verbose=True)"
   ]
  },
  {
   "cell_type": "code",
   "execution_count": null,
   "metadata": {},
   "outputs": [],
   "source": [
    "_ = rel_ext.experiment(\n",
    "        splits,\n",
    "        train_split='train',\n",
    "        test_split='dev',\n",
    "        featurizers=[directional_middle_unigram_featurizer, \n",
    "                     directional_middle_bigram_featurizer, \n",
    "                     directional_middle_trigram_featurizer,\n",
    "                     directional_middle_pos_unigram_featurizer, \n",
    "                     directional_middle_pos_bigram_featurizer,\n",
    "                     directional_middle_pos_trigram_featurizer,\n",
    "                     detailed_entity_mention_pos_featurizer,\n",
    "                     entity_mention_ner_featurizer],\n",
    "        verbose=True)"
   ]
  },
  {
   "cell_type": "code",
   "execution_count": null,
   "metadata": {},
   "outputs": [],
   "source": [
    "def prime_entity_mention_ner_featurizer(kbt, corpus, feature_counter):\n",
    "    \n",
    "    for ex in corpus.get_examples_for_entities(kbt.sbj, kbt.obj):\n",
    "        sent_tokens = get_sent_token(ex)\n",
    "        ner_tags = st.tag(sent_tokens) \n",
    "        for ner in get_mention_ner_tags(ex.mention_1, sent_tokens, ner_tags):\n",
    "            feature_counter[ner] += 1\n",
    "        for ner in get_mention_ner_tags(ex.mention_2, sent_tokens, ner_tags):\n",
    "            feature_counter[ner] += 1\n",
    "    for ex in corpus.get_examples_for_entities(kbt.obj, kbt.sbj):\n",
    "        sent_tokens = get_sent_token(ex)\n",
    "        ner_tags = st.tag(sent_tokens) \n",
    "        for ner in get_mention_ner_tags(ex.mention_1, sent_tokens, ner_tags):\n",
    "            feature_counter[ner] += 1\n",
    "        for ner in get_mention_ner_tags(ex.mention_2, sent_tokens, ner_tags):\n",
    "            feature_counter[ner] += 1\n",
    "            \n",
    "    return feature_counter\n",
    "\n",
    "\n",
    "_ = rel_ext.experiment(\n",
    "        splits,\n",
    "        train_split='train',\n",
    "        test_split='dev',\n",
    "        featurizers=[prime_entity_mention_ner_featurizer],\n",
    "        verbose=True)"
   ]
  },
  {
   "cell_type": "code",
   "execution_count": null,
   "metadata": {},
   "outputs": [],
   "source": [
    "_ = rel_ext.experiment(\n",
    "        splits,\n",
    "        train_split='train',\n",
    "        test_split='dev',\n",
    "        featurizers=[directional_middle_unigram_featurizer, \n",
    "                     directional_middle_bigram_featurizer, \n",
    "                     directional_middle_trigram_featurizer,\n",
    "                     directional_middle_pos_unigram_featurizer, \n",
    "                     directional_middle_pos_bigram_featurizer,\n",
    "                     directional_middle_pos_trigram_featurizer,\n",
    "                     detailed_entity_mention_pos_featurizer,\n",
    "                     prime_entity_mention_ner_featurizer],\n",
    "        verbose=True)"
   ]
  },
  {
   "cell_type": "code",
   "execution_count": null,
   "metadata": {},
   "outputs": [],
   "source": [
    "def directional_entity_mention_ner_featurizer(kbt, corpus, feature_counter):\n",
    "    subject_object_suffix = \"_SO\"\n",
    "    object_subject_suffix = \"_OS\"\n",
    "    \n",
    "    for ex in corpus.get_examples_for_entities(kbt.sbj, kbt.obj):\n",
    "        sent_tokens = get_sent_token(ex)\n",
    "        ner_tags = st.tag(sent_tokens) \n",
    "        feature_counter[' '.join(get_mention_ner_tags(ex.mention_1, sent_tokens, ner_tags)) + subject_object_suffix] += 1\n",
    "        feature_counter[' '.join(get_mention_ner_tags(ex.mention_2, sent_tokens, ner_tags)) + subject_object_suffix] += 1\n",
    "    for ex in corpus.get_examples_for_entities(kbt.obj, kbt.sbj):\n",
    "        sent_tokens = get_sent_token(ex)\n",
    "        ner_tags = st.tag(sent_tokens) \n",
    "        feature_counter[' '.join(get_mention_ner_tags(ex.mention_1, sent_tokens, ner_tags)) + object_subject_suffix] += 1\n",
    "        feature_counter[' '.join(get_mention_ner_tags(ex.mention_2, sent_tokens, ner_tags)) + object_subject_suffix] += 1\n",
    "            \n",
    "    return feature_counter\n",
    "\n",
    "\n",
    "_ = rel_ext.experiment(\n",
    "        splits,\n",
    "        train_split='train',\n",
    "        test_split='dev',\n",
    "        featurizers=[directional_entity_mention_ner_featurizer],\n",
    "        verbose=True)"
   ]
  },
  {
   "cell_type": "code",
   "execution_count": null,
   "metadata": {},
   "outputs": [],
   "source": [
    "_ = rel_ext.experiment(\n",
    "        splits,\n",
    "        train_split='train',\n",
    "        test_split='dev',\n",
    "        featurizers=[directional_middle_unigram_featurizer, \n",
    "                     directional_middle_bigram_featurizer, \n",
    "                     directional_middle_trigram_featurizer,\n",
    "                     directional_middle_pos_unigram_featurizer, \n",
    "                     directional_middle_pos_bigram_featurizer,\n",
    "                     directional_middle_pos_trigram_featurizer,\n",
    "                     detailed_entity_mention_pos_featurizer,\n",
    "                     directional_entity_mention_ner_featurizer],\n",
    "        verbose=True)"
   ]
  },
  {
   "cell_type": "code",
   "execution_count": null,
   "metadata": {},
   "outputs": [],
   "source": [
    "def prime_directional_entity_mention_ner_featurizer(kbt, corpus, feature_counter):\n",
    "    subject_object_suffix = \"_SO\"\n",
    "    object_subject_suffix = \"_OS\"\n",
    "    \n",
    "    for ex in corpus.get_examples_for_entities(kbt.sbj, kbt.obj):\n",
    "        sent_tokens = get_sent_token(ex)\n",
    "        ner_tags = st.tag(sent_tokens) \n",
    "        for ner in get_mention_ner_tags(ex.mention_1, sent_tokens, ner_tags):\n",
    "            feature_counter[ner + subject_object_suffix] += 1\n",
    "        for ner in get_mention_ner_tags(ex.mention_2, sent_tokens, ner_tags):\n",
    "            feature_counter[ner + subject_object_suffix] += 1\n",
    "    for ex in corpus.get_examples_for_entities(kbt.obj, kbt.sbj):\n",
    "        sent_tokens = get_sent_token(ex)\n",
    "        ner_tags = st.tag(sent_tokens) \n",
    "        for ner in get_mention_ner_tags(ex.mention_1, sent_tokens, ner_tags):\n",
    "            feature_counter[ner + object_subject_suffix] += 1\n",
    "        for ner in get_mention_ner_tags(ex.mention_2, sent_tokens, ner_tags):\n",
    "            feature_counter[ner + object_subject_suffix] += 1\n",
    "            \n",
    "    return feature_counter\n",
    "\n",
    "\n",
    "_ = rel_ext.experiment(\n",
    "        splits,\n",
    "        train_split='train',\n",
    "        test_split='dev',\n",
    "        featurizers=[prime_directional_entity_mention_ner_featurizer],\n",
    "        verbose=True)"
   ]
  },
  {
   "cell_type": "code",
   "execution_count": null,
   "metadata": {},
   "outputs": [],
   "source": [
    "_ = rel_ext.experiment(\n",
    "        splits,\n",
    "        train_split='train',\n",
    "        test_split='dev',\n",
    "        featurizers=[directional_middle_unigram_featurizer, \n",
    "                     directional_middle_bigram_featurizer, \n",
    "                     directional_middle_trigram_featurizer,\n",
    "                     directional_middle_pos_unigram_featurizer, \n",
    "                     directional_middle_pos_bigram_featurizer,\n",
    "                     directional_middle_pos_trigram_featurizer,\n",
    "                     detailed_entity_mention_pos_featurizer,\n",
    "                     prime_directional_entity_mention_ner_featurizer],\n",
    "        verbose=True)"
   ]
  },
  {
   "cell_type": "code",
   "execution_count": null,
   "metadata": {},
   "outputs": [],
   "source": [
    "def detailed_entity_mention_ner_featurizer(kbt, corpus, feature_counter):\n",
    "    first_entity_subject_object_suffix = \"_1_SO\"\n",
    "    second_entity_subject_object_suffix = \"_2_SO\"\n",
    "    first_entity_object_subject_suffix = \"_1_OS\"\n",
    "    second_entity_object_subject_suffix = \"_2_OS\"\n",
    "    \n",
    "    for ex in corpus.get_examples_for_entities(kbt.sbj, kbt.obj):\n",
    "        sent_tokens = get_sent_token(ex)\n",
    "        ner_tags = st.tag(sent_tokens) \n",
    "        feature_counter[' '.join(get_mention_ner_tags(ex.mention_1, sent_tokens, ner_tags)) + first_entity_subject_object_suffix] += 1\n",
    "        feature_counter[' '.join(get_mention_ner_tags(ex.mention_2, sent_tokens, ner_tags)) + second_entity_subject_object_suffix] += 1\n",
    "    for ex in corpus.get_examples_for_entities(kbt.obj, kbt.sbj):\n",
    "        sent_tokens = get_sent_token(ex)\n",
    "        ner_tags = st.tag(sent_tokens) \n",
    "        feature_counter[' '.join(get_mention_ner_tags(ex.mention_1, sent_tokens, ner_tags)) + first_entity_object_subject_suffix] += 1\n",
    "        feature_counter[' '.join(get_mention_ner_tags(ex.mention_2, sent_tokens, ner_tags)) + second_entity_object_subject_suffix] += 1\n",
    "            \n",
    "    return feature_counter\n",
    "\n",
    "\n",
    "_ = rel_ext.experiment(\n",
    "        splits,\n",
    "        train_split='train',\n",
    "        test_split='dev',\n",
    "        featurizers=[detailed_entity_mention_ner_featurizer],\n",
    "        verbose=True)"
   ]
  },
  {
   "cell_type": "code",
   "execution_count": null,
   "metadata": {},
   "outputs": [],
   "source": [
    "_ = rel_ext.experiment(\n",
    "        splits,\n",
    "        train_split='train',\n",
    "        test_split='dev',\n",
    "        featurizers=[directional_middle_unigram_featurizer, \n",
    "                     directional_middle_bigram_featurizer, \n",
    "                     directional_middle_trigram_featurizer,\n",
    "                     directional_middle_pos_unigram_featurizer, \n",
    "                     directional_middle_pos_bigram_featurizer,\n",
    "                     directional_middle_pos_trigram_featurizer,\n",
    "                     detailed_entity_mention_pos_featurizer,\n",
    "                     detailed_entity_mention_ner_featurizer],\n",
    "        verbose=True)"
   ]
  },
  {
   "cell_type": "code",
   "execution_count": null,
   "metadata": {},
   "outputs": [],
   "source": [
    "def prime_detailed_entity_mention_ner_featurizer(kbt, corpus, feature_counter):\n",
    "    first_entity_subject_object_suffix = \"_1_SO\"\n",
    "    second_entity_subject_object_suffix = \"_2_SO\"\n",
    "    first_entity_object_subject_suffix = \"_1_OS\"\n",
    "    second_entity_object_subject_suffix = \"_2_OS\"\n",
    "    \n",
    "    for ex in corpus.get_examples_for_entities(kbt.sbj, kbt.obj):\n",
    "        sent_tokens = get_sent_token(ex)\n",
    "        ner_tags = st.tag(sent_tokens) \n",
    "        for ner in get_mention_ner_tags(ex.mention_1, sent_tokens, ner_tags):\n",
    "            feature_counter[ner + first_entity_subject_object_suffix] += 1\n",
    "        for ner in get_mention_ner_tags(ex.mention_2, sent_tokens, ner_tags):\n",
    "            feature_counter[ner + second_entity_subject_object_suffix] += 1\n",
    "    for ex in corpus.get_examples_for_entities(kbt.obj, kbt.sbj):\n",
    "        sent_tokens = get_sent_token(ex)\n",
    "        ner_tags = st.tag(sent_tokens) \n",
    "        for ner in get_mention_ner_tags(ex.mention_1, sent_tokens, ner_tags):\n",
    "            feature_counter[ner + first_entity_object_subject_suffix] += 1\n",
    "        for ner in get_mention_ner_tags(ex.mention_2, sent_tokens, ner_tags):\n",
    "            feature_counter[ner + second_entity_object_subject_suffix] += 1\n",
    "            \n",
    "    return feature_counter\n",
    "\n",
    "\n",
    "_ = rel_ext.experiment(\n",
    "        splits,\n",
    "        train_split='train',\n",
    "        test_split='dev',\n",
    "        featurizers=[prime_detailed_entity_mention_ner_featurizer],\n",
    "        verbose=True)"
   ]
  },
  {
   "cell_type": "code",
   "execution_count": null,
   "metadata": {},
   "outputs": [],
   "source": [
    "_ = rel_ext.experiment(\n",
    "        splits,\n",
    "        train_split='train',\n",
    "        test_split='dev',\n",
    "        featurizers=[directional_middle_unigram_featurizer, \n",
    "                     directional_middle_bigram_featurizer, \n",
    "                     directional_middle_trigram_featurizer,\n",
    "                     directional_middle_pos_unigram_featurizer, \n",
    "                     directional_middle_pos_bigram_featurizer,\n",
    "                     directional_middle_pos_trigram_featurizer,\n",
    "                     detailed_entity_mention_pos_featurizer,\n",
    "                     prime_detailed_entity_mention_ner_featurizer],\n",
    "        verbose=True)"
   ]
  },
  {
   "cell_type": "markdown",
   "metadata": {},
   "source": [
    "### Your original system [3 points]\n",
    "\n",
    "There are many options, and this could easily grow into a project. Here are a few ideas:\n",
    "\n",
    "- Try out different classifier models, from `sklearn` and elsewhere.\n",
    "- Add a feature that indicates the length of the middle. (NO)\n",
    "- Augment the bag-of-words representation to include bigrams or trigrams (not just unigrams). (Yes)\n",
    "- Introduce features based on the entity mentions themselves. <!-- \\[SPOILER: it helps a lot, maybe 4% in F-score. And combines nicely with the directional features.\\] -->\n",
    "- Experiment with features based on the context outside (rather than between) the two entity mentions — that is, the words before the first mention, or after the second.\n",
    "- Try adding features which capture syntactic information, such as the dependency-path features used by Mintz et al. 2009. The [NLTK](https://www.nltk.org/) toolkit contains a variety of [parsing algorithms](http://www.nltk.org/api/nltk.parse.html) that may help.\n",
    "- The bag-of-words representation does not permit generalization across word categories such as names of people, places, or companies. Can we do better using word embeddings such as [GloVe](https://nlp.stanford.edu/projects/glove/)?\n",
    "\n",
    "In the cell below, please provide a brief technical description of your original system, so that the teaching team can gain an understanding of what it does. This will help us to understand your code and analyze all the submissions to identify patterns and strategies. We also ask that you report the best score your system got during development, just to help us understand how systems performed overall."
   ]
  },
  {
   "cell_type": "code",
   "execution_count": 33,
   "metadata": {},
   "outputs": [],
   "source": [
    "# PLEASE MAKE SURE TO INCLUDE THE FOLLOWING BETWEEN THE START AND STOP COMMENTS:\n",
    "#   1) Textual description of your system.\n",
    "#   2) The code for your original system.\n",
    "#   3) The score achieved by your system in place of MY_NUMBER.\n",
    "#        With no other changes to that line.\n",
    "#        You should report your score as a decimal value <=1.0\n",
    "# PLEASE MAKE SURE NOT TO DELETE OR EDIT THE START AND STOP COMMENTS\n",
    "\n",
    "# IMPORT ANY MODULES BELOW THE 'IS_GRADESCOPE_ENV' CHECK CONDITION. DOING\n",
    "# SO ABOVE THE CHECK MAY CAUSE THE AUTOGRADER TO FAIL.\n",
    "\n",
    "# START COMMENT: Enter your system description in this cell.\n",
    "# My peak score was: MY_NUMBER\n",
    "if 'IS_GRADESCOPE_ENV' not in os.environ:\n",
    "    pass\n",
    "\n",
    "# STOP COMMENT: Please do not remove this comment."
   ]
  },
  {
   "cell_type": "markdown",
   "metadata": {},
   "source": [
    "## Bake-off [1 point]\n",
    "\n",
    "For the bake-off, we will release a test set. The announcement will go out on the discussion forum. You will evaluate your custom model from the previous question on these new datasets using the function `rel_ext.bake_off_experiment`. Rules:\n",
    "\n",
    "1. Only one evaluation is permitted.\n",
    "1. No additional system tuning is permitted once the bake-off has started.\n",
    "\n",
    "The cells below this one constitute your bake-off entry.\n",
    "\n",
    "People who enter will receive the additional homework point, and people whose systems achieve the top score will receive an additional 0.5 points. We will test the top-performing systems ourselves, and only systems for which we can reproduce the reported results will win the extra 0.5 points.\n",
    "\n",
    "Late entries will be accepted, but they cannot earn the extra 0.5 points. Similarly, you cannot win the bake-off unless your homework is submitted on time.\n",
    "\n",
    "The announcement will include the details on where to submit your entry."
   ]
  },
  {
   "cell_type": "code",
   "execution_count": 39,
   "metadata": {},
   "outputs": [],
   "source": [
    "# Enter your bake-off assessment code in this cell.\n",
    "# Please do not remove this comment.\n",
    "if 'IS_GRADESCOPE_ENV' not in os.environ:\n",
    "    pass\n",
    "    # Please enter your code in the scope of the above conditional.\n",
    "    ##### YOUR CODE HERE\n"
   ]
  },
  {
   "cell_type": "code",
   "execution_count": 40,
   "metadata": {},
   "outputs": [],
   "source": [
    "# On an otherwise blank line in this cell, please enter\n",
    "# your macro-average f-score (an F_0.5 score) as reported\n",
    "# by the code above. Please enter only a number between\n",
    "# 0 and 1 inclusive. Please do not remove this comment.\n",
    "if 'IS_GRADESCOPE_ENV' not in os.environ:\n",
    "    pass\n",
    "    # Please enter your score in the scope of the above conditional.\n",
    "    ##### YOUR CODE HERE\n"
   ]
  }
 ],
 "metadata": {
  "kernelspec": {
   "display_name": "nlu",
   "language": "python",
   "name": "nlu"
  },
  "language_info": {
   "codemirror_mode": {
    "name": "ipython",
    "version": 3
   },
   "file_extension": ".py",
   "mimetype": "text/x-python",
   "name": "python",
   "nbconvert_exporter": "python",
   "pygments_lexer": "ipython3",
   "version": "3.7.7"
  },
  "widgets": {
   "state": {},
   "version": "1.1.2"
  }
 },
 "nbformat": 4,
 "nbformat_minor": 2
}
