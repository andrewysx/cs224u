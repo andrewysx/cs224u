{
 "cells": [
  {
   "cell_type": "markdown",
   "metadata": {},
   "source": [
    "# Homework and bake-off: Relation extraction using distant supervision"
   ]
  },
  {
   "cell_type": "code",
   "execution_count": 1,
   "metadata": {},
   "outputs": [],
   "source": [
    "__author__ = \"Bill MacCartney and Christopher Potts\"\n",
    "__version__ = \"CS224u, Stanford, Fall 2020\""
   ]
  },
  {
   "cell_type": "markdown",
   "metadata": {},
   "source": [
    "## Contents\n",
    "\n",
    "1. [Overview](#Overview)\n",
    "1. [Set-up](#Set-up)\n",
    "1. [Baselines](#Baselines)\n",
    "  1. [Hand-build feature functions](#Hand-build-feature-functions)\n",
    "  1. [Distributed representations](#Distributed-representations)\n",
    "1. [Homework questions](#Homework-questions)\n",
    "  1. [Different model factory [1 points]](#Different-model-factory-[1-points])\n",
    "  1. [Directional unigram features [1.5 points]](#Directional-unigram-features-[1.5-points])\n",
    "  1. [The part-of-speech tags of the \"middle\" words [1.5 points]](#The-part-of-speech-tags-of-the-\"middle\"-words-[1.5-points])\n",
    "  1. [Bag of Synsets [2 points]](#Bag-of-Synsets-[2-points])\n",
    "  1. [Your original system [3 points]](#Your-original-system-[3-points])\n",
    "1. [Bake-off [1 point]](#Bake-off-[1-point])"
   ]
  },
  {
   "cell_type": "markdown",
   "metadata": {},
   "source": [
    "## Overview\n",
    "\n",
    "This homework and associated bake-off are devoted to developing really effective relation extraction systems using distant supervision. \n",
    "\n",
    "As with the previous assignments, this notebook first establishes a baseline system. The initial homework questions ask you to create additional baselines and suggest areas for innovation, and the final homework question asks you to develop an original system for you to enter into the bake-off."
   ]
  },
  {
   "cell_type": "markdown",
   "metadata": {},
   "source": [
    "## Set-up\n",
    "\n",
    "See [the first notebook in this unit](rel_ext_01_task.ipynb#Set-up) for set-up instructions."
   ]
  },
  {
   "cell_type": "code",
   "execution_count": 2,
   "metadata": {},
   "outputs": [],
   "source": [
    "import numpy as np\n",
    "import os\n",
    "import rel_ext\n",
    "from sklearn.linear_model import LogisticRegression\n",
    "import utils"
   ]
  },
  {
   "cell_type": "code",
   "execution_count": 3,
   "metadata": {
    "pycharm": {
     "name": "#%%\n"
    }
   },
   "outputs": [],
   "source": [
    "# Set all the random seeds for reproducibility. Only the\n",
    "# system seed is relevant for this notebook.\n",
    "\n",
    "utils.fix_random_seeds()"
   ]
  },
  {
   "cell_type": "markdown",
   "metadata": {},
   "source": [
    "As usual, we unite our corpus and KB into a dataset, and create some splits for experimentation:"
   ]
  },
  {
   "cell_type": "code",
   "execution_count": 4,
   "metadata": {},
   "outputs": [],
   "source": [
    "rel_ext_data_home = os.path.join('data', 'rel_ext_data')"
   ]
  },
  {
   "cell_type": "code",
   "execution_count": 5,
   "metadata": {},
   "outputs": [],
   "source": [
    "corpus = rel_ext.Corpus(os.path.join(rel_ext_data_home, 'corpus.tsv.gz'))"
   ]
  },
  {
   "cell_type": "code",
   "execution_count": 6,
   "metadata": {},
   "outputs": [],
   "source": [
    "kb = rel_ext.KB(os.path.join(rel_ext_data_home, 'kb.tsv.gz'))"
   ]
  },
  {
   "cell_type": "code",
   "execution_count": 7,
   "metadata": {},
   "outputs": [],
   "source": [
    "dataset = rel_ext.Dataset(corpus, kb)"
   ]
  },
  {
   "cell_type": "markdown",
   "metadata": {},
   "source": [
    "You are not wedded to this set-up for splits. The bake-off will be conducted on a previously unseen test-set, so all of the data in `dataset` is fair game:"
   ]
  },
  {
   "cell_type": "code",
   "execution_count": 8,
   "metadata": {},
   "outputs": [],
   "source": [
    "splits = dataset.build_splits(\n",
    "    split_names=['tiny', 'train', 'dev'],\n",
    "    split_fracs=[0.01, 0.79, 0.20],\n",
    "    seed=1)"
   ]
  },
  {
   "cell_type": "code",
   "execution_count": 9,
   "metadata": {},
   "outputs": [
    {
     "data": {
      "text/plain": [
       "{'tiny': Corpus with 3,474 examples; KB with 445 triples,\n",
       " 'train': Corpus with 263,285 examples; KB with 36,191 triples,\n",
       " 'dev': Corpus with 64,937 examples; KB with 9,248 triples,\n",
       " 'all': Corpus with 331,696 examples; KB with 45,884 triples}"
      ]
     },
     "execution_count": 9,
     "metadata": {},
     "output_type": "execute_result"
    }
   ],
   "source": [
    "splits"
   ]
  },
  {
   "cell_type": "markdown",
   "metadata": {},
   "source": [
    "## Baselines"
   ]
  },
  {
   "cell_type": "markdown",
   "metadata": {},
   "source": [
    "### Hand-build feature functions"
   ]
  },
  {
   "cell_type": "code",
   "execution_count": 10,
   "metadata": {},
   "outputs": [],
   "source": [
    "def simple_bag_of_words_featurizer(kbt, corpus, feature_counter):\n",
    "    for ex in corpus.get_examples_for_entities(kbt.sbj, kbt.obj):\n",
    "        for word in ex.middle.split(' '):\n",
    "            feature_counter[word] += 1\n",
    "    for ex in corpus.get_examples_for_entities(kbt.obj, kbt.sbj):\n",
    "        for word in ex.middle.split(' '):\n",
    "            feature_counter[word] += 1\n",
    "    return feature_counter"
   ]
  },
  {
   "cell_type": "code",
   "execution_count": 11,
   "metadata": {},
   "outputs": [],
   "source": [
    "featurizers = [simple_bag_of_words_featurizer]"
   ]
  },
  {
   "cell_type": "code",
   "execution_count": 12,
   "metadata": {},
   "outputs": [],
   "source": [
    "model_factory = lambda: LogisticRegression(fit_intercept=True, solver='liblinear')"
   ]
  },
  {
   "cell_type": "code",
   "execution_count": 13,
   "metadata": {},
   "outputs": [
    {
     "name": "stdout",
     "output_type": "stream",
     "text": [
      "relation              precision     recall    f-score    support       size\n",
      "------------------    ---------  ---------  ---------  ---------  ---------\n",
      "adjoins                   0.893      0.394      0.713        340       5716\n",
      "author                    0.780      0.536      0.715        509       5885\n",
      "capital                   0.583      0.221      0.439         95       5471\n",
      "contains                  0.795      0.589      0.743       3904       9280\n",
      "film_performance          0.783      0.560      0.725        766       6142\n",
      "founders                  0.819      0.392      0.672        380       5756\n",
      "genre                     0.469      0.176      0.352        170       5546\n",
      "has_sibling               0.890      0.242      0.580        499       5875\n",
      "has_spouse                0.895      0.343      0.677        594       5970\n",
      "is_a                      0.665      0.215      0.469        497       5873\n",
      "nationality               0.624      0.176      0.413        301       5677\n",
      "parents                   0.902      0.529      0.790        312       5688\n",
      "place_of_birth            0.658      0.215      0.466        233       5609\n",
      "place_of_death            0.514      0.113      0.301        159       5535\n",
      "profession                0.605      0.198      0.429        247       5623\n",
      "worked_at                 0.744      0.252      0.535        242       5618\n",
      "------------------    ---------  ---------  ---------  ---------  ---------\n",
      "macro-average             0.726      0.322      0.564       9248      95264\n"
     ]
    }
   ],
   "source": [
    "baseline_results = rel_ext.experiment(\n",
    "    splits,\n",
    "    train_split='train',\n",
    "    test_split='dev',\n",
    "    featurizers=featurizers,\n",
    "    model_factory=model_factory,\n",
    "    verbose=True)"
   ]
  },
  {
   "cell_type": "markdown",
   "metadata": {},
   "source": [
    "Studying model weights might yield insights:"
   ]
  },
  {
   "cell_type": "code",
   "execution_count": 14,
   "metadata": {},
   "outputs": [
    {
     "name": "stdout",
     "output_type": "stream",
     "text": [
      "Highest and lowest feature weights for relation adjoins:\n",
      "\n",
      "     2.538 Córdoba\n",
      "     2.390 Valais\n",
      "     2.389 Taluks\n",
      "     ..... .....\n",
      "    -1.295 Australia\n",
      "    -1.469 Europe\n",
      "    -1.860 America\n",
      "\n",
      "Highest and lowest feature weights for relation author:\n",
      "\n",
      "     3.062 wrote\n",
      "     2.771 books\n",
      "     2.448 author\n",
      "     ..... .....\n",
      "    -1.927 directed\n",
      "    -1.934 same\n",
      "    -2.101 or\n",
      "\n",
      "Highest and lowest feature weights for relation capital:\n",
      "\n",
      "     3.606 capital\n",
      "     2.073 city\n",
      "     1.819 town\n",
      "     ..... .....\n",
      "    -1.172 and\n",
      "    -1.286 also\n",
      "    -1.611 Antrim\n",
      "\n",
      "Highest and lowest feature weights for relation contains:\n",
      "\n",
      "     2.892 third-largest\n",
      "     2.396 within\n",
      "     2.177 transferred\n",
      "     ..... .....\n",
      "    -2.480 Henley-on-Thames\n",
      "    -2.850 2002\n",
      "    -4.009 Antrim\n",
      "\n",
      "Highest and lowest feature weights for relation film_performance:\n",
      "\n",
      "     3.814 co-starring\n",
      "     3.761 starring\n",
      "     3.532 opposite\n",
      "     ..... .....\n",
      "    -1.990 Zigzag\n",
      "    -2.120 Tamil\n",
      "    -2.141 Iruvar\n",
      "\n",
      "Highest and lowest feature weights for relation founders:\n",
      "\n",
      "     4.062 founder\n",
      "     3.869 founded\n",
      "     2.661 head\n",
      "     ..... .....\n",
      "    -1.790 William\n",
      "    -1.840 band\n",
      "    -1.997 Griffith\n",
      "\n",
      "Highest and lowest feature weights for relation genre:\n",
      "\n",
      "     2.846 game\n",
      "     2.800 series\n",
      "     2.463 album\n",
      "     ..... .....\n",
      "    -1.453 and\n",
      "    -1.944 at\n",
      "    -2.220 follows\n",
      "\n",
      "Highest and lowest feature weights for relation has_sibling:\n",
      "\n",
      "     5.175 brother\n",
      "     3.980 sister\n",
      "     2.893 nephew\n",
      "     ..... .....\n",
      "    -1.557 singer-songwriter\n",
      "    -1.602 grandson\n",
      "    -1.617 Her\n",
      "\n",
      "Highest and lowest feature weights for relation has_spouse:\n",
      "\n",
      "     5.274 wife\n",
      "     4.608 husband\n",
      "     4.499 widow\n",
      "     ..... .....\n",
      "    -1.478 on\n",
      "    -1.671 grandson\n",
      "    -1.708 engineer\n",
      "\n",
      "Highest and lowest feature weights for relation is_a:\n",
      "\n",
      "     2.987 \n",
      "     2.504 order\n",
      "     2.442 genus\n",
      "     ..... .....\n",
      "    -1.643 at\n",
      "    -1.709 emperor\n",
      "    -5.559 characin\n",
      "\n",
      "Highest and lowest feature weights for relation nationality:\n",
      "\n",
      "     2.951 born\n",
      "     1.950 Minister\n",
      "     1.919 Pinky\n",
      "     ..... .....\n",
      "    -1.386 or\n",
      "    -1.607 American\n",
      "    -1.651 1961\n",
      "\n",
      "Highest and lowest feature weights for relation parents:\n",
      "\n",
      "     4.903 son\n",
      "     4.521 daughter\n",
      "     3.881 father\n",
      "     ..... .....\n",
      "    -1.987 Jolie\n",
      "    -2.835 Kelly\n",
      "    -2.921 Indian\n",
      "\n",
      "Highest and lowest feature weights for relation place_of_birth:\n",
      "\n",
      "     4.031 born\n",
      "     2.717 mayor\n",
      "     2.647 birthplace\n",
      "     ..... .....\n",
      "    -1.316 or\n",
      "    -1.401 Indian\n",
      "    -1.439 and\n",
      "\n",
      "Highest and lowest feature weights for relation place_of_death:\n",
      "\n",
      "     2.467 died\n",
      "     1.897 rebuilt\n",
      "     1.769 murdered\n",
      "     ..... .....\n",
      "    -1.208 destroyed\n",
      "    -1.248 and\n",
      "    -1.383 Siege\n",
      "\n",
      "Highest and lowest feature weights for relation profession:\n",
      "\n",
      "     3.486 \n",
      "     2.694 American\n",
      "     2.448 British\n",
      "     ..... .....\n",
      "    -1.393 elder\n",
      "    -1.602 Texas\n",
      "    -2.075 on\n",
      "\n",
      "Highest and lowest feature weights for relation worked_at:\n",
      "\n",
      "     3.285 professor\n",
      "     3.158 CEO\n",
      "     2.827 head\n",
      "     ..... .....\n",
      "    -1.208 parent\n",
      "    -1.210 William\n",
      "    -1.609 or\n",
      "\n"
     ]
    }
   ],
   "source": [
    "rel_ext.examine_model_weights(baseline_results)"
   ]
  },
  {
   "cell_type": "markdown",
   "metadata": {},
   "source": [
    "### Distributed representations\n",
    "\n",
    "This simple baseline sums the GloVe vector representations for all of the words in the \"middle\" span and feeds those representations into the standard `LogisticRegression`-based `model_factory`. The crucial parameter that enables this is `vectorize=False`. This essentially says to `rel_ext.experiment` that your featurizer or your model will do the work of turning examples into vectors; in that case, `rel_ext.experiment` just organizes these representations by relation type."
   ]
  },
  {
   "cell_type": "code",
   "execution_count": 15,
   "metadata": {},
   "outputs": [],
   "source": [
    "GLOVE_HOME = os.path.join('data', 'glove.6B')"
   ]
  },
  {
   "cell_type": "code",
   "execution_count": 16,
   "metadata": {},
   "outputs": [],
   "source": [
    "glove_lookup = utils.glove2dict(\n",
    "    os.path.join(GLOVE_HOME, 'glove.6B.300d.txt'))"
   ]
  },
  {
   "cell_type": "code",
   "execution_count": 17,
   "metadata": {},
   "outputs": [],
   "source": [
    "def glove_middle_featurizer(kbt, corpus, np_func=np.sum):\n",
    "    reps = []\n",
    "    for ex in corpus.get_examples_for_entities(kbt.sbj, kbt.obj):\n",
    "        for word in ex.middle.split():\n",
    "            rep = glove_lookup.get(word)\n",
    "            if rep is not None:\n",
    "                reps.append(rep)\n",
    "    # A random representation of the right dimensionality if the\n",
    "    # example happens not to overlap with GloVe's vocabulary:\n",
    "    if len(reps) == 0:\n",
    "        dim = len(next(iter(glove_lookup.values())))\n",
    "        return utils.randvec(n=dim)\n",
    "    else:\n",
    "        return np_func(reps, axis=0)"
   ]
  },
  {
   "cell_type": "code",
   "execution_count": 18,
   "metadata": {},
   "outputs": [
    {
     "name": "stdout",
     "output_type": "stream",
     "text": [
      "relation              precision     recall    f-score    support       size\n",
      "------------------    ---------  ---------  ---------  ---------  ---------\n",
      "adjoins                   0.864      0.447      0.728        340       5716\n",
      "author                    0.815      0.434      0.694        509       5885\n",
      "capital                   0.625      0.211      0.448         95       5471\n",
      "contains                  0.654      0.417      0.587       3904       9280\n",
      "film_performance          0.822      0.325      0.629        766       6142\n",
      "founders                  0.740      0.239      0.522        380       5756\n",
      "genre                     0.333      0.065      0.182        170       5546\n",
      "has_sibling               0.902      0.240      0.582        499       5875\n",
      "has_spouse                0.876      0.357      0.679        594       5970\n",
      "is_a                      0.728      0.151      0.413        497       5873\n",
      "nationality               0.633      0.206      0.447        301       5677\n",
      "parents                   0.915      0.413      0.736        312       5688\n",
      "place_of_birth            0.636      0.210      0.453        233       5609\n",
      "place_of_death            0.467      0.132      0.310        159       5535\n",
      "profession                0.611      0.134      0.356        247       5623\n",
      "worked_at                 0.750      0.285      0.566        242       5618\n",
      "------------------    ---------  ---------  ---------  ---------  ---------\n",
      "macro-average             0.711      0.267      0.521       9248      95264\n"
     ]
    }
   ],
   "source": [
    "glove_results = rel_ext.experiment(\n",
    "    splits,\n",
    "    train_split='train',\n",
    "    test_split='dev',\n",
    "    featurizers=[glove_middle_featurizer],\n",
    "    vectorize=False, # Crucial for this featurizer!\n",
    "    verbose=True)"
   ]
  },
  {
   "cell_type": "markdown",
   "metadata": {},
   "source": [
    "With the same basic code design, one can also use the PyTorch models included in the course repo, or write new ones that are better aligned with the task. For those models, it's likely that the featurizer will just return a list of tokens (or perhaps a list of lists of tokens), and the model will map those into vectors using an embedding."
   ]
  },
  {
   "cell_type": "markdown",
   "metadata": {},
   "source": [
    "## Homework questions\n",
    "\n",
    "Please embed your homework responses in this notebook, and do not delete any cells from the notebook. (You are free to add as many cells as you like as part of your responses.)"
   ]
  },
  {
   "cell_type": "markdown",
   "metadata": {},
   "source": [
    "### Different model factory [1 points]\n",
    "\n",
    "The code in `rel_ext` makes it very easy to experiment with other classifier models: one need only redefine the `model_factory` argument. This question asks you to assess a [Support Vector Classifier](https://scikit-learn.org/stable/modules/generated/sklearn.svm.SVC.html).\n",
    "\n",
    "__To submit:__ A wrapper function `run_svm_model_factory` that does the following: \n",
    "\n",
    "1. Uses `rel_ext.experiment` with the model factory set to one based in an `SVC` with `kernel='linear'` and all other arguments left with default values. \n",
    "1. Trains on the 'train' part of `splits`.\n",
    "1. Assesses on the `dev` part of `splits`.\n",
    "1. Uses `featurizers` as defined above. \n",
    "1. Returns the return value of `rel_ext.experiment` for this set-up.\n",
    "\n",
    "The function `test_run_svm_model_factory` will check that your function conforms to these general specifications."
   ]
  },
  {
   "cell_type": "code",
   "execution_count": 19,
   "metadata": {},
   "outputs": [],
   "source": [
    "from sklearn.svm import SVC\n",
    "svm_model = lambda: SVC(kernel='linear')"
   ]
  },
  {
   "cell_type": "code",
   "execution_count": 20,
   "metadata": {},
   "outputs": [],
   "source": [
    "def run_svm_model_factory():\n",
    "    results = rel_ext.experiment(\n",
    "        splits,\n",
    "        train_split='train',\n",
    "        test_split='dev',\n",
    "        featurizers=featurizers,\n",
    "        model_factory=svm_model,\n",
    "        verbose=True)\n",
    "    return results"
   ]
  },
  {
   "cell_type": "code",
   "execution_count": 21,
   "metadata": {},
   "outputs": [],
   "source": [
    "def test_run_svm_model_factory(run_svm_model_factory):\n",
    "    results = run_svm_model_factory()\n",
    "    assert 'featurizers' in results, \\\n",
    "        \"The return value of `run_svm_model_factory` seems not to be correct\"\n",
    "    # Check one of the models to make sure it's an SVC:\n",
    "    assert 'SVC' in results['models']['adjoins'].__class__.__name__, \\\n",
    "        \"It looks like the model factor wasn't set to use an SVC.\""
   ]
  },
  {
   "cell_type": "code",
   "execution_count": 22,
   "metadata": {},
   "outputs": [
    {
     "name": "stdout",
     "output_type": "stream",
     "text": [
      "relation              precision     recall    f-score    support       size\n",
      "------------------    ---------  ---------  ---------  ---------  ---------\n",
      "adjoins                   0.848      0.376      0.678        340       5716\n",
      "author                    0.737      0.599      0.704        509       5885\n",
      "capital                   0.562      0.284      0.470         95       5471\n",
      "contains                  0.776      0.602      0.734       3904       9280\n",
      "film_performance          0.752      0.624      0.722        766       6142\n",
      "founders                  0.720      0.426      0.633        380       5756\n",
      "genre                     0.523      0.265      0.438        170       5546\n",
      "has_sibling               0.846      0.230      0.551        499       5875\n",
      "has_spouse                0.873      0.347      0.670        594       5970\n",
      "is_a                      0.616      0.278      0.495        497       5873\n",
      "nationality               0.495      0.179      0.366        301       5677\n",
      "parents                   0.848      0.590      0.780        312       5688\n",
      "place_of_birth            0.559      0.223      0.430        233       5609\n",
      "place_of_death            0.463      0.119      0.294        159       5535\n",
      "profession                0.578      0.255      0.461        247       5623\n",
      "worked_at                 0.710      0.293      0.553        242       5618\n",
      "------------------    ---------  ---------  ---------  ---------  ---------\n",
      "macro-average             0.682      0.356      0.561       9248      95264\n"
     ]
    }
   ],
   "source": [
    "if 'IS_GRADESCOPE_ENV' not in os.environ:\n",
    "    test_run_svm_model_factory(run_svm_model_factory)"
   ]
  },
  {
   "cell_type": "markdown",
   "metadata": {},
   "source": [
    "### Directional unigram features [1.5 points]\n",
    "\n",
    "The current bag-of-words representation makes no distinction between \"forward\" and \"reverse\" examples. But, intuitively, there is big difference between _X and his son Y_ and _Y and his son X_. This question asks you to modify `simple_bag_of_words_featurizer` to capture these differences. \n",
    "\n",
    "__To submit:__\n",
    "\n",
    "1. A feature function `directional_bag_of_words_featurizer` that is just like `simple_bag_of_words_featurizer` except that it distinguishes \"forward\" and \"reverse\". To do this, you just need to mark each word feature for whether it is derived from a subject–object example or from an object–subject example.  The included function `test_directional_bag_of_words_featurizer` should help verify that you've done this correctly.\n",
    "\n",
    "2. A call to `rel_ext.experiment` with `directional_bag_of_words_featurizer` as the only featurizer. (Aside from this, use all the default values for `rel_ext.experiment` as exemplified above in this notebook.)\n",
    "\n",
    "3. `rel_ext.experiment` returns some of the core objects used in the experiment. How many feature names does the `vectorizer` have for the experiment run in the previous step? Include the code needed for getting this value. (Note: we're partly asking you to figure out how to get this value by using the sklearn documentation, so please don't ask how to do it!)"
   ]
  },
  {
   "cell_type": "code",
   "execution_count": 23,
   "metadata": {},
   "outputs": [
    {
     "name": "stdout",
     "output_type": "stream",
     "text": [
      "relation              precision     recall    f-score    support       size\n",
      "------------------    ---------  ---------  ---------  ---------  ---------\n",
      "adjoins                   0.899      0.418      0.730        340       5716\n",
      "author                    0.807      0.599      0.755        509       5885\n",
      "capital                   0.730      0.284      0.556         95       5471\n",
      "contains                  0.812      0.670      0.779       3904       9280\n",
      "film_performance          0.840      0.653      0.795        766       6142\n",
      "founders                  0.824      0.405      0.683        380       5756\n",
      "genre                     0.618      0.276      0.496        170       5546\n",
      "has_sibling               0.871      0.244      0.576        499       5875\n",
      "has_spouse                0.903      0.359      0.692        594       5970\n",
      "is_a                      0.719      0.247      0.521        497       5873\n",
      "nationality               0.694      0.226      0.491        301       5677\n",
      "parents                   0.914      0.510      0.789        312       5688\n",
      "place_of_birth            0.716      0.227      0.501        233       5609\n",
      "place_of_death            0.600      0.151      0.376        159       5535\n",
      "profession                0.670      0.239      0.492        247       5623\n",
      "worked_at                 0.765      0.269      0.558        242       5618\n",
      "------------------    ---------  ---------  ---------  ---------  ---------\n",
      "macro-average             0.774      0.361      0.612       9248      95264\n"
     ]
    }
   ],
   "source": [
    "def directional_bag_of_words_featurizer(kbt, corpus, feature_counter):\n",
    "    # Append these to the end of the keys you add/access in\n",
    "    # `feature_counter` to distinguish the two orders. You'll\n",
    "    # need to use exactly these strings in order to pass\n",
    "    # `test_directional_bag_of_words_featurizer`.\n",
    "    subject_object_suffix = \"_SO\"\n",
    "    object_subject_suffix = \"_OS\"\n",
    "\n",
    "    for ex in corpus.get_examples_for_entities(kbt.sbj, kbt.obj):\n",
    "        for word in ex.middle.split(' '):\n",
    "            feature_counter[word + subject_object_suffix] += 1\n",
    "    for ex in corpus.get_examples_for_entities(kbt.obj, kbt.sbj):\n",
    "        for word in ex.middle.split(' '):\n",
    "            feature_counter[word + object_subject_suffix] += 1\n",
    "\n",
    "    return feature_counter\n",
    "\n",
    "\n",
    "# Call to `rel_ext.experiment`:\n",
    "directional_bag_of_words_results = rel_ext.experiment(\n",
    "        splits,\n",
    "        train_split='train',\n",
    "        test_split='dev',\n",
    "        featurizers=[directional_bag_of_words_featurizer],\n",
    "        verbose=True)"
   ]
  },
  {
   "cell_type": "code",
   "execution_count": 24,
   "metadata": {},
   "outputs": [],
   "source": [
    "def test_directional_bag_of_words_featurizer(corpus):\n",
    "    from collections import defaultdict\n",
    "    kbt = rel_ext.KBTriple(rel='worked_at', sbj='Randall_Munroe', obj='xkcd')\n",
    "    feature_counter = defaultdict(int)\n",
    "    # Make sure `feature_counter` is being updated, not reinitialized:\n",
    "    feature_counter['is_OS'] += 5\n",
    "    feature_counter = directional_bag_of_words_featurizer(kbt, corpus, feature_counter)\n",
    "    expected = defaultdict(\n",
    "        int, {'is_OS':6,'a_OS':1,'webcomic_OS':1,'created_OS':1,'by_OS':1})\n",
    "    assert feature_counter == expected, \\\n",
    "        \"Expected:\\n{}\\nGot:\\n{}\".format(expected, feature_counter)"
   ]
  },
  {
   "cell_type": "code",
   "execution_count": 25,
   "metadata": {},
   "outputs": [],
   "source": [
    "if 'IS_GRADESCOPE_ENV' not in os.environ:\n",
    "    test_directional_bag_of_words_featurizer(corpus)"
   ]
  },
  {
   "cell_type": "code",
   "execution_count": 26,
   "metadata": {},
   "outputs": [
    {
     "name": "stdout",
     "output_type": "stream",
     "text": [
      "number of feature names: 40756\n"
     ]
    }
   ],
   "source": [
    "# How many feature names does the vectorizer have for the experiment run in the previous step? 40537\n",
    "directional_bag_of_words_vectorizer = directional_bag_of_words_results['vectorizer']\n",
    "directional_bag_of_words_features_names = directional_bag_of_words_vectorizer.get_feature_names()\n",
    "print('number of feature names: {}'.format(len(directional_bag_of_words_features_names)))"
   ]
  },
  {
   "cell_type": "markdown",
   "metadata": {},
   "source": [
    "### The part-of-speech tags of the \"middle\" words [1.5 points]\n",
    "\n",
    "Our corpus distribution contains part-of-speech (POS) tagged versions of the core text spans. Let's begin to explore whether there is information in these sequences, focusing on `middle_POS`.\n",
    "\n",
    "__To submit:__\n",
    "\n",
    "1. A feature function `middle_bigram_pos_tag_featurizer` that is just like `simple_bag_of_words_featurizer` except that it creates a feature for bigram POS sequences. For example, given \n",
    "\n",
    "  `The/DT dog/N napped/V`\n",
    "  \n",
    "   we obtain the list of bigram POS sequences\n",
    "  \n",
    "   `b = ['<s> DT', 'DT N', 'N V', 'V </s>']`. \n",
    "   \n",
    "   Of course, `middle_bigram_pos_tag_featurizer` should return count dictionaries defined in terms of such bigram POS lists, on the model of `simple_bag_of_words_featurizer`.  Don't forget the start and end tags, to model those environments properly! The included function `test_middle_bigram_pos_tag_featurizer` should help verify that you've done this correctly.\n",
    "\n",
    "2. A call to `rel_ext.experiment` with `middle_bigram_pos_tag_featurizer` as the only featurizer. (Aside from this, use all the default values for `rel_ext.experiment` as exemplified above in this notebook.)"
   ]
  },
  {
   "cell_type": "code",
   "execution_count": 27,
   "metadata": {},
   "outputs": [
    {
     "name": "stdout",
     "output_type": "stream",
     "text": [
      "relation              precision     recall    f-score    support       size\n",
      "------------------    ---------  ---------  ---------  ---------  ---------\n",
      "adjoins                   0.823      0.356      0.652        340       5716\n",
      "author                    0.712      0.340      0.584        509       5885\n",
      "capital                   0.457      0.168      0.340         95       5471\n",
      "contains                  0.749      0.585      0.709       3904       9280\n",
      "film_performance          0.693      0.448      0.625        766       6142\n",
      "founders                  0.533      0.168      0.372        380       5756\n",
      "genre                     0.525      0.182      0.382        170       5546\n",
      "has_sibling               0.675      0.166      0.419        499       5875\n",
      "has_spouse                0.778      0.259      0.556        594       5970\n",
      "is_a                      0.549      0.157      0.366        497       5873\n",
      "nationality               0.413      0.086      0.235        301       5677\n",
      "parents                   0.641      0.269      0.502        312       5688\n",
      "place_of_birth            0.603      0.189      0.419        233       5609\n",
      "place_of_death            0.400      0.063      0.193        159       5535\n",
      "profession                0.616      0.182      0.417        247       5623\n",
      "worked_at                 0.507      0.140      0.333        242       5618\n",
      "------------------    ---------  ---------  ---------  ---------  ---------\n",
      "macro-average             0.605      0.235      0.444       9248      95264\n"
     ]
    }
   ],
   "source": [
    "def middle_bigram_pos_tag_featurizer(kbt, corpus, feature_counter):\n",
    "\n",
    "    for ex in corpus.get_examples_for_entities(kbt.sbj, kbt.obj):\n",
    "        for bigram in get_tag_bigrams(ex.middle_POS):\n",
    "            feature_counter[bigram] += 1\n",
    "    for ex in corpus.get_examples_for_entities(kbt.obj, kbt.sbj):\n",
    "        for bigram in get_tag_bigrams(ex.middle_POS):\n",
    "            feature_counter[bigram] += 1\n",
    "\n",
    "    return feature_counter\n",
    "\n",
    "\n",
    "def get_tag_bigrams(s):\n",
    "    \"\"\"Suggested helper method for `middle_bigram_pos_tag_featurizer`.\n",
    "    This should be defined so that it returns a list of str, where each\n",
    "    element is a POS bigram.\"\"\"\n",
    "    # The values of `start_symbol` and `end_symbol` are defined\n",
    "    # here so that you can use `test_middle_bigram_pos_tag_featurizer`.\n",
    "    start_symbol = \"<s>\"\n",
    "    end_symbol = \"</s>\"\n",
    "    \n",
    "    tags = [start_symbol] + get_tags(s) + [end_symbol]\n",
    "    return get_bigrams(tags)\n",
    "\n",
    "\n",
    "def get_bigrams(tags):\n",
    "    \"\"\"Given a list of POS sequences, returns a list of bigram POS sequences\"\"\"\n",
    "    return [t[0] + ' ' + t[1] for t in zip(tags[:-1], tags[1:])]\n",
    "\n",
    "\n",
    "def get_tags(s):\n",
    "    \"\"\"Given a sequence of word/POS elements (lemmas), this function\n",
    "    returns a list containing just the POS elements, in order.\n",
    "    \"\"\"\n",
    "    return [parse_lem(lem)[1] for lem in s.strip().split(' ') if lem]\n",
    "\n",
    "\n",
    "def parse_lem(lem):\n",
    "    \"\"\"Helper method for parsing word/POS elements. It just splits\n",
    "    on the rightmost / and returns (word, POS) as a tuple of str.\"\"\"\n",
    "    return lem.strip().rsplit('/', 1)\n",
    "\n",
    "# Call to `rel_ext.experiment`:\n",
    "middle_bigram_pos_tag_results = rel_ext.experiment(\n",
    "        splits,\n",
    "        train_split='train',\n",
    "        test_split='dev',\n",
    "        featurizers=[middle_bigram_pos_tag_featurizer],\n",
    "        verbose=True)"
   ]
  },
  {
   "cell_type": "code",
   "execution_count": 28,
   "metadata": {},
   "outputs": [],
   "source": [
    "def test_middle_bigram_pos_tag_featurizer(corpus):\n",
    "    from collections import defaultdict\n",
    "    kbt = rel_ext.KBTriple(rel='worked_at', sbj='Randall_Munroe', obj='xkcd')\n",
    "    feature_counter = defaultdict(int)\n",
    "    # Make sure `feature_counter` is being updated, not reinitialized:\n",
    "    feature_counter['<s> VBZ'] += 5\n",
    "    feature_counter = middle_bigram_pos_tag_featurizer(kbt, corpus, feature_counter)\n",
    "    expected = defaultdict(\n",
    "        int, {'<s> VBZ':6,'VBZ DT':1,'DT JJ':1,'JJ VBN':1,'VBN IN':1,'IN </s>':1})\n",
    "    assert feature_counter == expected, \\\n",
    "        \"Expected:\\n{}\\nGot:\\n{}\".format(expected, feature_counter)"
   ]
  },
  {
   "cell_type": "code",
   "execution_count": 29,
   "metadata": {},
   "outputs": [],
   "source": [
    "if 'IS_GRADESCOPE_ENV' not in os.environ:\n",
    "    test_middle_bigram_pos_tag_featurizer(corpus)"
   ]
  },
  {
   "cell_type": "markdown",
   "metadata": {},
   "source": [
    "### Bag of Synsets [2 points]\n",
    "\n",
    "The following allows you to use NLTK's WordNet API to get the synsets compatible with _dog_ as used as a noun:\n",
    "\n",
    "```\n",
    "from nltk.corpus import wordnet as wn\n",
    "dog = wn.synsets('dog', pos='n')\n",
    "dog\n",
    "[Synset('dog.n.01'),\n",
    " Synset('frump.n.01'),\n",
    " Synset('dog.n.03'),\n",
    " Synset('cad.n.01'),\n",
    " Synset('frank.n.02'),\n",
    " Synset('pawl.n.01'),\n",
    " Synset('andiron.n.01')]\n",
    "```\n",
    "\n",
    "This question asks you to create synset-based features from the word/tag pairs in `middle_POS`.\n",
    "\n",
    "__To submit:__\n",
    "\n",
    "1. A feature function `synset_featurizer` that is just like `simple_bag_of_words_featurizer` except that it returns a list of synsets derived from `middle_POS`. Stringify these objects with `str` so that they can be `dict` keys. Use `convert_tag` (included below) to convert tags to `pos` arguments usable by `wn.synsets`. The included function `test_synset_featurizer` should help verify that you've done this correctly.\n",
    "\n",
    "2. A call to `rel_ext.experiment` with `synset_featurizer` as the only featurizer. (Aside from this, use all the default values for `rel_ext.experiment`.)"
   ]
  },
  {
   "cell_type": "code",
   "execution_count": 30,
   "metadata": {},
   "outputs": [
    {
     "name": "stdout",
     "output_type": "stream",
     "text": [
      "relation              precision     recall    f-score    support       size\n",
      "------------------    ---------  ---------  ---------  ---------  ---------\n",
      "adjoins                   0.827      0.324      0.631        340       5716\n",
      "author                    0.790      0.444      0.684        509       5885\n",
      "capital                   0.657      0.242      0.489         95       5471\n",
      "contains                  0.779      0.581      0.729       3904       9280\n",
      "film_performance          0.755      0.552      0.704        766       6142\n",
      "founders                  0.753      0.376      0.627        380       5756\n",
      "genre                     0.410      0.200      0.339        170       5546\n",
      "has_sibling               0.820      0.218      0.529        499       5875\n",
      "has_spouse                0.838      0.305      0.621        594       5970\n",
      "is_a                      0.613      0.223      0.455        497       5873\n",
      "nationality               0.523      0.150      0.349        301       5677\n",
      "parents                   0.843      0.535      0.756        312       5688\n",
      "place_of_birth            0.534      0.202      0.402        233       5609\n",
      "place_of_death            0.345      0.126      0.256        159       5535\n",
      "profession                0.541      0.162      0.368        247       5623\n",
      "worked_at                 0.675      0.231      0.488        242       5618\n",
      "------------------    ---------  ---------  ---------  ---------  ---------\n",
      "macro-average             0.669      0.304      0.527       9248      95264\n"
     ]
    }
   ],
   "source": [
    "from nltk.corpus import wordnet as wn\n",
    "\n",
    "def synset_featurizer(kbt, corpus, feature_counter):\n",
    "\n",
    "    for ex in corpus.get_examples_for_entities(kbt.sbj, kbt.obj):\n",
    "        for synset in get_synsets(ex.middle_POS):\n",
    "            feature_counter[synset] += 1\n",
    "    for ex in corpus.get_examples_for_entities(kbt.obj, kbt.sbj):\n",
    "        for synset in get_synsets(ex.middle_POS):\n",
    "            feature_counter[synset] += 1\n",
    "\n",
    "    return feature_counter\n",
    "\n",
    "\n",
    "def get_synsets(s):\n",
    "    \"\"\"Suggested helper method for `synset_featurizer`. This should\n",
    "    be completed so that it returns a list of stringified Synsets\n",
    "    associated with elements of `s`.\n",
    "    \"\"\"\n",
    "    # Use `parse_lem` from the previous question to get a list of\n",
    "    # (word, POS) pairs. Remember to convert the POS strings.\n",
    "    wt = [parse_lem(lem) for lem in s.strip().split(' ') if lem]\n",
    "\n",
    "    return [str(synset) for p in wt for synset in wn.synsets(p[0], convert_tag(p[1]))]\n",
    "\n",
    "\n",
    "def convert_tag(t):\n",
    "    \"\"\"Converts tags so that they can be used by WordNet:\n",
    "\n",
    "    | Tag begins with | WordNet tag |\n",
    "    |-----------------|-------------|\n",
    "    | `N`             | `n`         |\n",
    "    | `V`             | `v`         |\n",
    "    | `J`             | `a`         |\n",
    "    | `R`             | `r`         |\n",
    "    | Otherwise       | `None`      |\n",
    "    \"\"\"\n",
    "    if t[0].lower() in {'n', 'v', 'r'}:\n",
    "        return t[0].lower()\n",
    "    elif t[0].lower() == 'j':\n",
    "        return 'a'\n",
    "    else:\n",
    "        return None\n",
    "\n",
    "\n",
    "# Call to `rel_ext.experiment`:\n",
    "synset_results = rel_ext.experiment(\n",
    "        splits,\n",
    "        train_split='train',\n",
    "        test_split='dev',\n",
    "        featurizers=[synset_featurizer],\n",
    "        verbose=True)"
   ]
  },
  {
   "cell_type": "code",
   "execution_count": 31,
   "metadata": {},
   "outputs": [],
   "source": [
    "def test_synset_featurizer(corpus):\n",
    "    from collections import defaultdict\n",
    "    kbt = rel_ext.KBTriple(rel='worked_at', sbj='Randall_Munroe', obj='xkcd')\n",
    "    feature_counter = defaultdict(int)\n",
    "    # Make sure `feature_counter` is being updated, not reinitialized:\n",
    "    feature_counter[\"Synset('be.v.01')\"] += 5\n",
    "    feature_counter = synset_featurizer(kbt, corpus, feature_counter)\n",
    "    # The full return values for this tend to be long, so we just\n",
    "    # test a few examples to avoid cluttering up this notebook.\n",
    "    test_cases = {\n",
    "        \"Synset('be.v.01')\": 6,\n",
    "        \"Synset('embody.v.02')\": 1\n",
    "    }\n",
    "    for ss, expected in test_cases.items():\n",
    "        result = feature_counter[ss]\n",
    "        assert result == expected, \\\n",
    "            \"Incorrect count for {}: Expected {}; Got {}\".format(ss, expected, result)"
   ]
  },
  {
   "cell_type": "code",
   "execution_count": 32,
   "metadata": {},
   "outputs": [],
   "source": [
    "if 'IS_GRADESCOPE_ENV' not in os.environ:\n",
    "    test_synset_featurizer(corpus)"
   ]
  },
  {
   "cell_type": "code",
   "execution_count": 33,
   "metadata": {},
   "outputs": [],
   "source": [
    "import nltk\n",
    "from nltk import word_tokenize\n",
    "from nltk.util import ngrams"
   ]
  },
  {
   "cell_type": "code",
   "execution_count": 34,
   "metadata": {},
   "outputs": [],
   "source": [
    "def get_ngrams(tokens, n=1):\n",
    "    if n == 1:\n",
    "        return [' '.join(ngram) for ngram in ngrams(tokens, n)]\n",
    "    else:\n",
    "        return [' '.join(ngram) for ngram \n",
    "                in ngrams(tokens, n, pad_left=True, pad_right=True, \n",
    "                          left_pad_symbol='<s>', right_pad_symbol='</s>')]"
   ]
  },
  {
   "cell_type": "code",
   "execution_count": 35,
   "metadata": {},
   "outputs": [],
   "source": [
    "def directional_middle_unigram_featurizer(kbt, corpus, feature_counter):\n",
    "    subject_object_suffix = \"_SO\"\n",
    "    object_subject_suffix = \"_OS\"\n",
    "\n",
    "    for ex in corpus.get_examples_for_entities(kbt.sbj, kbt.obj):\n",
    "        for ngram in get_ngrams(ex.middle.split(' '), 1):\n",
    "            feature_counter[ngram + subject_object_suffix] += 1\n",
    "    for ex in corpus.get_examples_for_entities(kbt.obj, kbt.sbj):\n",
    "        for ngram in get_ngrams(ex.middle.split(' '), 1):\n",
    "            feature_counter[ngram + object_subject_suffix] += 1\n",
    "\n",
    "    return feature_counter"
   ]
  },
  {
   "cell_type": "code",
   "execution_count": 36,
   "metadata": {},
   "outputs": [],
   "source": [
    "def directional_middle_bigram_featurizer(kbt, corpus, feature_counter):\n",
    "    subject_object_suffix = \"_SO\"\n",
    "    object_subject_suffix = \"_OS\"\n",
    "\n",
    "    for ex in corpus.get_examples_for_entities(kbt.sbj, kbt.obj):\n",
    "        for ngram in get_ngrams(ex.middle.split(' '), 2):\n",
    "            feature_counter[ngram + subject_object_suffix] += 1\n",
    "    for ex in corpus.get_examples_for_entities(kbt.obj, kbt.sbj):\n",
    "        for ngram in get_ngrams(ex.middle.split(' '), 2):\n",
    "            feature_counter[ngram + object_subject_suffix] += 1\n",
    "\n",
    "    return feature_counter"
   ]
  },
  {
   "cell_type": "code",
   "execution_count": 37,
   "metadata": {},
   "outputs": [],
   "source": [
    "def directional_middle_trigram_featurizer(kbt, corpus, feature_counter):\n",
    "    subject_object_suffix = \"_SO\"\n",
    "    object_subject_suffix = \"_OS\"\n",
    "\n",
    "    for ex in corpus.get_examples_for_entities(kbt.sbj, kbt.obj):\n",
    "        for ngram in get_ngrams(ex.middle.split(' '), 3):\n",
    "            feature_counter[ngram + subject_object_suffix] += 1\n",
    "    for ex in corpus.get_examples_for_entities(kbt.obj, kbt.sbj):\n",
    "        for ngram in get_ngrams(ex.middle.split(' '), 3):\n",
    "            feature_counter[ngram + object_subject_suffix] += 1\n",
    "\n",
    "    return feature_counter"
   ]
  },
  {
   "cell_type": "code",
   "execution_count": 38,
   "metadata": {
    "pycharm": {
     "name": "#%%\n"
    }
   },
   "outputs": [],
   "source": [
    "def directional_middle_pos_unigram_featurizer(kbt, corpus, feature_counter):\n",
    "    subject_object_suffix = \"_SO\"\n",
    "    object_subject_suffix = \"_OS\"\n",
    "    \n",
    "    for ex in corpus.get_examples_for_entities(kbt.sbj, kbt.obj):\n",
    "        for ngram in get_ngrams(get_tags(ex.middle_POS), 1):\n",
    "            feature_counter[ngram + subject_object_suffix] += 1\n",
    "    for ex in corpus.get_examples_for_entities(kbt.obj, kbt.sbj):\n",
    "        for ngram in get_ngrams(get_tags(ex.middle_POS), 1):\n",
    "            feature_counter[ngram + object_subject_suffix] += 1\n",
    "\n",
    "    return feature_counter"
   ]
  },
  {
   "cell_type": "code",
   "execution_count": 39,
   "metadata": {
    "pycharm": {
     "name": "#%%\n"
    }
   },
   "outputs": [],
   "source": [
    "def directional_middle_pos_bigram_featurizer(kbt, corpus, feature_counter):\n",
    "    subject_object_suffix = \"_SO\"\n",
    "    object_subject_suffix = \"_OS\"\n",
    "    \n",
    "    for ex in corpus.get_examples_for_entities(kbt.sbj, kbt.obj):\n",
    "        for ngram in get_ngrams(get_tags(ex.middle_POS), 2):\n",
    "            feature_counter[ngram + subject_object_suffix] += 1\n",
    "    for ex in corpus.get_examples_for_entities(kbt.obj, kbt.sbj):\n",
    "        for ngram in get_ngrams(get_tags(ex.middle_POS), 2):\n",
    "            feature_counter[ngram + object_subject_suffix] += 1\n",
    "\n",
    "    return feature_counter"
   ]
  },
  {
   "cell_type": "code",
   "execution_count": 40,
   "metadata": {},
   "outputs": [],
   "source": [
    "def directional_middle_pos_trigram_featurizer(kbt, corpus, feature_counter):\n",
    "    subject_object_suffix = \"_SO\"\n",
    "    object_subject_suffix = \"_OS\"\n",
    "    \n",
    "    for ex in corpus.get_examples_for_entities(kbt.sbj, kbt.obj):\n",
    "        for ngram in get_ngrams(get_tags(ex.middle_POS), 3):\n",
    "            feature_counter[ngram + subject_object_suffix] += 1\n",
    "    for ex in corpus.get_examples_for_entities(kbt.obj, kbt.sbj):\n",
    "        for ngram in get_ngrams(get_tags(ex.middle_POS), 3):\n",
    "            feature_counter[ngram + object_subject_suffix] += 1\n",
    "\n",
    "    return feature_counter"
   ]
  },
  {
   "cell_type": "code",
   "execution_count": 42,
   "metadata": {},
   "outputs": [
    {
     "name": "stderr",
     "output_type": "stream",
     "text": [
      "/opt/miniconda3/envs/nlu/lib/python3.7/site-packages/sklearn/svm/_base.py:977: ConvergenceWarning: Liblinear failed to converge, increase the number of iterations.\n",
      "  \"the number of iterations.\", ConvergenceWarning)\n"
     ]
    },
    {
     "name": "stdout",
     "output_type": "stream",
     "text": [
      "relation              precision     recall    f-score    support       size\n",
      "------------------    ---------  ---------  ---------  ---------  ---------\n",
      "adjoins                   0.868      0.291      0.622        340       5716\n",
      "author                    0.842      0.409      0.695        509       5885\n",
      "capital                   0.450      0.095      0.257         95       5471\n",
      "contains                  0.715      0.428      0.630       3904       9280\n",
      "film_performance          0.780      0.522      0.710        766       6142\n",
      "founders                  0.724      0.166      0.433        380       5756\n",
      "genre                     0.750      0.335      0.601        170       5546\n",
      "has_sibling               0.488      0.040      0.151        499       5875\n",
      "has_spouse                0.775      0.133      0.394        594       5970\n",
      "is_a                      0.594      0.185      0.412        497       5873\n",
      "nationality               0.652      0.100      0.309        301       5677\n",
      "parents                   0.600      0.038      0.153        312       5688\n",
      "place_of_birth            0.421      0.034      0.129        233       5609\n",
      "place_of_death            0.529      0.057      0.198        159       5535\n",
      "profession                0.724      0.445      0.643        247       5623\n",
      "worked_at                 0.629      0.091      0.288        242       5618\n",
      "------------------    ---------  ---------  ---------  ---------  ---------\n",
      "macro-average             0.659      0.211      0.414       9248      95264\n"
     ]
    }
   ],
   "source": [
    "def detailed_entity_mention_pos_featurizer(kbt, corpus, feature_counter):\n",
    "    first_entity_subject_object_suffix = \"_1_SO\"\n",
    "    second_entity_subject_object_suffix = \"_2_SO\"\n",
    "    first_entity_object_subject_suffix = \"_1_OS\"\n",
    "    second_entity_object_subject_suffix = \"_2_OS\"\n",
    "    \n",
    "    for ex in corpus.get_examples_for_entities(kbt.sbj, kbt.obj):\n",
    "        feature_counter[' '.join(get_tags(ex.mention_1_POS)) + first_entity_subject_object_suffix] += 1\n",
    "        feature_counter[' '.join(get_tags(ex.mention_2_POS)) + second_entity_subject_object_suffix] += 1\n",
    "    for ex in corpus.get_examples_for_entities(kbt.obj, kbt.sbj):\n",
    "        feature_counter[' '.join(get_tags(ex.mention_1_POS)) + first_entity_object_subject_suffix] += 1\n",
    "        feature_counter[' '.join(get_tags(ex.mention_2_POS)) + second_entity_object_subject_suffix] += 1\n",
    "            \n",
    "    return feature_counter"
   ]
  },
  {
   "cell_type": "code",
   "execution_count": 43,
   "metadata": {},
   "outputs": [
    {
     "name": "stdout",
     "output_type": "stream",
     "text": [
      "relation              precision     recall    f-score    support       size\n",
      "------------------    ---------  ---------  ---------  ---------  ---------\n",
      "adjoins                   0.870      0.353      0.673        340       5716\n",
      "author                    0.868      0.682      0.823        509       5885\n",
      "capital                   0.703      0.274      0.535         95       5471\n",
      "contains                  0.854      0.746      0.830       3904       9280\n",
      "film_performance          0.890      0.789      0.867        766       6142\n",
      "founders                  0.818      0.521      0.734        380       5756\n",
      "genre                     0.803      0.624      0.759        170       5546\n",
      "has_sibling               0.873      0.275      0.608        499       5875\n",
      "has_spouse                0.876      0.367      0.686        594       5970\n",
      "is_a                      0.744      0.521      0.686        497       5873\n",
      "nationality               0.738      0.392      0.627        301       5677\n",
      "parents                   0.913      0.503      0.785        312       5688\n",
      "place_of_birth            0.727      0.309      0.572        233       5609\n",
      "place_of_death            0.627      0.201      0.441        159       5535\n",
      "profession                0.867      0.583      0.790        247       5623\n",
      "worked_at                 0.853      0.409      0.701        242       5618\n",
      "------------------    ---------  ---------  ---------  ---------  ---------\n",
      "macro-average             0.814      0.472      0.695       9248      95264\n"
     ]
    }
   ],
   "source": [
    "_ = rel_ext.experiment(\n",
    "        splits,\n",
    "        train_split='train',\n",
    "        test_split='dev',\n",
    "        featurizers=[directional_middle_unigram_featurizer, \n",
    "                     directional_middle_bigram_featurizer, \n",
    "                     directional_middle_trigram_featurizer,\n",
    "                     directional_middle_pos_unigram_featurizer, \n",
    "                     directional_middle_pos_bigram_featurizer,\n",
    "                     directional_middle_pos_trigram_featurizer,\n",
    "                     detailed_entity_mention_pos_featurizer],\n",
    "        verbose=True)"
   ]
  },
  {
   "cell_type": "code",
   "execution_count": 50,
   "metadata": {},
   "outputs": [],
   "source": [
    "def middle_len_featurizer(kbt, corpus, feature_counter):\n",
    "    subject_object_suffix = \"_SO\"\n",
    "    object_subject_suffix = \"_OS\"\n",
    "    middle_len_prefix = \"middle_len\"\n",
    "    \n",
    "    middle_len_so = 0\n",
    "    ex_num_so = 0\n",
    "    for ex in corpus.get_examples_for_entities(kbt.sbj, kbt.obj):\n",
    "        middle_len_so += len(ex.middle)\n",
    "        ex_num_so += 1\n",
    "    feature_counter[middle_len_prefix + subject_object_suffix] = 0\n",
    "    if ex_num_so > 0:\n",
    "        feature_counter[middle_len_prefix + subject_object_suffix] = middle_len_so / ex_num_so\n",
    "    \n",
    "    middle_len_os = 0\n",
    "    ex_num_os = 0\n",
    "    for ex in corpus.get_examples_for_entities(kbt.obj, kbt.sbj):\n",
    "        middle_len_os += len(ex.middle)\n",
    "        ex_num_os += 1\n",
    "    feature_counter[middle_len_prefix + object_subject_suffix] = 0\n",
    "    if ex_num_os > 0:\n",
    "        feature_counter[middle_len_prefix + object_subject_suffix] = middle_len_os / ex_num_os\n",
    "\n",
    "    return feature_counter"
   ]
  },
  {
   "cell_type": "code",
   "execution_count": 51,
   "metadata": {},
   "outputs": [
    {
     "name": "stdout",
     "output_type": "stream",
     "text": [
      "relation              precision     recall    f-score    support       size\n",
      "------------------    ---------  ---------  ---------  ---------  ---------\n",
      "adjoins                   0.860      0.415      0.708        340       5716\n",
      "author                    0.888      0.829      0.876        509       5885\n",
      "capital                   0.717      0.347      0.591         95       5471\n",
      "contains                  0.871      0.819      0.860       3904       9280\n",
      "film_performance          0.883      0.787      0.862        766       6142\n",
      "founders                  0.818      0.521      0.734        380       5756\n",
      "genre                     0.786      0.606      0.742        170       5546\n",
      "has_sibling               0.831      0.287      0.602        499       5875\n",
      "has_spouse                0.819      0.389      0.671        594       5970\n",
      "is_a                      0.740      0.509      0.678        497       5873\n",
      "nationality               0.835      0.754      0.817        301       5677\n",
      "parents                   0.893      0.510      0.776        312       5688\n",
      "place_of_birth            0.804      0.545      0.734        233       5609\n",
      "place_of_death            0.635      0.252      0.487        159       5535\n",
      "profession                0.841      0.559      0.764        247       5623\n",
      "worked_at                 0.788      0.446      0.684        242       5618\n",
      "------------------    ---------  ---------  ---------  ---------  ---------\n",
      "macro-average             0.813      0.536      0.724       9248      95264\n"
     ]
    }
   ],
   "source": [
    "_ = rel_ext.experiment(\n",
    "        splits,\n",
    "        train_split='train',\n",
    "        test_split='dev',\n",
    "        featurizers=[directional_middle_unigram_featurizer, \n",
    "                     directional_middle_bigram_featurizer, \n",
    "                     directional_middle_trigram_featurizer,\n",
    "                     directional_middle_pos_unigram_featurizer, \n",
    "                     directional_middle_pos_bigram_featurizer,\n",
    "                     directional_middle_pos_trigram_featurizer,\n",
    "                     detailed_entity_mention_pos_featurizer,\n",
    "                     middle_len_featurizer],\n",
    "        verbose=True)"
   ]
  },
  {
   "cell_type": "code",
   "execution_count": 71,
   "metadata": {},
   "outputs": [],
   "source": [
    "def directional_left_window_1_featurizer(kbt, corpus, feature_counter):\n",
    "    subject_object_suffix = \"_SO\"\n",
    "    object_subject_suffix = \"_OS\"\n",
    "    pad = '#PAD#'\n",
    "    \n",
    "    for ex in corpus.get_examples_for_entities(kbt.sbj, kbt.obj):\n",
    "        feature_counter[([pad] + ex.left.split(' ')[-1:])[-1] + subject_object_suffix] += 1\n",
    "    for ex in corpus.get_examples_for_entities(kbt.obj, kbt.sbj):\n",
    "        feature_counter[([pad] + ex.left.split(' ')[-1:])[-1] + object_subject_suffix] += 1\n",
    "            \n",
    "    return feature_counter"
   ]
  },
  {
   "cell_type": "code",
   "execution_count": 88,
   "metadata": {},
   "outputs": [],
   "source": [
    "def detailed_left_right_window_1_featurizer(kbt, corpus, feature_counter):\n",
    "    left_subject_object_suffix = \"_L_SO\"\n",
    "    left_object_subject_suffix = \"_L_OS\"\n",
    "    right_subject_object_suffix = \"_R_SO\"\n",
    "    right_object_subject_suffix = \"_R_OS\"\n",
    "    pad = '#PAD#'\n",
    "    \n",
    "    for ex in corpus.get_examples_for_entities(kbt.sbj, kbt.obj):\n",
    "        feature_counter[([pad] + ex.left.split(' ')[-1:])[-1] + left_subject_object_suffix] += 1\n",
    "        feature_counter[(ex.right.split(' ')[0:1] + [pad])[0] + right_subject_object_suffix] += 1\n",
    "    for ex in corpus.get_examples_for_entities(kbt.obj, kbt.sbj):\n",
    "        feature_counter[([pad] + ex.left.split(' ')[-1:])[-1] + left_object_subject_suffix] += 1\n",
    "        feature_counter[(ex.right.split(' ')[0:1] + [pad])[0] + right_object_subject_suffix] += 1\n",
    "            \n",
    "    return feature_counter"
   ]
  },
  {
   "cell_type": "code",
   "execution_count": 72,
   "metadata": {},
   "outputs": [
    {
     "name": "stdout",
     "output_type": "stream",
     "text": [
      "relation              precision     recall    f-score    support       size\n",
      "------------------    ---------  ---------  ---------  ---------  ---------\n",
      "adjoins                   0.847      0.441      0.716        340       5716\n",
      "author                    0.884      0.835      0.873        509       5885\n",
      "capital                   0.680      0.358      0.576         95       5471\n",
      "contains                  0.885      0.842      0.876       3904       9280\n",
      "film_performance          0.885      0.800      0.866        766       6142\n",
      "founders                  0.842      0.671      0.801        380       5756\n",
      "genre                     0.800      0.612      0.754        170       5546\n",
      "has_sibling               0.845      0.351      0.659        499       5875\n",
      "has_spouse                0.821      0.402      0.680        594       5970\n",
      "is_a                      0.801      0.706      0.780        497       5873\n",
      "nationality               0.831      0.751      0.814        301       5677\n",
      "parents                   0.869      0.510      0.761        312       5688\n",
      "place_of_birth            0.827      0.575      0.760        233       5609\n",
      "place_of_death            0.651      0.258      0.499        159       5535\n",
      "profession                0.827      0.563      0.756        247       5623\n",
      "worked_at                 0.812      0.446      0.698        242       5618\n",
      "------------------    ---------  ---------  ---------  ---------  ---------\n",
      "macro-average             0.819      0.570      0.742       9248      95264\n"
     ]
    }
   ],
   "source": [
    "_ = rel_ext.experiment(\n",
    "        splits,\n",
    "        train_split='train',\n",
    "        test_split='dev',\n",
    "        featurizers=[directional_middle_unigram_featurizer, \n",
    "                     directional_middle_bigram_featurizer, \n",
    "                     directional_middle_trigram_featurizer,\n",
    "                     directional_middle_pos_unigram_featurizer, \n",
    "                     directional_middle_pos_bigram_featurizer,\n",
    "                     directional_middle_pos_trigram_featurizer,\n",
    "                     detailed_entity_mention_pos_featurizer,\n",
    "                     middle_len_featurizer,\n",
    "                     directional_left_window_1_featurizer],\n",
    "        verbose=True)"
   ]
  },
  {
   "cell_type": "code",
   "execution_count": 95,
   "metadata": {},
   "outputs": [],
   "source": [
    "def detailed_left_right_window_2_featurizer(kbt, corpus, feature_counter):\n",
    "    left_subject_object_suffix = \"_L_SO\"\n",
    "    left_object_subject_suffix = \"_L_OS\"\n",
    "    right_subject_object_suffix = \"_R_SO\"\n",
    "    right_object_subject_suffix = \"_R_OS\"\n",
    "    pad = '#PAD#'\n",
    "    \n",
    "    for ex in corpus.get_examples_for_entities(kbt.sbj, kbt.obj):\n",
    "        feature_counter[' '.join(([pad] * 2 + ex.left.split(' ')[-2:])[-2:]) + left_subject_object_suffix] += 1\n",
    "        feature_counter[' '.join((ex.right.split(' ')[0:2] + [pad] * 2)[0:2]) + right_subject_object_suffix] += 1\n",
    "    for ex in corpus.get_examples_for_entities(kbt.obj, kbt.sbj):\n",
    "        feature_counter[' '.join(([pad] * 2 + ex.left.split(' ')[-2:])[-2:]) + left_object_subject_suffix] += 1\n",
    "        feature_counter[' '.join((ex.right.split(' ')[0:2] + [pad] * 2)[0:2]) + right_object_subject_suffix] += 1\n",
    "            \n",
    "    return feature_counter"
   ]
  },
  {
   "cell_type": "code",
   "execution_count": 98,
   "metadata": {},
   "outputs": [
    {
     "name": "stdout",
     "output_type": "stream",
     "text": [
      "relation              precision     recall    f-score    support       size\n",
      "------------------    ---------  ---------  ---------  ---------  ---------\n",
      "adjoins                   0.876      0.456      0.740        340       5716\n",
      "author                    0.879      0.839      0.870        509       5885\n",
      "capital                   0.712      0.389      0.611         95       5471\n",
      "contains                  0.901      0.855      0.892       3904       9280\n",
      "film_performance          0.889      0.816      0.873        766       6142\n",
      "founders                  0.838      0.668      0.798        380       5756\n",
      "genre                     0.828      0.653      0.786        170       5546\n",
      "has_sibling               0.864      0.357      0.673        499       5875\n",
      "has_spouse                0.806      0.428      0.685        594       5970\n",
      "is_a                      0.808      0.728      0.791        497       5873\n",
      "nationality               0.830      0.761      0.815        301       5677\n",
      "parents                   0.876      0.519      0.770        312       5688\n",
      "place_of_birth            0.796      0.571      0.738        233       5609\n",
      "place_of_death            0.783      0.522      0.712        159       5535\n",
      "profession                0.855      0.761      0.834        247       5623\n",
      "worked_at                 0.818      0.446      0.701        242       5618\n",
      "------------------    ---------  ---------  ---------  ---------  ---------\n",
      "macro-average             0.835      0.611      0.768       9248      95264\n"
     ]
    }
   ],
   "source": [
    "_ = rel_ext.experiment(\n",
    "        splits,\n",
    "        train_split='train',\n",
    "        test_split='dev',\n",
    "        featurizers=[directional_middle_unigram_featurizer, \n",
    "                     directional_middle_bigram_featurizer, \n",
    "                     directional_middle_trigram_featurizer,\n",
    "                     directional_middle_pos_unigram_featurizer, \n",
    "                     directional_middle_pos_bigram_featurizer,\n",
    "                     directional_middle_pos_trigram_featurizer,\n",
    "                     detailed_entity_mention_pos_featurizer,\n",
    "                     middle_len_featurizer,\n",
    "                     detailed_left_right_window_1_featurizer,\n",
    "                     detailed_left_right_window_2_featurizer],\n",
    "        verbose=True)"
   ]
  },
  {
   "cell_type": "code",
   "execution_count": 103,
   "metadata": {},
   "outputs": [],
   "source": [
    "def detailed_left_right_pos_window_1_featurizer(kbt, corpus, feature_counter):\n",
    "    left_subject_object_suffix = \"_L_SO\"\n",
    "    left_object_subject_suffix = \"_L_OS\"\n",
    "    right_subject_object_suffix = \"_R_SO\"\n",
    "    right_object_subject_suffix = \"_R_OS\"\n",
    "    pad = '#PAD#'\n",
    "        \n",
    "    for ex in corpus.get_examples_for_entities(kbt.sbj, kbt.obj):\n",
    "        feature_counter[([pad] + get_tags(ex.left_POS)[-1:])[-1] + left_subject_object_suffix] += 1\n",
    "        feature_counter[(get_tags(ex.right_POS)[0:1] + [pad])[0] + right_subject_object_suffix] += 1\n",
    "    for ex in corpus.get_examples_for_entities(kbt.obj, kbt.sbj):\n",
    "        feature_counter[([pad] + get_tags(ex.left_POS)[-1:])[-1] + left_object_subject_suffix] += 1\n",
    "        feature_counter[(get_tags(ex.right_POS)[0:1] + [pad])[0] + right_object_subject_suffix] += 1\n",
    "            \n",
    "    return feature_counter"
   ]
  },
  {
   "cell_type": "code",
   "execution_count": 105,
   "metadata": {},
   "outputs": [],
   "source": [
    "def detailed_left_right_pos_window_2_featurizer(kbt, corpus, feature_counter):\n",
    "    left_subject_object_suffix = \"_L_SO\"\n",
    "    left_object_subject_suffix = \"_L_OS\"\n",
    "    right_subject_object_suffix = \"_R_SO\"\n",
    "    right_object_subject_suffix = \"_R_OS\"\n",
    "    pad = '#PAD#'\n",
    "    \n",
    "    for ex in corpus.get_examples_for_entities(kbt.sbj, kbt.obj):\n",
    "        feature_counter[' '.join(([pad] * 2 + get_tags(ex.left_POS)[-2:])[-2:]) + left_subject_object_suffix] += 1\n",
    "        feature_counter[' '.join((get_tags(ex.right_POS)[0:2] + [pad] * 2)[0:2]) + right_subject_object_suffix] += 1\n",
    "    for ex in corpus.get_examples_for_entities(kbt.obj, kbt.sbj):\n",
    "        feature_counter[' '.join(([pad] * 2 + get_tags(ex.left_POS)[-2:])[-2:]) + left_object_subject_suffix] += 1\n",
    "        feature_counter[' '.join((get_tags(ex.right_POS)[0:2] + [pad] * 2)[0:2]) + right_object_subject_suffix] += 1\n",
    "            \n",
    "    return feature_counter"
   ]
  },
  {
   "cell_type": "code",
   "execution_count": 106,
   "metadata": {},
   "outputs": [
    {
     "name": "stdout",
     "output_type": "stream",
     "text": [
      "relation              precision     recall    f-score    support       size\n",
      "------------------    ---------  ---------  ---------  ---------  ---------\n",
      "adjoins                   0.863      0.465      0.737        340       5716\n",
      "author                    0.882      0.839      0.873        509       5885\n",
      "capital                   0.720      0.379      0.610         95       5471\n",
      "contains                  0.902      0.854      0.892       3904       9280\n",
      "film_performance          0.888      0.821      0.874        766       6142\n",
      "founders                  0.830      0.692      0.798        380       5756\n",
      "genre                     0.820      0.671      0.785        170       5546\n",
      "has_sibling               0.814      0.387      0.667        499       5875\n",
      "has_spouse                0.759      0.439      0.662        594       5970\n",
      "is_a                      0.804      0.724      0.786        497       5873\n",
      "nationality               0.855      0.781      0.839        301       5677\n",
      "parents                   0.871      0.519      0.767        312       5688\n",
      "place_of_birth            0.794      0.579      0.739        233       5609\n",
      "place_of_death            0.768      0.541      0.708        159       5535\n",
      "profession                0.884      0.769      0.858        247       5623\n",
      "worked_at                 0.779      0.438      0.674        242       5618\n",
      "------------------    ---------  ---------  ---------  ---------  ---------\n",
      "macro-average             0.827      0.619      0.767       9248      95264\n"
     ]
    }
   ],
   "source": [
    "_ = rel_ext.experiment(\n",
    "        splits,\n",
    "        train_split='train',\n",
    "        test_split='dev',\n",
    "        featurizers=[directional_middle_unigram_featurizer, \n",
    "                     directional_middle_bigram_featurizer, \n",
    "                     directional_middle_trigram_featurizer,\n",
    "                     directional_middle_pos_unigram_featurizer, \n",
    "                     directional_middle_pos_bigram_featurizer,\n",
    "                     directional_middle_pos_trigram_featurizer,\n",
    "                     detailed_entity_mention_pos_featurizer,\n",
    "                     middle_len_featurizer,\n",
    "                     detailed_left_right_window_1_featurizer,\n",
    "                     detailed_left_right_window_2_featurizer,\n",
    "                     detailed_left_right_pos_window_1_featurizer,\n",
    "                     detailed_left_right_pos_window_2_featurizer],\n",
    "        verbose=True)"
   ]
  },
  {
   "cell_type": "code",
   "execution_count": 111,
   "metadata": {},
   "outputs": [
    {
     "name": "stdout",
     "output_type": "stream",
     "text": [
      "relation              precision     recall    f-score    support       size\n",
      "------------------    ---------  ---------  ---------  ---------  ---------\n",
      "adjoins                   0.952      0.524      0.818        340       5716\n",
      "author                    0.882      0.778      0.859        509       5885\n",
      "capital                   0.892      0.347      0.679         95       5471\n",
      "contains                  0.907      0.825      0.889       3904       9280\n",
      "film_performance          0.922      0.691      0.864        766       6142\n",
      "founders                  0.908      0.492      0.777        380       5756\n",
      "genre                     0.871      0.318      0.646        170       5546\n",
      "has_sibling               0.917      0.531      0.801        499       5875\n",
      "has_spouse                0.952      0.606      0.855        594       5970\n",
      "is_a                      0.919      0.499      0.786        497       5873\n",
      "nationality               0.925      0.575      0.825        301       5677\n",
      "parents                   0.961      0.638      0.873        312       5688\n",
      "place_of_birth            0.931      0.403      0.738        233       5609\n",
      "place_of_death            0.939      0.289      0.648        159       5535\n",
      "profession                0.939      0.502      0.800        247       5623\n",
      "worked_at                 0.923      0.347      0.693        242       5618\n",
      "------------------    ---------  ---------  ---------  ---------  ---------\n",
      "macro-average             0.921      0.523      0.784       9248      95264\n"
     ]
    }
   ],
   "source": [
    "# from sklearn.ensemble import RandomForestClassifier\n",
    "\n",
    "# rf = lambda: RandomForestClassifier(n_jobs=-1, random_state=42)\n",
    "\n",
    "# _ = rel_ext.experiment(\n",
    "#         splits,\n",
    "#         train_split='train',\n",
    "#         test_split='dev',\n",
    "#         featurizers=[directional_middle_unigram_featurizer, \n",
    "#                      directional_middle_bigram_featurizer, \n",
    "#                      directional_middle_trigram_featurizer,\n",
    "#                      directional_middle_pos_unigram_featurizer, \n",
    "#                      directional_middle_pos_bigram_featurizer,\n",
    "#                      directional_middle_pos_trigram_featurizer,\n",
    "#                      detailed_entity_mention_pos_featurizer,\n",
    "#                      middle_len_featurizer,\n",
    "#                      detailed_left_right_window_1_featurizer,\n",
    "#                      detailed_left_right_window_2_featurizer],\n",
    "#         model_factory=rf,\n",
    "#         verbose=True)\n",
    "\n",
    "# relation              precision     recall    f-score    support       size\n",
    "# ------------------    ---------  ---------  ---------  ---------  ---------\n",
    "# adjoins                   0.952      0.524      0.818        340       5716\n",
    "# author                    0.882      0.778      0.859        509       5885\n",
    "# capital                   0.892      0.347      0.679         95       5471\n",
    "# contains                  0.907      0.825      0.889       3904       9280\n",
    "# film_performance          0.922      0.691      0.864        766       6142\n",
    "# founders                  0.908      0.492      0.777        380       5756\n",
    "# genre                     0.871      0.318      0.646        170       5546\n",
    "# has_sibling               0.917      0.531      0.801        499       5875\n",
    "# has_spouse                0.952      0.606      0.855        594       5970\n",
    "# is_a                      0.919      0.499      0.786        497       5873\n",
    "# nationality               0.925      0.575      0.825        301       5677\n",
    "# parents                   0.961      0.638      0.873        312       5688\n",
    "# place_of_birth            0.931      0.403      0.738        233       5609\n",
    "# place_of_death            0.939      0.289      0.648        159       5535\n",
    "# profession                0.939      0.502      0.800        247       5623\n",
    "# worked_at                 0.923      0.347      0.693        242       5618\n",
    "# ------------------    ---------  ---------  ---------  ---------  ---------\n",
    "# macro-average             0.921      0.523      0.784       9248      95264"
   ]
  },
  {
   "cell_type": "code",
   "execution_count": 116,
   "metadata": {},
   "outputs": [
    {
     "name": "stdout",
     "output_type": "stream",
     "text": [
      "relation              precision     recall    f-score    support       size\n",
      "------------------    ---------  ---------  ---------  ---------  ---------\n",
      "adjoins                   0.967      0.524      0.827        340       5716\n",
      "author                    0.900      0.780      0.873        509       5885\n",
      "capital                   0.919      0.358      0.700         95       5471\n",
      "contains                  0.913      0.827      0.894       3904       9280\n",
      "film_performance          0.925      0.689      0.866        766       6142\n",
      "founders                  0.910      0.476      0.770        380       5756\n",
      "genre                     0.889      0.282      0.622        170       5546\n",
      "has_sibling               0.957      0.531      0.825        499       5875\n",
      "has_spouse                0.949      0.598      0.849        594       5970\n",
      "is_a                      0.931      0.491      0.790        497       5873\n",
      "nationality               0.966      0.561      0.844        301       5677\n",
      "parents                   0.962      0.641      0.874        312       5688\n",
      "place_of_birth            0.949      0.399      0.744        233       5609\n",
      "place_of_death            0.978      0.283      0.656        159       5535\n",
      "profession                0.944      0.478      0.790        247       5623\n",
      "worked_at                 0.919      0.326      0.674        242       5618\n",
      "------------------    ---------  ---------  ---------  ---------  ---------\n",
      "macro-average             0.936      0.515      0.787       9248      95264\n"
     ]
    }
   ],
   "source": [
    "from sklearn.ensemble import RandomForestClassifier\n",
    "\n",
    "rf = lambda: RandomForestClassifier(n_jobs=-1, random_state=42)\n",
    "\n",
    "_ = rel_ext.experiment(\n",
    "        splits,\n",
    "        train_split='train',\n",
    "        test_split='dev',\n",
    "        featurizers=[directional_middle_unigram_featurizer, \n",
    "                     directional_middle_bigram_featurizer, \n",
    "                     directional_middle_trigram_featurizer,\n",
    "                     directional_middle_pos_unigram_featurizer, \n",
    "                     directional_middle_pos_bigram_featurizer,\n",
    "                     directional_middle_pos_trigram_featurizer,\n",
    "                     detailed_entity_mention_pos_featurizer,\n",
    "                     middle_len_featurizer,\n",
    "                     detailed_left_right_window_1_featurizer,\n",
    "                     detailed_left_right_window_2_featurizer,\n",
    "                     detailed_left_right_pos_window_1_featurizer,\n",
    "                     detailed_left_right_pos_window_2_featurizer],\n",
    "        model_factory=rf,\n",
    "        verbose=True)"
   ]
  },
  {
   "cell_type": "code",
   "execution_count": null,
   "metadata": {},
   "outputs": [],
   "source": [
    "from nltk.parse.stanford import StanfordDependencyParser\n",
    "\n",
    "path_to_jar = os.path.join('stanford-parser-4.0.0', 'stanford-parser.jar')\n",
    "path_to_models_jar = os.path.join('stanford-parser-4.0.0', 'stanford-parser-4.0.0-models.jar')\n",
    "\n",
    "dependency_parser = StanfordDependencyParser(path_to_jar=path_to_jar, path_to_models_jar=path_to_models_jar)\n",
    "\n",
    "sentence = 'my name is andrew.'\n",
    "result = list(dependency_parser.raw_parse(sentence))[0]\n",
    "[item for item in result.triples()]"
   ]
  },
  {
   "cell_type": "markdown",
   "metadata": {},
   "source": [
    "### Your original system [3 points]\n",
    "\n",
    "There are many options, and this could easily grow into a project. Here are a few ideas:\n",
    "\n",
    "- Try out different classifier models, from `sklearn` and elsewhere.\n",
    "- Add a feature that indicates the length of the middle.\n",
    "- Augment the bag-of-words representation to include bigrams or trigrams (not just unigrams).\n",
    "- Introduce features based on the entity mentions themselves. <!-- \\[SPOILER: it helps a lot, maybe 4% in F-score. And combines nicely with the directional features.\\] -->\n",
    "- Experiment with features based on the context outside (rather than between) the two entity mentions — that is, the words before the first mention, or after the second.\n",
    "- Try adding features which capture syntactic information, such as the dependency-path features used by Mintz et al. 2009. The [NLTK](https://www.nltk.org/) toolkit contains a variety of [parsing algorithms](http://www.nltk.org/api/nltk.parse.html) that may help.\n",
    "- The bag-of-words representation does not permit generalization across word categories such as names of people, places, or companies. Can we do better using word embeddings such as [GloVe](https://nlp.stanford.edu/projects/glove/)?\n",
    "\n",
    "In the cell below, please provide a brief technical description of your original system, so that the teaching team can gain an understanding of what it does. This will help us to understand your code and analyze all the submissions to identify patterns and strategies. We also ask that you report the best score your system got during development, just to help us understand how systems performed overall."
   ]
  },
  {
   "cell_type": "code",
   "execution_count": 44,
   "metadata": {},
   "outputs": [],
   "source": [
    "# PLEASE MAKE SURE TO INCLUDE THE FOLLOWING BETWEEN THE START AND STOP COMMENTS:\n",
    "#   1) Textual description of your system.\n",
    "#   2) The code for your original system.\n",
    "#   3) The score achieved by your system in place of MY_NUMBER.\n",
    "#        With no other changes to that line.\n",
    "#        You should report your score as a decimal value <=1.0\n",
    "# PLEASE MAKE SURE NOT TO DELETE OR EDIT THE START AND STOP COMMENTS\n",
    "\n",
    "# IMPORT ANY MODULES BELOW THE 'IS_GRADESCOPE_ENV' CHECK CONDITION. DOING\n",
    "# SO ABOVE THE CHECK MAY CAUSE THE AUTOGRADER TO FAIL.\n",
    "\n",
    "# START COMMENT: Enter your system description in this cell.\n",
    "# My peak score was: MY_NUMBER\n",
    "if 'IS_GRADESCOPE_ENV' not in os.environ:\n",
    "    pass\n",
    "\n",
    "# STOP COMMENT: Please do not remove this comment."
   ]
  },
  {
   "cell_type": "markdown",
   "metadata": {},
   "source": [
    "## Bake-off [1 point]\n",
    "\n",
    "For the bake-off, we will release a test set. The announcement will go out on the discussion forum. You will evaluate your custom model from the previous question on these new datasets using the function `rel_ext.bake_off_experiment`. Rules:\n",
    "\n",
    "1. Only one evaluation is permitted.\n",
    "1. No additional system tuning is permitted once the bake-off has started.\n",
    "\n",
    "The cells below this one constitute your bake-off entry.\n",
    "\n",
    "People who enter will receive the additional homework point, and people whose systems achieve the top score will receive an additional 0.5 points. We will test the top-performing systems ourselves, and only systems for which we can reproduce the reported results will win the extra 0.5 points.\n",
    "\n",
    "Late entries will be accepted, but they cannot earn the extra 0.5 points. Similarly, you cannot win the bake-off unless your homework is submitted on time.\n",
    "\n",
    "The announcement will include the details on where to submit your entry."
   ]
  },
  {
   "cell_type": "code",
   "execution_count": 45,
   "metadata": {},
   "outputs": [],
   "source": [
    "# Enter your bake-off assessment code in this cell.\n",
    "# Please do not remove this comment.\n",
    "if 'IS_GRADESCOPE_ENV' not in os.environ:\n",
    "    pass\n",
    "    # Please enter your code in the scope of the above conditional.\n",
    "    ##### YOUR CODE HERE\n"
   ]
  },
  {
   "cell_type": "code",
   "execution_count": 46,
   "metadata": {},
   "outputs": [],
   "source": [
    "# On an otherwise blank line in this cell, please enter\n",
    "# your macro-average f-score (an F_0.5 score) as reported\n",
    "# by the code above. Please enter only a number between\n",
    "# 0 and 1 inclusive. Please do not remove this comment.\n",
    "if 'IS_GRADESCOPE_ENV' not in os.environ:\n",
    "    pass\n",
    "    # Please enter your score in the scope of the above conditional.\n",
    "    ##### YOUR CODE HERE\n"
   ]
  }
 ],
 "metadata": {
  "kernelspec": {
   "display_name": "nlu",
   "language": "python",
   "name": "nlu"
  },
  "language_info": {
   "codemirror_mode": {
    "name": "ipython",
    "version": 3
   },
   "file_extension": ".py",
   "mimetype": "text/x-python",
   "name": "python",
   "nbconvert_exporter": "python",
   "pygments_lexer": "ipython3",
   "version": "3.7.7"
  },
  "widgets": {
   "state": {},
   "version": "1.1.2"
  }
 },
 "nbformat": 4,
 "nbformat_minor": 2
}
